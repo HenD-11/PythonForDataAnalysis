{
 "cells": [
  {
   "cell_type": "markdown",
   "metadata": {},
   "source": [
    "# Projet final \n",
    "--------\n",
    "----\n",
    "### Dataset : \"Smartphone-Based Recognition of Human Activities and Postural Transitions\"\n",
    "#### - Henri Duhamel ESILV A5 -\n",
    "----"
   ]
  },
  {
   "cell_type": "markdown",
   "metadata": {},
   "source": [
    "### 1. Imports"
   ]
  },
  {
   "cell_type": "code",
   "execution_count": 1,
   "metadata": {
    "scrolled": true
   },
   "outputs": [],
   "source": [
    "import numpy   as np\n",
    "import pandas  as pd\n",
    "import seaborn as sn\n",
    "\n",
    "import matplotlib.pyplot as plt\n",
    "%matplotlib inline\n",
    "\n",
    "from sklearn                 import svm, tree\n",
    "from sklearn.tree            import DecisionTreeClassifier\n",
    "from sklearn.model_selection import train_test_split, GridSearchCV\n",
    "from sklearn.metrics         import classification_report, confusion_matrix\n",
    "from sklearn.ensemble        import RandomForestClassifier\n",
    "from sklearn.neighbors       import KNeighborsClassifier"
   ]
  },
  {
   "cell_type": "code",
   "execution_count": 2,
   "metadata": {},
   "outputs": [],
   "source": [
    "import warnings\n",
    "warnings.filterwarnings(\"ignore\") #used to remove future warnings"
   ]
  },
  {
   "cell_type": "markdown",
   "metadata": {},
   "source": [
    "### 2. Formatage et importation des données"
   ]
  },
  {
   "cell_type": "code",
   "execution_count": 3,
   "metadata": {
    "scrolled": false
   },
   "outputs": [
    {
     "data": {
      "text/html": [
       "<div>\n",
       "<style scoped>\n",
       "    .dataframe tbody tr th:only-of-type {\n",
       "        vertical-align: middle;\n",
       "    }\n",
       "\n",
       "    .dataframe tbody tr th {\n",
       "        vertical-align: top;\n",
       "    }\n",
       "\n",
       "    .dataframe thead th {\n",
       "        text-align: right;\n",
       "    }\n",
       "</style>\n",
       "<table border=\"1\" class=\"dataframe\">\n",
       "  <thead>\n",
       "    <tr style=\"text-align: right;\">\n",
       "      <th></th>\n",
       "      <th>0</th>\n",
       "      <th>1</th>\n",
       "      <th>2</th>\n",
       "      <th>3</th>\n",
       "      <th>4</th>\n",
       "      <th>5</th>\n",
       "      <th>6</th>\n",
       "      <th>7</th>\n",
       "      <th>8</th>\n",
       "      <th>9</th>\n",
       "      <th>...</th>\n",
       "      <th>551</th>\n",
       "      <th>552</th>\n",
       "      <th>553</th>\n",
       "      <th>554</th>\n",
       "      <th>555</th>\n",
       "      <th>556</th>\n",
       "      <th>557</th>\n",
       "      <th>558</th>\n",
       "      <th>559</th>\n",
       "      <th>560</th>\n",
       "    </tr>\n",
       "  </thead>\n",
       "  <tbody>\n",
       "    <tr>\n",
       "      <th>0</th>\n",
       "      <td>0.043580</td>\n",
       "      <td>-0.005970</td>\n",
       "      <td>-0.035054</td>\n",
       "      <td>-0.995381</td>\n",
       "      <td>-0.988366</td>\n",
       "      <td>-0.937382</td>\n",
       "      <td>-0.995007</td>\n",
       "      <td>-0.988816</td>\n",
       "      <td>-0.953325</td>\n",
       "      <td>-0.794796</td>\n",
       "      <td>...</td>\n",
       "      <td>-0.012236</td>\n",
       "      <td>-0.314848</td>\n",
       "      <td>-0.713308</td>\n",
       "      <td>-0.112754</td>\n",
       "      <td>0.030400</td>\n",
       "      <td>-0.464761</td>\n",
       "      <td>-0.018446</td>\n",
       "      <td>-0.841559</td>\n",
       "      <td>0.179913</td>\n",
       "      <td>-0.051718</td>\n",
       "    </tr>\n",
       "    <tr>\n",
       "      <th>1</th>\n",
       "      <td>0.039480</td>\n",
       "      <td>-0.002131</td>\n",
       "      <td>-0.029067</td>\n",
       "      <td>-0.998348</td>\n",
       "      <td>-0.982945</td>\n",
       "      <td>-0.971273</td>\n",
       "      <td>-0.998702</td>\n",
       "      <td>-0.983315</td>\n",
       "      <td>-0.974000</td>\n",
       "      <td>-0.802537</td>\n",
       "      <td>...</td>\n",
       "      <td>0.202804</td>\n",
       "      <td>-0.603199</td>\n",
       "      <td>-0.860677</td>\n",
       "      <td>0.053477</td>\n",
       "      <td>-0.007435</td>\n",
       "      <td>-0.732626</td>\n",
       "      <td>0.703511</td>\n",
       "      <td>-0.845092</td>\n",
       "      <td>0.180261</td>\n",
       "      <td>-0.047436</td>\n",
       "    </tr>\n",
       "    <tr>\n",
       "      <th>2</th>\n",
       "      <td>0.039978</td>\n",
       "      <td>-0.005153</td>\n",
       "      <td>-0.022651</td>\n",
       "      <td>-0.995482</td>\n",
       "      <td>-0.977314</td>\n",
       "      <td>-0.984760</td>\n",
       "      <td>-0.996415</td>\n",
       "      <td>-0.975835</td>\n",
       "      <td>-0.985973</td>\n",
       "      <td>-0.798477</td>\n",
       "      <td>...</td>\n",
       "      <td>0.440079</td>\n",
       "      <td>-0.404427</td>\n",
       "      <td>-0.761847</td>\n",
       "      <td>-0.118559</td>\n",
       "      <td>0.177899</td>\n",
       "      <td>0.100699</td>\n",
       "      <td>0.808529</td>\n",
       "      <td>-0.849230</td>\n",
       "      <td>0.180610</td>\n",
       "      <td>-0.042271</td>\n",
       "    </tr>\n",
       "    <tr>\n",
       "      <th>3</th>\n",
       "      <td>0.039785</td>\n",
       "      <td>-0.011809</td>\n",
       "      <td>-0.028916</td>\n",
       "      <td>-0.996194</td>\n",
       "      <td>-0.988569</td>\n",
       "      <td>-0.993256</td>\n",
       "      <td>-0.996994</td>\n",
       "      <td>-0.988526</td>\n",
       "      <td>-0.993135</td>\n",
       "      <td>-0.798477</td>\n",
       "      <td>...</td>\n",
       "      <td>0.430891</td>\n",
       "      <td>-0.138373</td>\n",
       "      <td>-0.491604</td>\n",
       "      <td>-0.036788</td>\n",
       "      <td>-0.012892</td>\n",
       "      <td>0.640011</td>\n",
       "      <td>-0.485366</td>\n",
       "      <td>-0.848947</td>\n",
       "      <td>0.181907</td>\n",
       "      <td>-0.040826</td>\n",
       "    </tr>\n",
       "    <tr>\n",
       "      <th>4</th>\n",
       "      <td>0.038758</td>\n",
       "      <td>-0.002289</td>\n",
       "      <td>-0.023863</td>\n",
       "      <td>-0.998241</td>\n",
       "      <td>-0.986774</td>\n",
       "      <td>-0.993115</td>\n",
       "      <td>-0.998216</td>\n",
       "      <td>-0.986479</td>\n",
       "      <td>-0.993825</td>\n",
       "      <td>-0.801982</td>\n",
       "      <td>...</td>\n",
       "      <td>0.137735</td>\n",
       "      <td>-0.366214</td>\n",
       "      <td>-0.702490</td>\n",
       "      <td>0.123320</td>\n",
       "      <td>0.122542</td>\n",
       "      <td>0.693578</td>\n",
       "      <td>-0.615971</td>\n",
       "      <td>-0.848164</td>\n",
       "      <td>0.185124</td>\n",
       "      <td>-0.037080</td>\n",
       "    </tr>\n",
       "  </tbody>\n",
       "</table>\n",
       "<p>5 rows × 561 columns</p>\n",
       "</div>"
      ],
      "text/plain": [
       "        0         1         2         3         4         5         6    \\\n",
       "0  0.043580 -0.005970 -0.035054 -0.995381 -0.988366 -0.937382 -0.995007   \n",
       "1  0.039480 -0.002131 -0.029067 -0.998348 -0.982945 -0.971273 -0.998702   \n",
       "2  0.039978 -0.005153 -0.022651 -0.995482 -0.977314 -0.984760 -0.996415   \n",
       "3  0.039785 -0.011809 -0.028916 -0.996194 -0.988569 -0.993256 -0.996994   \n",
       "4  0.038758 -0.002289 -0.023863 -0.998241 -0.986774 -0.993115 -0.998216   \n",
       "\n",
       "        7         8         9    ...       551       552       553       554  \\\n",
       "0 -0.988816 -0.953325 -0.794796  ... -0.012236 -0.314848 -0.713308 -0.112754   \n",
       "1 -0.983315 -0.974000 -0.802537  ...  0.202804 -0.603199 -0.860677  0.053477   \n",
       "2 -0.975835 -0.985973 -0.798477  ...  0.440079 -0.404427 -0.761847 -0.118559   \n",
       "3 -0.988526 -0.993135 -0.798477  ...  0.430891 -0.138373 -0.491604 -0.036788   \n",
       "4 -0.986479 -0.993825 -0.801982  ...  0.137735 -0.366214 -0.702490  0.123320   \n",
       "\n",
       "        555       556       557       558       559       560  \n",
       "0  0.030400 -0.464761 -0.018446 -0.841559  0.179913 -0.051718  \n",
       "1 -0.007435 -0.732626  0.703511 -0.845092  0.180261 -0.047436  \n",
       "2  0.177899  0.100699  0.808529 -0.849230  0.180610 -0.042271  \n",
       "3 -0.012892  0.640011 -0.485366 -0.848947  0.181907 -0.040826  \n",
       "4  0.122542  0.693578 -0.615971 -0.848164  0.185124 -0.037080  \n",
       "\n",
       "[5 rows x 561 columns]"
      ]
     },
     "execution_count": 3,
     "metadata": {},
     "output_type": "execute_result"
    }
   ],
   "source": [
    "data_train = pd.read_csv('Train/X_train.txt', sep=\" \", header=None)\n",
    "data_train.head(5)"
   ]
  },
  {
   "cell_type": "code",
   "execution_count": 4,
   "metadata": {},
   "outputs": [],
   "source": [
    "f = open('Train/y_train.txt', 'r')\n",
    "y = f.readlines()  #y = y_train.txt file\n",
    "f.close()"
   ]
  },
  {
   "cell_type": "code",
   "execution_count": 5,
   "metadata": {},
   "outputs": [
    {
     "data": {
      "text/html": [
       "<div>\n",
       "<style scoped>\n",
       "    .dataframe tbody tr th:only-of-type {\n",
       "        vertical-align: middle;\n",
       "    }\n",
       "\n",
       "    .dataframe tbody tr th {\n",
       "        vertical-align: top;\n",
       "    }\n",
       "\n",
       "    .dataframe thead th {\n",
       "        text-align: right;\n",
       "    }\n",
       "</style>\n",
       "<table border=\"1\" class=\"dataframe\">\n",
       "  <thead>\n",
       "    <tr style=\"text-align: right;\">\n",
       "      <th></th>\n",
       "      <th>0</th>\n",
       "      <th>1</th>\n",
       "      <th>2</th>\n",
       "      <th>3</th>\n",
       "      <th>4</th>\n",
       "      <th>5</th>\n",
       "      <th>6</th>\n",
       "      <th>7</th>\n",
       "      <th>8</th>\n",
       "      <th>9</th>\n",
       "      <th>...</th>\n",
       "      <th>552</th>\n",
       "      <th>553</th>\n",
       "      <th>554</th>\n",
       "      <th>555</th>\n",
       "      <th>556</th>\n",
       "      <th>557</th>\n",
       "      <th>558</th>\n",
       "      <th>559</th>\n",
       "      <th>560</th>\n",
       "      <th>Class</th>\n",
       "    </tr>\n",
       "  </thead>\n",
       "  <tbody>\n",
       "    <tr>\n",
       "      <th>0</th>\n",
       "      <td>0.043580</td>\n",
       "      <td>-0.005970</td>\n",
       "      <td>-0.035054</td>\n",
       "      <td>-0.995381</td>\n",
       "      <td>-0.988366</td>\n",
       "      <td>-0.937382</td>\n",
       "      <td>-0.995007</td>\n",
       "      <td>-0.988816</td>\n",
       "      <td>-0.953325</td>\n",
       "      <td>-0.794796</td>\n",
       "      <td>...</td>\n",
       "      <td>-0.314848</td>\n",
       "      <td>-0.713308</td>\n",
       "      <td>-0.112754</td>\n",
       "      <td>0.030400</td>\n",
       "      <td>-0.464761</td>\n",
       "      <td>-0.018446</td>\n",
       "      <td>-0.841559</td>\n",
       "      <td>0.179913</td>\n",
       "      <td>-0.051718</td>\n",
       "      <td>5</td>\n",
       "    </tr>\n",
       "    <tr>\n",
       "      <th>1</th>\n",
       "      <td>0.039480</td>\n",
       "      <td>-0.002131</td>\n",
       "      <td>-0.029067</td>\n",
       "      <td>-0.998348</td>\n",
       "      <td>-0.982945</td>\n",
       "      <td>-0.971273</td>\n",
       "      <td>-0.998702</td>\n",
       "      <td>-0.983315</td>\n",
       "      <td>-0.974000</td>\n",
       "      <td>-0.802537</td>\n",
       "      <td>...</td>\n",
       "      <td>-0.603199</td>\n",
       "      <td>-0.860677</td>\n",
       "      <td>0.053477</td>\n",
       "      <td>-0.007435</td>\n",
       "      <td>-0.732626</td>\n",
       "      <td>0.703511</td>\n",
       "      <td>-0.845092</td>\n",
       "      <td>0.180261</td>\n",
       "      <td>-0.047436</td>\n",
       "      <td>5</td>\n",
       "    </tr>\n",
       "    <tr>\n",
       "      <th>2</th>\n",
       "      <td>0.039978</td>\n",
       "      <td>-0.005153</td>\n",
       "      <td>-0.022651</td>\n",
       "      <td>-0.995482</td>\n",
       "      <td>-0.977314</td>\n",
       "      <td>-0.984760</td>\n",
       "      <td>-0.996415</td>\n",
       "      <td>-0.975835</td>\n",
       "      <td>-0.985973</td>\n",
       "      <td>-0.798477</td>\n",
       "      <td>...</td>\n",
       "      <td>-0.404427</td>\n",
       "      <td>-0.761847</td>\n",
       "      <td>-0.118559</td>\n",
       "      <td>0.177899</td>\n",
       "      <td>0.100699</td>\n",
       "      <td>0.808529</td>\n",
       "      <td>-0.849230</td>\n",
       "      <td>0.180610</td>\n",
       "      <td>-0.042271</td>\n",
       "      <td>5</td>\n",
       "    </tr>\n",
       "  </tbody>\n",
       "</table>\n",
       "<p>3 rows × 562 columns</p>\n",
       "</div>"
      ],
      "text/plain": [
       "          0         1         2         3         4         5         6  \\\n",
       "0  0.043580 -0.005970 -0.035054 -0.995381 -0.988366 -0.937382 -0.995007   \n",
       "1  0.039480 -0.002131 -0.029067 -0.998348 -0.982945 -0.971273 -0.998702   \n",
       "2  0.039978 -0.005153 -0.022651 -0.995482 -0.977314 -0.984760 -0.996415   \n",
       "\n",
       "          7         8         9  ...       552       553       554       555  \\\n",
       "0 -0.988816 -0.953325 -0.794796  ... -0.314848 -0.713308 -0.112754  0.030400   \n",
       "1 -0.983315 -0.974000 -0.802537  ... -0.603199 -0.860677  0.053477 -0.007435   \n",
       "2 -0.975835 -0.985973 -0.798477  ... -0.404427 -0.761847 -0.118559  0.177899   \n",
       "\n",
       "        556       557       558       559       560  Class  \n",
       "0 -0.464761 -0.018446 -0.841559  0.179913 -0.051718      5  \n",
       "1 -0.732626  0.703511 -0.845092  0.180261 -0.047436      5  \n",
       "2  0.100699  0.808529 -0.849230  0.180610 -0.042271      5  \n",
       "\n",
       "[3 rows x 562 columns]"
      ]
     },
     "execution_count": 5,
     "metadata": {},
     "output_type": "execute_result"
    }
   ],
   "source": [
    "classification=list(map(lambda x:x.strip(),y)) # Remove '\\n' at the end of each element of the list\n",
    "data_train['Class'] = classification #new column (class) added to the dataframe: data\n",
    "data_train.head(3) #On peut voir ci dessous qu'on a bien la class (position) ajoutée au df"
   ]
  },
  {
   "cell_type": "code",
   "execution_count": 6,
   "metadata": {},
   "outputs": [],
   "source": [
    "#Meme manip pour le dossier Test\n",
    "data_test= pd.read_csv('Test/X_test.txt', sep=\" \", header=None)\n",
    "f = open('Test/y_test.txt', 'r')\n",
    "y = f.readlines()  #y = y_train.txt file\n",
    "f.close()\n",
    "classification_test=list(map(lambda x:x.strip(),y)) # Remove '\\n' at the end of each element of the list\n",
    "data_test['Class'] = classification_test #new column (class) added to the dataframe: data_test"
   ]
  },
  {
   "cell_type": "code",
   "execution_count": 7,
   "metadata": {},
   "outputs": [],
   "source": [
    "x_train = data_train.drop('Class', axis=1)\n",
    "y_train = data_train['Class']\n",
    "x_test  = data_test.drop('Class', axis=1)\n",
    "y_test  = data_test['Class']"
   ]
  },
  {
   "cell_type": "markdown",
   "metadata": {},
   "source": [
    "### 3. Classification des données avec DecisionTreeClassifier"
   ]
  },
  {
   "cell_type": "code",
   "execution_count": 8,
   "metadata": {
    "scrolled": true
   },
   "outputs": [
    {
     "data": {
      "text/plain": [
       "DecisionTreeClassifier(class_weight=None, criterion='gini', max_depth=None,\n",
       "                       max_features=None, max_leaf_nodes=None,\n",
       "                       min_impurity_decrease=0.0, min_impurity_split=None,\n",
       "                       min_samples_leaf=1, min_samples_split=2,\n",
       "                       min_weight_fraction_leaf=0.0, presort=False,\n",
       "                       random_state=None, splitter='best')"
      ]
     },
     "execution_count": 8,
     "metadata": {},
     "output_type": "execute_result"
    }
   ],
   "source": [
    "classifier = DecisionTreeClassifier()\n",
    "classifier.fit(x_train, y_train)"
   ]
  },
  {
   "cell_type": "code",
   "execution_count": 9,
   "metadata": {},
   "outputs": [],
   "source": [
    "y_pred = classifier.predict(x_test)"
   ]
  },
  {
   "cell_type": "code",
   "execution_count": 10,
   "metadata": {},
   "outputs": [
    {
     "data": {
      "image/png": "[encoded data removed]",
      "text/plain": [
       "<Figure size 432x288 with 2 Axes>"
      ]
     },
     "metadata": {
      "needs_background": "light"
     },
     "output_type": "display_data"
    },
    {
     "name": "stdout",
     "output_type": "stream",
     "text": [
      "              precision    recall  f1-score   support\n",
      "\n",
      "           1       0.80      0.77      0.78       496\n",
      "          10       0.58      0.60      0.59        25\n",
      "          11       0.62      0.59      0.60        49\n",
      "          12       0.64      0.59      0.62        27\n",
      "           2       0.67      0.76      0.71       471\n",
      "           3       0.83      0.75      0.79       420\n",
      "           4       0.83      0.80      0.81       508\n",
      "           5       0.82      0.85      0.84       556\n",
      "           6       1.00      0.99      0.99       545\n",
      "           7       0.59      0.74      0.65        23\n",
      "           8       0.80      0.80      0.80        10\n",
      "           9       0.58      0.59      0.58        32\n",
      "\n",
      "    accuracy                           0.81      3162\n",
      "   macro avg       0.73      0.74      0.73      3162\n",
      "weighted avg       0.82      0.81      0.82      3162\n",
      "\n"
     ]
    }
   ],
   "source": [
    "sn.heatmap(confusion_matrix(y_test, y_pred), annot=True, annot_kws={\"size\": 12}, cmap = plt.cm.Reds, fmt='g') \n",
    "sn.set(font_scale = 1.2) \n",
    "plt.show()\n",
    "print(classification_report(y_test, y_pred))"
   ]
  },
  {
   "cell_type": "code",
   "execution_count": 11,
   "metadata": {},
   "outputs": [
    {
     "data": {
      "text/plain": [
       "<matplotlib.collections.PathCollection at 0x28ef0cbfe48>"
      ]
     },
     "execution_count": 11,
     "metadata": {},
     "output_type": "execute_result"
    },
    {
     "data": {
      "image/png": "[encoded data removed]",
      "text/plain": [
       "<Figure size 432x288 with 1 Axes>"
      ]
     },
     "metadata": {},
     "output_type": "display_data"
    }
   ],
   "source": [
    "#prediction against true values\n",
    "plt.scatter(x=y_test, y=classifier.predict(x_test))"
   ]
  },
  {
   "cell_type": "code",
   "execution_count": 12,
   "metadata": {
    "scrolled": true
   },
   "outputs": [
    {
     "name": "stdout",
     "output_type": "stream",
     "text": [
      "0.814674256799494\n"
     ]
    }
   ],
   "source": [
    "dtc_score = classifier.score(x_test,y_test)\n",
    "print(dtc_score)"
   ]
  },
  {
   "cell_type": "code",
   "execution_count": 13,
   "metadata": {},
   "outputs": [
    {
     "data": {
      "text/plain": [
       "[Text(94.11306058309557, 212.71304347826086, 'X[49] <= 0.092\\nentropy = 0.845\\nsamples = 7767\\nvalue = [1226, 60, 90, 57, 1073, 987, 1293, 1423, 1413, 47\\n23, 75]'),\n",
       " Text(29.5716119828816, 203.2591304347826, 'X[9] <= -0.239\\nentropy = 0.022\\nsamples = 1412\\nvalue = [0, 7, 0, 9, 0, 0, 0, 0, 1396, 0, 0, 0]'),\n",
       " Text(27.024393723252498, 193.80521739130435, 'X[116] <= 0.883\\nentropy = 0.001\\nsamples = 1397\\nvalue = [0, 0, 0, 1, 0, 0, 0, 0, 1396, 0, 0, 0]'),\n",
       " Text(25.750784593437945, 184.3513043478261, 'entropy = 0.0\\nsamples = 1396\\nvalue = [0, 0, 0, 0, 0, 0, 0, 0, 1396, 0, 0, 0]'),\n",
       " Text(28.298002853067047, 184.3513043478261, 'entropy = 0.0\\nsamples = 1\\nvalue = [0, 0, 0, 1, 0, 0, 0, 0, 0, 0, 0, 0]'),\n",
       " Text(32.1188302425107, 193.80521739130435, 'X[380] <= -0.863\\nentropy = 0.498\\nsamples = 15\\nvalue = [0, 7, 0, 8, 0, 0, 0, 0, 0, 0, 0, 0]'),\n",
       " Text(30.845221112696148, 184.3513043478261, 'entropy = 0.0\\nsamples = 8\\nvalue = [0, 0, 0, 8, 0, 0, 0, 0, 0, 0, 0, 0]'),\n",
       " Text(33.39243937232525, 184.3513043478261, 'entropy = 0.0\\nsamples = 7\\nvalue = [0, 7, 0, 0, 0, 0, 0, 0, 0, 0, 0, 0]'),\n",
       " Text(158.65450918330956, 203.2591304347826, 'X[310] <= -0.969\\nentropy = 0.818\\nsamples = 6355\\nvalue = [1226, 53, 90, 48, 1073, 987, 1293, 1423, 17, 47\\n23, 75]'),\n",
       " Text(55.562442047075606, 193.80521739130435, 'X[41] <= -0.078\\nentropy = 0.502\\nsamples = 2718\\nvalue = [0, 0, 4, 0, 0, 0, 1285, 1423, 2, 1, 0, 3]'),\n",
       " Text(35.939657631954354, 184.3513043478261, 'X[139] <= -0.998\\nentropy = 0.157\\nsamples = 1352\\nvalue = [0, 0, 3, 0, 0, 0, 112, 1236, 0, 1, 0, 0]'),\n",
       " Text(33.39243937232525, 174.89739130434782, 'X[531] <= -0.997\\nentropy = 0.278\\nsamples = 24\\nvalue = [0, 0, 0, 0, 0, 0, 20, 4, 0, 0, 0, 0]'),\n",
       " Text(32.1188302425107, 165.44347826086957, 'entropy = 0.0\\nsamples = 4\\nvalue = [0, 0, 0, 0, 0, 0, 0, 4, 0, 0, 0, 0]'),\n",
       " Text(34.6660485021398, 165.44347826086957, 'entropy = 0.0\\nsamples = 20\\nvalue = [0, 0, 0, 0, 0, 0, 20, 0, 0, 0, 0, 0]'),\n",
       " Text(38.48687589158345, 174.89739130434782, 'X[129] <= -0.915\\nentropy = 0.135\\nsamples = 1328\\nvalue = [0, 0, 3, 0, 0, 0, 92, 1232, 0, 1, 0, 0]'),\n",
       " Text(37.2132667617689, 165.44347826086957, 'entropy = 0.0\\nsamples = 9\\nvalue = [0, 0, 0, 0, 0, 0, 9, 0, 0, 0, 0, 0]'),\n",
       " Text(39.760485021398004, 165.44347826086957, 'X[157] <= 0.734\\nentropy = 0.124\\nsamples = 1319\\nvalue = [0, 0, 3, 0, 0, 0, 83, 1232, 0, 1, 0, 0]'),\n",
       " Text(29.054208273894435, 155.98956521739132, 'X[187] <= 0.22\\nentropy = 0.11\\nsamples = 1302\\nvalue = [0, 0, 3, 0, 0, 0, 72, 1226, 0, 1, 0, 0]'),\n",
       " Text(17.98972895863053, 146.53565217391304, 'X[127] <= -0.615\\nentropy = 0.066\\nsamples = 1089\\nvalue = [0, 0, 2, 0, 0, 0, 34, 1052, 0, 1, 0, 0]'),\n",
       " Text(16.716119828815977, 137.08173913043478, 'X[197] <= 0.474\\nentropy = 0.062\\nsamples = 1087\\nvalue = [0, 0, 0, 0, 0, 0, 34, 1052, 0, 1, 0, 0]'),\n",
       " Text(13.532097004279601, 127.62782608695652, 'X[204] <= -1.0\\nentropy = 0.053\\nsamples = 1069\\nvalue = [0, 0, 0, 0, 0, 0, 28, 1040, 0, 1, 0, 0]'),\n",
       " Text(10.9848787446505, 118.17391304347825, 'X[530] <= -0.982\\nentropy = 0.444\\nsamples = 3\\nvalue = [0, 0, 0, 0, 0, 0, 2, 1, 0, 0, 0, 0]'),\n",
       " Text(9.711269614835949, 108.72, 'entropy = 0.0\\nsamples = 2\\nvalue = [0, 0, 0, 0, 0, 0, 2, 0, 0, 0, 0, 0]'),\n",
       " Text(12.25848787446505, 108.72, 'entropy = 0.0\\nsamples = 1\\nvalue = [0, 0, 0, 0, 0, 0, 0, 1, 0, 0, 0, 0]'),\n",
       " Text(16.0793152639087, 118.17391304347825, 'X[496] <= -0.908\\nentropy = 0.049\\nsamples = 1066\\nvalue = [0, 0, 0, 0, 0, 0, 26, 1039, 0, 1, 0, 0]'),\n",
       " Text(14.805706134094152, 108.72, 'X[277] <= -1.0\\nentropy = 0.048\\nsamples = 1065\\nvalue = [0, 0, 0, 0, 0, 0, 26, 1039, 0, 0, 0, 0]'),\n",
       " Text(13.532097004279601, 99.26608695652173, 'entropy = 0.0\\nsamples = 1\\nvalue = [0, 0, 0, 0, 0, 0, 1, 0, 0, 0, 0, 0]'),\n",
       " Text(16.0793152639087, 99.26608695652173, 'X[46] <= -1.0\\nentropy = 0.046\\nsamples = 1064\\nvalue = [0, 0, 0, 0, 0, 0, 25, 1039, 0, 0, 0, 0]'),\n",
       " Text(14.805706134094152, 89.81217391304348, 'entropy = 0.0\\nsamples = 1\\nvalue = [0, 0, 0, 0, 0, 0, 1, 0, 0, 0, 0, 0]'),\n",
       " Text(17.352924393723253, 89.81217391304348, 'X[64] <= 0.517\\nentropy = 0.044\\nsamples = 1063\\nvalue = [0, 0, 0, 0, 0, 0, 24, 1039, 0, 0, 0, 0]'),\n",
       " Text(16.0793152639087, 80.35826086956521, 'X[150] <= 0.218\\nentropy = 0.042\\nsamples = 1062\\nvalue = [0, 0, 0, 0, 0, 0, 23, 1039, 0, 0, 0, 0]'),\n",
       " Text(10.507275320970043, 70.90434782608696, 'X[162] <= -0.135\\nentropy = 0.012\\nsamples = 805\\nvalue = [0, 0, 0, 0, 0, 0, 5, 800, 0, 0, 0, 0]'),\n",
       " Text(9.233666191155493, 61.45043478260868, 'entropy = 0.0\\nsamples = 1\\nvalue = [0, 0, 0, 0, 0, 0, 1, 0, 0, 0, 0, 0]'),\n",
       " Text(11.780884450784594, 61.45043478260868, 'X[376] <= -0.229\\nentropy = 0.01\\nsamples = 804\\nvalue = [0, 0, 0, 0, 0, 0, 4, 800, 0, 0, 0, 0]'),\n",
       " Text(8.27845934379458, 51.99652173913043, 'X[132] <= 0.857\\nentropy = 0.007\\nsamples = 801\\nvalue = [0, 0, 0, 0, 0, 0, 3, 798, 0, 0, 0, 0]'),\n",
       " Text(5.094436519258203, 42.54260869565218, 'X[196] <= -0.346\\nentropy = 0.005\\nsamples = 797\\nvalue = [0, 0, 0, 0, 0, 0, 2, 795, 0, 0, 0, 0]'),\n",
       " Text(2.5472182596291013, 33.0886956521739, 'X[15] <= -0.964\\nentropy = 0.375\\nsamples = 4\\nvalue = [0, 0, 0, 0, 0, 0, 1, 3, 0, 0, 0, 0]'),\n",
       " Text(1.2736091298145507, 23.634782608695645, 'entropy = 0.0\\nsamples = 3\\nvalue = [0, 0, 0, 0, 0, 0, 0, 3, 0, 0, 0, 0]'),\n",
       " Text(3.820827389443652, 23.634782608695645, 'entropy = 0.0\\nsamples = 1\\nvalue = [0, 0, 0, 0, 0, 0, 1, 0, 0, 0, 0, 0]'),\n",
       " Text(7.641654778887304, 33.0886956521739, 'X[32] <= 0.503\\nentropy = 0.003\\nsamples = 793\\nvalue = [0, 0, 0, 0, 0, 0, 1, 792, 0, 0, 0, 0]'),\n",
       " Text(6.368045649072753, 23.634782608695645, 'entropy = 0.0\\nsamples = 784\\nvalue = [0, 0, 0, 0, 0, 0, 0, 784, 0, 0, 0, 0]'),\n",
       " Text(8.915263908701855, 23.634782608695645, 'X[51] <= 0.219\\nentropy = 0.198\\nsamples = 9\\nvalue = [0, 0, 0, 0, 0, 0, 1, 8, 0, 0, 0, 0]'),\n",
       " Text(7.641654778887304, 14.180869565217392, 'entropy = 0.0\\nsamples = 8\\nvalue = [0, 0, 0, 0, 0, 0, 0, 8, 0, 0, 0, 0]'),\n",
       " Text(10.188873038516405, 14.180869565217392, 'entropy = 0.0\\nsamples = 1\\nvalue = [0, 0, 0, 0, 0, 0, 1, 0, 0, 0, 0, 0]'),\n",
       " Text(11.462482168330956, 42.54260869565218, 'X[147] <= 0.26\\nentropy = 0.375\\nsamples = 4\\nvalue = [0, 0, 0, 0, 0, 0, 1, 3, 0, 0, 0, 0]'),\n",
       " Text(10.188873038516405, 33.0886956521739, 'entropy = 0.0\\nsamples = 3\\nvalue = [0, 0, 0, 0, 0, 0, 0, 3, 0, 0, 0, 0]'),\n",
       " Text(12.736091298145507, 33.0886956521739, 'entropy = 0.0\\nsamples = 1\\nvalue = [0, 0, 0, 0, 0, 0, 1, 0, 0, 0, 0, 0]'),\n",
       " Text(15.283309557774608, 51.99652173913043, 'X[19] <= -0.991\\nentropy = 0.444\\nsamples = 3\\nvalue = [0, 0, 0, 0, 0, 0, 1, 2, 0, 0, 0, 0]'),\n",
       " Text(14.009700427960057, 42.54260869565218, 'entropy = 0.0\\nsamples = 2\\nvalue = [0, 0, 0, 0, 0, 0, 0, 2, 0, 0, 0, 0]'),\n",
       " Text(16.55691868758916, 42.54260869565218, 'entropy = 0.0\\nsamples = 1\\nvalue = [0, 0, 0, 0, 0, 0, 1, 0, 0, 0, 0, 0]'),\n",
       " Text(21.651355206847363, 70.90434782608696, 'X[123] <= -0.985\\nentropy = 0.13\\nsamples = 257\\nvalue = [0, 0, 0, 0, 0, 0, 18, 239, 0, 0, 0, 0]'),\n",
       " Text(19.104136947218258, 61.45043478260868, 'X[504] <= -0.977\\nentropy = 0.494\\nsamples = 27\\nvalue = [0, 0, 0, 0, 0, 0, 12, 15, 0, 0, 0, 0]'),\n",
       " Text(17.83052781740371, 51.99652173913043, 'entropy = 0.0\\nsamples = 14\\nvalue = [0, 0, 0, 0, 0, 0, 0, 14, 0, 0, 0, 0]'),\n",
       " Text(20.37774607703281, 51.99652173913043, 'X[227] <= -0.968\\nentropy = 0.142\\nsamples = 13\\nvalue = [0, 0, 0, 0, 0, 0, 12, 1, 0, 0, 0, 0]'),\n",
       " Text(19.104136947218258, 42.54260869565218, 'entropy = 0.0\\nsamples = 12\\nvalue = [0, 0, 0, 0, 0, 0, 12, 0, 0, 0, 0, 0]'),\n",
       " Text(21.651355206847363, 42.54260869565218, 'entropy = 0.0\\nsamples = 1\\nvalue = [0, 0, 0, 0, 0, 0, 0, 1, 0, 0, 0, 0]'),\n",
       " Text(24.19857346647646, 61.45043478260868, 'X[190] <= -0.04\\nentropy = 0.051\\nsamples = 230\\nvalue = [0, 0, 0, 0, 0, 0, 6, 224, 0, 0, 0, 0]'),\n",
       " Text(22.924964336661912, 51.99652173913043, 'entropy = 0.0\\nsamples = 2\\nvalue = [0, 0, 0, 0, 0, 0, 2, 0, 0, 0, 0, 0]'),\n",
       " Text(25.472182596291013, 51.99652173913043, 'X[66] <= -0.097\\nentropy = 0.034\\nsamples = 228\\nvalue = [0, 0, 0, 0, 0, 0, 4, 224, 0, 0, 0, 0]'),\n",
       " Text(24.19857346647646, 42.54260869565218, 'entropy = 0.0\\nsamples = 1\\nvalue = [0, 0, 0, 0, 0, 0, 1, 0, 0, 0, 0, 0]'),\n",
       " Text(26.745791726105566, 42.54260869565218, 'X[142] <= -0.941\\nentropy = 0.026\\nsamples = 227\\nvalue = [0, 0, 0, 0, 0, 0, 3, 224, 0, 0, 0, 0]'),\n",
       " Text(25.472182596291013, 33.0886956521739, 'entropy = 0.0\\nsamples = 1\\nvalue = [0, 0, 0, 0, 0, 0, 1, 0, 0, 0, 0, 0]'),\n",
       " Text(28.019400855920114, 33.0886956521739, 'X[290] <= 0.433\\nentropy = 0.018\\nsamples = 226\\nvalue = [0, 0, 0, 0, 0, 0, 2, 224, 0, 0, 0, 0]'),\n",
       " Text(26.745791726105566, 23.634782608695645, 'X[115] <= -0.327\\nentropy = 0.009\\nsamples = 225\\nvalue = [0, 0, 0, 0, 0, 0, 1, 224, 0, 0, 0, 0]'),\n",
       " Text(25.472182596291013, 14.180869565217392, 'X[233] <= -0.96\\nentropy = 0.444\\nsamples = 3\\nvalue = [0, 0, 0, 0, 0, 0, 1, 2, 0, 0, 0, 0]'),\n",
       " Text(24.19857346647646, 4.726956521739112, 'entropy = 0.0\\nsamples = 1\\nvalue = [0, 0, 0, 0, 0, 0, 1, 0, 0, 0, 0, 0]'),\n",
       " Text(26.745791726105566, 4.726956521739112, 'entropy = 0.0\\nsamples = 2\\nvalue = [0, 0, 0, 0, 0, 0, 0, 2, 0, 0, 0, 0]'),\n",
       " Text(28.019400855920114, 14.180869565217392, 'entropy = 0.0\\nsamples = 222\\nvalue = [0, 0, 0, 0, 0, 0, 0, 222, 0, 0, 0, 0]'),\n",
       " Text(29.293009985734663, 23.634782608695645, 'entropy = 0.0\\nsamples = 1\\nvalue = [0, 0, 0, 0, 0, 0, 1, 0, 0, 0, 0, 0]'),\n",
       " Text(18.626533523537802, 80.35826086956521, 'entropy = 0.0\\nsamples = 1\\nvalue = [0, 0, 0, 0, 0, 0, 1, 0, 0, 0, 0, 0]'),\n",
       " Text(17.352924393723253, 108.72, 'entropy = 0.0\\nsamples = 1\\nvalue = [0, 0, 0, 0, 0, 0, 0, 0, 0, 1, 0, 0]'),\n",
       " Text(19.900142653352354, 127.62782608695652, 'X[314] <= -1.0\\nentropy = 0.444\\nsamples = 18\\nvalue = [0, 0, 0, 0, 0, 0, 6, 12, 0, 0, 0, 0]'),\n",
       " Text(18.626533523537802, 118.17391304347825, 'entropy = 0.0\\nsamples = 11\\nvalue = [0, 0, 0, 0, 0, 0, 0, 11, 0, 0, 0, 0]'),\n",
       " Text(21.173751783166903, 118.17391304347825, 'X[303] <= -0.998\\nentropy = 0.245\\nsamples = 7\\nvalue = [0, 0, 0, 0, 0, 0, 6, 1, 0, 0, 0, 0]'),\n",
       " Text(19.900142653352354, 108.72, 'entropy = 0.0\\nsamples = 6\\nvalue = [0, 0, 0, 0, 0, 0, 6, 0, 0, 0, 0, 0]'),\n",
       " Text(22.447360912981456, 108.72, 'entropy = 0.0\\nsamples = 1\\nvalue = [0, 0, 0, 0, 0, 0, 0, 1, 0, 0, 0, 0]'),\n",
       " Text(19.263338088445078, 137.08173913043478, 'entropy = 0.0\\nsamples = 2\\nvalue = [0, 0, 2, 0, 0, 0, 0, 0, 0, 0, 0, 0]'),\n",
       " Text(40.11868758915835, 146.53565217391304, 'X[133] <= 0.889\\nentropy = 0.301\\nsamples = 213\\nvalue = [0, 0, 1, 0, 0, 0, 38, 174, 0, 0, 0, 0]'),\n",
       " Text(34.86504992867332, 137.08173913043478, 'X[129] <= -0.887\\nentropy = 0.476\\nsamples = 96\\nvalue = [0, 0, 1, 0, 0, 0, 35, 60, 0, 0, 0, 0]'),\n",
       " Text(30.725820256776036, 127.62782608695652, 'X[113] <= 0.181\\nentropy = 0.489\\nsamples = 61\\nvalue = [0, 0, 0, 0, 0, 0, 35, 26, 0, 0, 0, 0]'),\n",
       " Text(26.268188302425106, 118.17391304347825, 'X[119] <= 0.317\\nentropy = 0.147\\nsamples = 25\\nvalue = [0, 0, 0, 0, 0, 0, 23, 2, 0, 0, 0, 0]'),\n",
       " Text(24.994579172610557, 108.72, 'entropy = 0.0\\nsamples = 22\\nvalue = [0, 0, 0, 0, 0, 0, 22, 0, 0, 0, 0, 0]'),\n",
       " Text(27.541797432239658, 108.72, 'X[128] <= -0.964\\nentropy = 0.444\\nsamples = 3\\nvalue = [0, 0, 0, 0, 0, 0, 1, 2, 0, 0, 0, 0]'),\n",
       " Text(26.268188302425106, 99.26608695652173, 'entropy = 0.0\\nsamples = 1\\nvalue = [0, 0, 0, 0, 0, 0, 1, 0, 0, 0, 0, 0]'),\n",
       " Text(28.815406562054207, 99.26608695652173, 'entropy = 0.0\\nsamples = 2\\nvalue = [0, 0, 0, 0, 0, 0, 0, 2, 0, 0, 0, 0]'),\n",
       " Text(35.18345221112696, 118.17391304347825, 'X[81] <= 0.021\\nentropy = 0.444\\nsamples = 36\\nvalue = [0, 0, 0, 0, 0, 0, 12, 24, 0, 0, 0, 0]'),\n",
       " Text(32.63623395149786, 108.72, 'X[25] <= 0.266\\nentropy = 0.293\\nsamples = 28\\nvalue = [0, 0, 0, 0, 0, 0, 5, 23, 0, 0, 0, 0]'),\n",
       " Text(31.36262482168331, 99.26608695652173, 'entropy = 0.0\\nsamples = 20\\nvalue = [0, 0, 0, 0, 0, 0, 0, 20, 0, 0, 0, 0]'),\n",
       " Text(33.90984308131241, 99.26608695652173, 'X[107] <= 0.498\\nentropy = 0.469\\nsamples = 8\\nvalue = [0, 0, 0, 0, 0, 0, 5, 3, 0, 0, 0, 0]'),\n",
       " Text(32.63623395149786, 89.81217391304348, 'entropy = 0.0\\nsamples = 5\\nvalue = [0, 0, 0, 0, 0, 0, 5, 0, 0, 0, 0, 0]'),\n",
       " Text(35.18345221112696, 89.81217391304348, 'entropy = 0.0\\nsamples = 3\\nvalue = [0, 0, 0, 0, 0, 0, 0, 3, 0, 0, 0, 0]'),\n",
       " Text(37.73067047075606, 108.72, 'X[294] <= 0.317\\nentropy = 0.219\\nsamples = 8\\nvalue = [0, 0, 0, 0, 0, 0, 7, 1, 0, 0, 0, 0]'),\n",
       " Text(36.457061340941515, 99.26608695652173, 'entropy = 0.0\\nsamples = 7\\nvalue = [0, 0, 0, 0, 0, 0, 7, 0, 0, 0, 0, 0]'),\n",
       " Text(39.00427960057061, 99.26608695652173, 'entropy = 0.0\\nsamples = 1\\nvalue = [0, 0, 0, 0, 0, 0, 0, 1, 0, 0, 0, 0]'),\n",
       " Text(39.00427960057061, 127.62782608695652, 'X[87] <= -0.687\\nentropy = 0.056\\nsamples = 35\\nvalue = [0, 0, 1, 0, 0, 0, 0, 34, 0, 0, 0, 0]'),\n",
       " Text(37.73067047075606, 118.17391304347825, 'entropy = 0.0\\nsamples = 34\\nvalue = [0, 0, 0, 0, 0, 0, 0, 34, 0, 0, 0, 0]'),\n",
       " Text(40.277888730385165, 118.17391304347825, 'entropy = 0.0\\nsamples = 1\\nvalue = [0, 0, 1, 0, 0, 0, 0, 0, 0, 0, 0, 0]'),\n",
       " Text(45.37232524964337, 137.08173913043478, 'X[158] <= 0.622\\nentropy = 0.05\\nsamples = 117\\nvalue = [0, 0, 0, 0, 0, 0, 3, 114, 0, 0, 0, 0]'),\n",
       " Text(44.098716119828815, 127.62782608695652, 'X[352] <= -0.998\\nentropy = 0.017\\nsamples = 115\\nvalue = [0, 0, 0, 0, 0, 0, 1, 114, 0, 0, 0, 0]'),\n",
       " Text(42.82510699001426, 118.17391304347825, 'entropy = 0.0\\nsamples = 1\\nvalue = [0, 0, 0, 0, 0, 0, 1, 0, 0, 0, 0, 0]'),\n",
       " Text(45.37232524964337, 118.17391304347825, 'entropy = 0.0\\nsamples = 114\\nvalue = [0, 0, 0, 0, 0, 0, 0, 114, 0, 0, 0, 0]'),\n",
       " Text(46.64593437945792, 127.62782608695652, 'entropy = 0.0\\nsamples = 2\\nvalue = [0, 0, 0, 0, 0, 0, 2, 0, 0, 0, 0, 0]'),\n",
       " Text(50.46676176890157, 155.98956521739132, 'X[58] <= -0.974\\nentropy = 0.457\\nsamples = 17\\nvalue = [0, 0, 0, 0, 0, 0, 11, 6, 0, 0, 0, 0]'),\n",
       " Text(49.19315263908702, 146.53565217391304, 'X[207] <= -0.904\\nentropy = 0.245\\nsamples = 7\\nvalue = [0, 0, 0, 0, 0, 0, 1, 6, 0, 0, 0, 0]'),\n",
       " Text(47.919543509272465, 137.08173913043478, 'entropy = 0.0\\nsamples = 6\\nvalue = [0, 0, 0, 0, 0, 0, 0, 6, 0, 0, 0, 0]'),\n",
       " Text(50.46676176890157, 137.08173913043478, 'entropy = 0.0\\nsamples = 1\\nvalue = [0, 0, 0, 0, 0, 0, 1, 0, 0, 0, 0, 0]'),\n",
       " Text(51.74037089871612, 146.53565217391304, 'entropy = 0.0\\nsamples = 10\\nvalue = [0, 0, 0, 0, 0, 0, 10, 0, 0, 0, 0, 0]'),\n",
       " Text(75.18522646219687, 184.3513043478261, 'X[57] <= -1.0\\nentropy = 0.244\\nsamples = 1366\\nvalue = [0, 0, 1, 0, 0, 0, 1173, 187, 2, 0, 0, 3]'),\n",
       " Text(56.834807417974325, 174.89739130434782, 'X[51] <= 0.058\\nentropy = 0.455\\nsamples = 97\\nvalue = [0, 0, 0, 0, 0, 0, 34, 63, 0, 0, 0, 0]'),\n",
       " Text(54.28758915834522, 165.44347826086957, 'X[157] <= -0.637\\nentropy = 0.083\\nsamples = 46\\nvalue = [0, 0, 0, 0, 0, 0, 2, 44, 0, 0, 0, 0]'),\n",
       " Text(53.01398002853067, 155.98956521739132, 'entropy = 0.0\\nsamples = 2\\nvalue = [0, 0, 0, 0, 0, 0, 2, 0, 0, 0, 0, 0]'),\n",
       " Text(55.56119828815977, 155.98956521739132, 'entropy = 0.0\\nsamples = 44\\nvalue = [0, 0, 0, 0, 0, 0, 0, 44, 0, 0, 0, 0]'),\n",
       " Text(59.38202567760342, 165.44347826086957, 'X[136] <= -1.0\\nentropy = 0.468\\nsamples = 51\\nvalue = [0, 0, 0, 0, 0, 0, 32, 19, 0, 0, 0, 0]'),\n",
       " Text(58.10841654778887, 155.98956521739132, 'entropy = 0.0\\nsamples = 30\\nvalue = [0, 0, 0, 0, 0, 0, 30, 0, 0, 0, 0, 0]'),\n",
       " Text(60.655634807417975, 155.98956521739132, 'X[259] <= -0.994\\nentropy = 0.172\\nsamples = 21\\nvalue = [0, 0, 0, 0, 0, 0, 2, 19, 0, 0, 0, 0]'),\n",
       " Text(59.38202567760342, 146.53565217391304, 'entropy = 0.0\\nsamples = 2\\nvalue = [0, 0, 0, 0, 0, 0, 2, 0, 0, 0, 0, 0]'),\n",
       " Text(61.92924393723253, 146.53565217391304, 'entropy = 0.0\\nsamples = 19\\nvalue = [0, 0, 0, 0, 0, 0, 0, 19, 0, 0, 0, 0]'),\n",
       " Text(93.5356455064194, 174.89739130434782, 'X[451] <= -0.256\\nentropy = 0.185\\nsamples = 1269\\nvalue = [0, 0, 1, 0, 0, 0, 1139, 124, 2, 0, 0, 3]'),\n",
       " Text(74.50613409415121, 165.44347826086957, 'X[50] <= 0.048\\nentropy = 0.521\\nsamples = 124\\nvalue = [0, 0, 0, 0, 0, 0, 65, 56, 1, 0, 0, 2]'),\n",
       " Text(67.97888730385164, 155.98956521739132, 'X[198] <= -0.159\\nentropy = 0.439\\nsamples = 77\\nvalue = [0, 0, 0, 0, 0, 0, 25, 52, 0, 0, 0, 0]'),\n",
       " Text(64.47646219686163, 146.53565217391304, 'X[199] <= 0.197\\nentropy = 0.408\\nsamples = 21\\nvalue = [0, 0, 0, 0, 0, 0, 15, 6, 0, 0, 0, 0]'),\n",
       " Text(63.20285306704707, 137.08173913043478, 'X[284] <= -0.938\\nentropy = 0.117\\nsamples = 16\\nvalue = [0, 0, 0, 0, 0, 0, 15, 1, 0, 0, 0, 0]'),\n",
       " Text(61.92924393723253, 127.62782608695652, 'entropy = 0.0\\nsamples = 15\\nvalue = [0, 0, 0, 0, 0, 0, 15, 0, 0, 0, 0, 0]'),\n",
       " Text(64.47646219686163, 127.62782608695652, 'entropy = 0.0\\nsamples = 1\\nvalue = [0, 0, 0, 0, 0, 0, 0, 1, 0, 0, 0, 0]'),\n",
       " Text(65.75007132667618, 137.08173913043478, 'entropy = 0.0\\nsamples = 5\\nvalue = [0, 0, 0, 0, 0, 0, 0, 5, 0, 0, 0, 0]'),\n",
       " Text(71.48131241084165, 146.53565217391304, 'X[112] <= -0.162\\nentropy = 0.293\\nsamples = 56\\nvalue = [0, 0, 0, 0, 0, 0, 10, 46, 0, 0, 0, 0]'),\n",
       " Text(68.29728958630528, 137.08173913043478, 'X[186] <= 0.04\\nentropy = 0.408\\nsamples = 7\\nvalue = [0, 0, 0, 0, 0, 0, 5, 2, 0, 0, 0, 0]'),\n",
       " Text(67.02368045649072, 127.62782608695652, 'entropy = 0.0\\nsamples = 2\\nvalue = [0, 0, 0, 0, 0, 0, 0, 2, 0, 0, 0, 0]'),\n",
       " Text(69.57089871611983, 127.62782608695652, 'entropy = 0.0\\nsamples = 5\\nvalue = [0, 0, 0, 0, 0, 0, 5, 0, 0, 0, 0, 0]'),\n",
       " Text(74.66533523537804, 137.08173913043478, 'X[539] <= -0.494\\nentropy = 0.183\\nsamples = 49\\nvalue = [0, 0, 0, 0, 0, 0, 5, 44, 0, 0, 0, 0]'),\n",
       " Text(72.11811697574893, 127.62782608695652, 'X[533] <= -0.924\\nentropy = 0.375\\nsamples = 4\\nvalue = [0, 0, 0, 0, 0, 0, 3, 1, 0, 0, 0, 0]'),\n",
       " Text(70.84450784593437, 118.17391304347825, 'entropy = 0.0\\nsamples = 3\\nvalue = [0, 0, 0, 0, 0, 0, 3, 0, 0, 0, 0, 0]'),\n",
       " Text(73.39172610556348, 118.17391304347825, 'entropy = 0.0\\nsamples = 1\\nvalue = [0, 0, 0, 0, 0, 0, 0, 1, 0, 0, 0, 0]'),\n",
       " Text(77.21255349500713, 127.62782608695652, 'X[157] <= -0.833\\nentropy = 0.085\\nsamples = 45\\nvalue = [0, 0, 0, 0, 0, 0, 2, 43, 0, 0, 0, 0]'),\n",
       " Text(75.93894436519258, 118.17391304347825, 'entropy = 0.0\\nsamples = 1\\nvalue = [0, 0, 0, 0, 0, 0, 1, 0, 0, 0, 0, 0]'),\n",
       " Text(78.48616262482169, 118.17391304347825, 'X[156] <= -0.377\\nentropy = 0.044\\nsamples = 44\\nvalue = [0, 0, 0, 0, 0, 0, 1, 43, 0, 0, 0, 0]'),\n",
       " Text(77.21255349500713, 108.72, 'entropy = 0.0\\nsamples = 1\\nvalue = [0, 0, 0, 0, 0, 0, 1, 0, 0, 0, 0, 0]'),\n",
       " Text(79.75977175463623, 108.72, 'entropy = 0.0\\nsamples = 43\\nvalue = [0, 0, 0, 0, 0, 0, 0, 43, 0, 0, 0, 0]'),\n",
       " Text(81.03338088445078, 155.98956521739132, 'X[51] <= -0.104\\nentropy = 0.266\\nsamples = 47\\nvalue = [0, 0, 0, 0, 0, 0, 40, 4, 1, 0, 0, 2]'),\n",
       " Text(79.75977175463623, 146.53565217391304, 'entropy = 0.0\\nsamples = 4\\nvalue = [0, 0, 0, 0, 0, 0, 0, 4, 0, 0, 0, 0]'),\n",
       " Text(82.30699001426534, 146.53565217391304, 'X[141] <= -0.605\\nentropy = 0.132\\nsamples = 43\\nvalue = [0, 0, 0, 0, 0, 0, 40, 0, 1, 0, 0, 2]'),\n",
       " Text(81.03338088445078, 137.08173913043478, 'X[313] <= -0.978\\nentropy = 0.048\\nsamples = 41\\nvalue = [0, 0, 0, 0, 0, 0, 40, 0, 1, 0, 0, 0]'),\n",
       " Text(79.75977175463623, 127.62782608695652, 'entropy = 0.0\\nsamples = 40\\nvalue = [0, 0, 0, 0, 0, 0, 40, 0, 0, 0, 0, 0]'),\n",
       " Text(82.30699001426534, 127.62782608695652, 'entropy = 0.0\\nsamples = 1\\nvalue = [0, 0, 0, 0, 0, 0, 0, 0, 1, 0, 0, 0]'),\n",
       " Text(83.58059914407988, 137.08173913043478, 'entropy = 0.0\\nsamples = 2\\nvalue = [0, 0, 0, 0, 0, 0, 0, 0, 0, 0, 0, 2]'),\n",
       " Text(112.56515691868759, 165.44347826086957, 'X[429] <= -0.92\\nentropy = 0.117\\nsamples = 1145\\nvalue = [0, 0, 1, 0, 0, 0, 1074, 68, 1, 0, 0, 1]'),\n",
       " Text(104.93345221112696, 155.98956521739132, 'X[159] <= 0.672\\nentropy = 0.088\\nsamples = 1104\\nvalue = [0, 0, 0, 0, 0, 0, 1053, 51, 0, 0, 0, 0]'),\n",
       " Text(97.94850213980028, 146.53565217391304, 'X[50] <= 0.035\\nentropy = 0.07\\nsamples = 1073\\nvalue = [0, 0, 0, 0, 0, 0, 1034, 39, 0, 0, 0, 0]'),\n",
       " Text(90.3466476462197, 137.08173913043478, 'X[468] <= -1.0\\nentropy = 0.195\\nsamples = 347\\nvalue = [0, 0, 0, 0, 0, 0, 309, 38, 0, 0, 0, 0]'),\n",
       " Text(84.85420827389444, 127.62782608695652, 'X[217] <= -1.0\\nentropy = 0.021\\nsamples = 192\\nvalue = [0, 0, 0, 0, 0, 0, 190, 2, 0, 0, 0, 0]'),\n",
       " Text(83.58059914407988, 118.17391304347825, 'entropy = 0.0\\nsamples = 1\\nvalue = [0, 0, 0, 0, 0, 0, 0, 1, 0, 0, 0, 0]'),\n",
       " Text(86.12781740370899, 118.17391304347825, 'X[28] <= -0.434\\nentropy = 0.01\\nsamples = 191\\nvalue = [0, 0, 0, 0, 0, 0, 190, 1, 0, 0, 0, 0]'),\n",
       " Text(84.85420827389444, 108.72, 'entropy = 0.0\\nsamples = 1\\nvalue = [0, 0, 0, 0, 0, 0, 0, 1, 0, 0, 0, 0]'),\n",
       " Text(87.40142653352353, 108.72, 'entropy = 0.0\\nsamples = 190\\nvalue = [0, 0, 0, 0, 0, 0, 190, 0, 0, 0, 0, 0]'),\n",
       " Text(95.83908701854493, 127.62782608695652, 'X[430] <= -0.988\\nentropy = 0.357\\nsamples = 155\\nvalue = [0, 0, 0, 0, 0, 0, 119, 36, 0, 0, 0, 0]'),\n",
       " Text(91.22225392296718, 118.17391304347825, 'X[421] <= -1.0\\nentropy = 0.278\\nsamples = 24\\nvalue = [0, 0, 0, 0, 0, 0, 4, 20, 0, 0, 0, 0]'),\n",
       " Text(89.94864479315264, 108.72, 'entropy = 0.0\\nsamples = 20\\nvalue = [0, 0, 0, 0, 0, 0, 0, 20, 0, 0, 0, 0]'),\n",
       " Text(92.49586305278174, 108.72, 'entropy = 0.0\\nsamples = 4\\nvalue = [0, 0, 0, 0, 0, 0, 4, 0, 0, 0, 0, 0]'),\n",
       " Text(100.45592011412268, 118.17391304347825, 'X[293] <= 0.271\\nentropy = 0.214\\nsamples = 131\\nvalue = [0, 0, 0, 0, 0, 0, 115, 16, 0, 0, 0, 0]'),\n",
       " Text(95.04308131241085, 108.72, 'X[493] <= -1.0\\nentropy = 0.128\\nsamples = 116\\nvalue = [0, 0, 0, 0, 0, 0, 108, 8, 0, 0, 0, 0]'),\n",
       " Text(91.85905848787446, 99.26608695652173, 'X[221] <= -0.584\\nentropy = 0.375\\nsamples = 4\\nvalue = [0, 0, 0, 0, 0, 0, 1, 3, 0, 0, 0, 0]'),\n",
       " Text(90.58544935805992, 89.81217391304348, 'entropy = 0.0\\nsamples = 1\\nvalue = [0, 0, 0, 0, 0, 0, 1, 0, 0, 0, 0, 0]'),\n",
       " Text(93.13266761768902, 89.81217391304348, 'entropy = 0.0\\nsamples = 3\\nvalue = [0, 0, 0, 0, 0, 0, 0, 3, 0, 0, 0, 0]'),\n",
       " Text(98.22710413694722, 99.26608695652173, 'X[152] <= 0.601\\nentropy = 0.085\\nsamples = 112\\nvalue = [0, 0, 0, 0, 0, 0, 107, 5, 0, 0, 0, 0]'),\n",
       " Text(95.67988587731811, 89.81217391304348, 'X[481] <= -1.0\\nentropy = 0.054\\nsamples = 109\\nvalue = [0, 0, 0, 0, 0, 0, 106, 3, 0, 0, 0, 0]'),\n",
       " Text(94.40627674750357, 80.35826086956521, 'entropy = 0.0\\nsamples = 1\\nvalue = [0, 0, 0, 0, 0, 0, 0, 1, 0, 0, 0, 0]'),\n",
       " Text(96.95349500713267, 80.35826086956521, 'X[240] <= -0.989\\nentropy = 0.036\\nsamples = 108\\nvalue = [0, 0, 0, 0, 0, 0, 106, 2, 0, 0, 0, 0]'),\n",
       " Text(95.67988587731811, 70.90434782608696, 'entropy = 0.0\\nsamples = 1\\nvalue = [0, 0, 0, 0, 0, 0, 0, 1, 0, 0, 0, 0]'),\n",
       " Text(98.22710413694722, 70.90434782608696, 'X[335] <= -1.0\\nentropy = 0.019\\nsamples = 107\\nvalue = [0, 0, 0, 0, 0, 0, 106, 1, 0, 0, 0, 0]'),\n",
       " Text(96.95349500713267, 61.45043478260868, 'entropy = 0.0\\nsamples = 1\\nvalue = [0, 0, 0, 0, 0, 0, 0, 1, 0, 0, 0, 0]'),\n",
       " Text(99.50071326676176, 61.45043478260868, 'entropy = 0.0\\nsamples = 106\\nvalue = [0, 0, 0, 0, 0, 0, 106, 0, 0, 0, 0, 0]'),\n",
       " Text(100.77432239657632, 89.81217391304348, 'X[333] <= -0.997\\nentropy = 0.444\\nsamples = 3\\nvalue = [0, 0, 0, 0, 0, 0, 1, 2, 0, 0, 0, 0]'),\n",
       " Text(99.50071326676176, 80.35826086956521, 'entropy = 0.0\\nsamples = 2\\nvalue = [0, 0, 0, 0, 0, 0, 0, 2, 0, 0, 0, 0]'),\n",
       " Text(102.04793152639087, 80.35826086956521, 'entropy = 0.0\\nsamples = 1\\nvalue = [0, 0, 0, 0, 0, 0, 1, 0, 0, 0, 0, 0]'),\n",
       " Text(105.86875891583452, 108.72, 'X[374] <= 0.113\\nentropy = 0.498\\nsamples = 15\\nvalue = [0, 0, 0, 0, 0, 0, 7, 8, 0, 0, 0, 0]'),\n",
       " Text(104.59514978601997, 99.26608695652173, 'X[311] <= -0.998\\nentropy = 0.219\\nsamples = 8\\nvalue = [0, 0, 0, 0, 0, 0, 7, 1, 0, 0, 0, 0]'),\n",
       " Text(103.32154065620543, 89.81217391304348, 'entropy = 0.0\\nsamples = 7\\nvalue = [0, 0, 0, 0, 0, 0, 7, 0, 0, 0, 0, 0]'),\n",
       " Text(105.86875891583452, 89.81217391304348, 'entropy = 0.0\\nsamples = 1\\nvalue = [0, 0, 0, 0, 0, 0, 0, 1, 0, 0, 0, 0]'),\n",
       " Text(107.14236804564908, 99.26608695652173, 'entropy = 0.0\\nsamples = 7\\nvalue = [0, 0, 0, 0, 0, 0, 0, 7, 0, 0, 0, 0]'),\n",
       " Text(105.55035663338089, 137.08173913043478, 'X[11] <= -0.729\\nentropy = 0.003\\nsamples = 726\\nvalue = [0, 0, 0, 0, 0, 0, 725, 1, 0, 0, 0, 0]'),\n",
       " Text(104.27674750356634, 127.62782608695652, 'X[174] <= 0.972\\nentropy = 0.5\\nsamples = 2\\nvalue = [0, 0, 0, 0, 0, 0, 1, 1, 0, 0, 0, 0]'),\n",
       " Text(103.00313837375178, 118.17391304347825, 'entropy = 0.0\\nsamples = 1\\nvalue = [0, 0, 0, 0, 0, 0, 1, 0, 0, 0, 0, 0]'),\n",
       " Text(105.55035663338089, 118.17391304347825, 'entropy = 0.0\\nsamples = 1\\nvalue = [0, 0, 0, 0, 0, 0, 0, 1, 0, 0, 0, 0]'),\n",
       " Text(106.82396576319543, 127.62782608695652, 'entropy = 0.0\\nsamples = 724\\nvalue = [0, 0, 0, 0, 0, 0, 724, 0, 0, 0, 0, 0]'),\n",
       " Text(111.91840228245364, 146.53565217391304, 'X[490] <= -1.0\\nentropy = 0.475\\nsamples = 31\\nvalue = [0, 0, 0, 0, 0, 0, 19, 12, 0, 0, 0, 0]'),\n",
       " Text(110.64479315263908, 137.08173913043478, 'X[49] <= 0.85\\nentropy = 0.245\\nsamples = 14\\nvalue = [0, 0, 0, 0, 0, 0, 2, 12, 0, 0, 0, 0]'),\n",
       " Text(109.37118402282454, 127.62782608695652, 'entropy = 0.0\\nsamples = 2\\nvalue = [0, 0, 0, 0, 0, 0, 2, 0, 0, 0, 0, 0]'),\n",
       " Text(111.91840228245364, 127.62782608695652, 'entropy = 0.0\\nsamples = 12\\nvalue = [0, 0, 0, 0, 0, 0, 0, 12, 0, 0, 0, 0]'),\n",
       " Text(113.19201141226819, 137.08173913043478, 'entropy = 0.0\\nsamples = 17\\nvalue = [0, 0, 0, 0, 0, 0, 17, 0, 0, 0, 0, 0]'),\n",
       " Text(120.19686162624822, 155.98956521739132, 'X[395] <= -0.996\\nentropy = 0.564\\nsamples = 41\\nvalue = [0, 0, 1, 0, 0, 0, 21, 17, 1, 0, 0, 1]'),\n",
       " Text(117.01283880171184, 146.53565217391304, 'X[135] <= -0.495\\nentropy = 0.124\\nsamples = 15\\nvalue = [0, 0, 0, 0, 0, 0, 1, 14, 0, 0, 0, 0]'),\n",
       " Text(115.73922967189729, 137.08173913043478, 'entropy = 0.0\\nsamples = 14\\nvalue = [0, 0, 0, 0, 0, 0, 0, 14, 0, 0, 0, 0]'),\n",
       " Text(118.2864479315264, 137.08173913043478, 'entropy = 0.0\\nsamples = 1\\nvalue = [0, 0, 0, 0, 0, 0, 1, 0, 0, 0, 0, 0]'),\n",
       " Text(123.38088445078459, 146.53565217391304, 'X[6] <= -0.86\\nentropy = 0.391\\nsamples = 26\\nvalue = [0, 0, 1, 0, 0, 0, 20, 3, 1, 0, 0, 1]'),\n",
       " Text(120.83366619115549, 137.08173913043478, 'X[57] <= -0.999\\nentropy = 0.165\\nsamples = 22\\nvalue = [0, 0, 0, 0, 0, 0, 20, 2, 0, 0, 0, 0]'),\n",
       " Text(119.56005706134094, 127.62782608695652, 'entropy = 0.0\\nsamples = 2\\nvalue = [0, 0, 0, 0, 0, 0, 0, 2, 0, 0, 0, 0]'),\n",
       " Text(122.10727532097005, 127.62782608695652, 'entropy = 0.0\\nsamples = 20\\nvalue = [0, 0, 0, 0, 0, 0, 20, 0, 0, 0, 0, 0]'),\n",
       " Text(125.9281027104137, 137.08173913043478, 'X[353] <= -0.952\\nentropy = 0.75\\nsamples = 4\\nvalue = [0, 0, 1, 0, 0, 0, 0, 1, 1, 0, 0, 1]'),\n",
       " Text(124.65449358059915, 127.62782608695652, 'entropy = 0.0\\nsamples = 1\\nvalue = [0, 0, 0, 0, 0, 0, 0, 0, 1, 0, 0, 0]'),\n",
       " Text(127.20171184022824, 127.62782608695652, 'X[387] <= -0.997\\nentropy = 0.667\\nsamples = 3\\nvalue = [0, 0, 1, 0, 0, 0, 0, 1, 0, 0, 0, 1]'),\n",
       " Text(125.9281027104137, 118.17391304347825, 'entropy = 0.0\\nsamples = 1\\nvalue = [0, 0, 0, 0, 0, 0, 0, 0, 0, 0, 0, 1]'),\n",
       " Text(128.4753209700428, 118.17391304347825, 'X[52] <= 0.887\\nentropy = 0.5\\nsamples = 2\\nvalue = [0, 0, 1, 0, 0, 0, 0, 1, 0, 0, 0, 0]'),\n",
       " Text(127.20171184022824, 108.72, 'entropy = 0.0\\nsamples = 1\\nvalue = [0, 0, 0, 0, 0, 0, 0, 1, 0, 0, 0, 0]'),\n",
       " Text(129.74893009985735, 108.72, 'entropy = 0.0\\nsamples = 1\\nvalue = [0, 0, 1, 0, 0, 0, 0, 0, 0, 0, 0, 0]'),\n",
       " Text(261.7465763195435, 193.80521739130435, 'X[9] <= 0.363\\nentropy = 0.724\\nsamples = 3637\\nvalue = [1226, 53, 86, 48, 1073, 987, 8, 0, 15, 46, 23\\n72]'),\n",
       " Text(218.70256776034236, 184.3513043478261, 'X[69] <= -0.276\\nentropy = 0.663\\nsamples = 2682\\nvalue = [1176, 48, 86, 42, 997, 172, 8, 0, 15, 43, 23, 72]'),\n",
       " Text(177.98687589158345, 174.89739130434782, 'X[50] <= -0.165\\nentropy = 0.593\\nsamples = 1354\\nvalue = [101, 47, 85, 42, 843, 75, 8, 0, 15, 43, 23, 72]'),\n",
       " Text(149.80827389443652, 165.44347826086957, 'X[37] <= -0.06\\nentropy = 0.202\\nsamples = 890\\nvalue = [51, 1, 6, 0, 793, 16, 0, 0, 0, 23, 0, 0]'),\n",
       " Text(137.39058487874465, 155.98956521739132, 'X[37] <= -0.657\\nentropy = 0.102\\nsamples = 810\\nvalue = [22, 0, 2, 0, 767, 16, 0, 0, 0, 3, 0, 0]'),\n",
       " Text(132.29614835948644, 146.53565217391304, 'X[412] <= -0.983\\nentropy = 0.521\\nsamples = 13\\nvalue = [0, 0, 1, 0, 4, 8, 0, 0, 0, 0, 0, 0]'),\n",
       " Text(131.0225392296719, 137.08173913043478, 'X[38] <= -0.562\\nentropy = 0.32\\nsamples = 5\\nvalue = [0, 0, 1, 0, 4, 0, 0, 0, 0, 0, 0, 0]'),\n",
       " Text(129.74893009985735, 127.62782608695652, 'entropy = 0.0\\nsamples = 1\\nvalue = [0, 0, 1, 0, 0, 0, 0, 0, 0, 0, 0, 0]'),\n",
       " Text(132.29614835948644, 127.62782608695652, 'entropy = 0.0\\nsamples = 4\\nvalue = [0, 0, 0, 0, 4, 0, 0, 0, 0, 0, 0, 0]'),\n",
       " Text(133.569757489301, 137.08173913043478, 'entropy = 0.0\\nsamples = 8\\nvalue = [0, 0, 0, 0, 0, 8, 0, 0, 0, 0, 0, 0]'),\n",
       " Text(142.48502139800286, 146.53565217391304, 'X[302] <= -0.838\\nentropy = 0.083\\nsamples = 797\\nvalue = [22, 0, 1, 0, 763, 8, 0, 0, 0, 3, 0, 0]'),\n",
       " Text(137.39058487874465, 137.08173913043478, 'X[171] <= -0.726\\nentropy = 0.553\\nsamples = 33\\nvalue = [11, 0, 1, 0, 19, 0, 0, 0, 0, 2, 0, 0]'),\n",
       " Text(134.84336661911556, 127.62782608695652, 'X[474] <= -0.55\\nentropy = 0.095\\nsamples = 20\\nvalue = [0, 0, 1, 0, 19, 0, 0, 0, 0, 0, 0, 0]'),\n",
       " Text(133.569757489301, 118.17391304347825, 'entropy = 0.0\\nsamples = 19\\nvalue = [0, 0, 0, 0, 19, 0, 0, 0, 0, 0, 0, 0]'),\n",
       " Text(136.1169757489301, 118.17391304347825, 'entropy = 0.0\\nsamples = 1\\nvalue = [0, 0, 1, 0, 0, 0, 0, 0, 0, 0, 0, 0]'),\n",
       " Text(139.93780313837377, 127.62782608695652, 'X[449] <= -0.968\\nentropy = 0.26\\nsamples = 13\\nvalue = [11, 0, 0, 0, 0, 0, 0, 0, 0, 2, 0, 0]'),\n",
       " Text(138.6641940085592, 118.17391304347825, 'entropy = 0.0\\nsamples = 2\\nvalue = [0, 0, 0, 0, 0, 0, 0, 0, 0, 2, 0, 0]'),\n",
       " Text(141.2114122681883, 118.17391304347825, 'entropy = 0.0\\nsamples = 11\\nvalue = [11, 0, 0, 0, 0, 0, 0, 0, 0, 0, 0, 0]'),\n",
       " Text(147.57945791726107, 137.08173913043478, 'X[296] <= -0.367\\nentropy = 0.051\\nsamples = 764\\nvalue = [11, 0, 0, 0, 744, 8, 0, 0, 0, 1, 0, 0]'),\n",
       " Text(145.03223965763195, 127.62782608695652, 'X[228] <= -0.244\\nentropy = 0.32\\nsamples = 5\\nvalue = [4, 0, 0, 0, 1, 0, 0, 0, 0, 0, 0, 0]'),\n",
       " Text(143.75863052781742, 118.17391304347825, 'entropy = 0.0\\nsamples = 1\\nvalue = [0, 0, 0, 0, 1, 0, 0, 0, 0, 0, 0, 0]'),\n",
       " Text(146.3058487874465, 118.17391304347825, 'entropy = 0.0\\nsamples = 4\\nvalue = [4, 0, 0, 0, 0, 0, 0, 0, 0, 0, 0, 0]'),\n",
       " Text(150.12667617689016, 127.62782608695652, 'X[538] <= 0.453\\nentropy = 0.042\\nsamples = 759\\nvalue = [7, 0, 0, 0, 743, 8, 0, 0, 0, 1, 0, 0]'),\n",
       " Text(148.8530670470756, 118.17391304347825, 'X[558] <= -0.839\\nentropy = 0.036\\nsamples = 757\\nvalue = [7, 0, 0, 0, 743, 6, 0, 0, 0, 1, 0, 0]'),\n",
       " Text(147.57945791726107, 108.72, 'entropy = 0.0\\nsamples = 2\\nvalue = [0, 0, 0, 0, 0, 2, 0, 0, 0, 0, 0, 0]'),\n",
       " Text(150.12667617689016, 108.72, 'X[505] <= -0.383\\nentropy = 0.031\\nsamples = 755\\nvalue = [7, 0, 0, 0, 743, 4, 0, 0, 0, 1, 0, 0]'),\n",
       " Text(146.94265335235377, 99.26608695652173, 'X[196] <= 0.499\\nentropy = 0.026\\nsamples = 753\\nvalue = [7, 0, 0, 0, 743, 3, 0, 0, 0, 0, 0, 0]'),\n",
       " Text(144.39543509272468, 89.81217391304348, 'X[298] <= -0.639\\nentropy = 0.019\\nsamples = 747\\nvalue = [4, 0, 0, 0, 740, 3, 0, 0, 0, 0, 0, 0]'),\n",
       " Text(143.12182596291012, 80.35826086956521, 'entropy = 0.0\\nsamples = 1\\nvalue = [0, 0, 0, 0, 0, 1, 0, 0, 0, 0, 0, 0]'),\n",
       " Text(145.66904422253924, 80.35826086956521, 'X[38] <= 0.291\\nentropy = 0.016\\nsamples = 746\\nvalue = [4, 0, 0, 0, 740, 2, 0, 0, 0, 0, 0, 0]'),\n",
       " Text(144.39543509272468, 70.90434782608696, 'X[505] <= -0.838\\nentropy = 0.013\\nsamples = 745\\nvalue = [4, 0, 0, 0, 740, 1, 0, 0, 0, 0, 0, 0]'),\n",
       " Text(143.12182596291012, 61.45043478260868, 'entropy = 0.0\\nsamples = 1\\nvalue = [1, 0, 0, 0, 0, 0, 0, 0, 0, 0, 0, 0]'),\n",
       " Text(145.66904422253924, 61.45043478260868, 'X[383] <= -0.364\\nentropy = 0.011\\nsamples = 744\\nvalue = [3, 0, 0, 0, 740, 1, 0, 0, 0, 0, 0, 0]'),\n",
       " Text(142.16661911554922, 51.99652173913043, 'X[91] <= -0.219\\nentropy = 0.008\\nsamples = 742\\nvalue = [3, 0, 0, 0, 739, 0, 0, 0, 0, 0, 0, 0]'),\n",
       " Text(138.98259629101284, 42.54260869565218, 'X[119] <= -0.39\\nentropy = 0.005\\nsamples = 740\\nvalue = [2, 0, 0, 0, 738, 0, 0, 0, 0, 0, 0, 0]'),\n",
       " Text(136.43537803138375, 33.0886956521739, 'X[283] <= -0.761\\nentropy = 0.444\\nsamples = 3\\nvalue = [1, 0, 0, 0, 2, 0, 0, 0, 0, 0, 0, 0]'),\n",
       " Text(135.1617689015692, 23.634782608695645, 'entropy = 0.0\\nsamples = 2\\nvalue = [0, 0, 0, 0, 2, 0, 0, 0, 0, 0, 0, 0]'),\n",
       " Text(137.70898716119828, 23.634782608695645, 'entropy = 0.0\\nsamples = 1\\nvalue = [1, 0, 0, 0, 0, 0, 0, 0, 0, 0, 0, 0]'),\n",
       " Text(141.52981455064193, 33.0886956521739, 'X[490] <= -0.989\\nentropy = 0.003\\nsamples = 737\\nvalue = [1, 0, 0, 0, 736, 0, 0, 0, 0, 0, 0, 0]'),\n",
       " Text(140.2562054208274, 23.634782608695645, 'X[306] <= -0.952\\nentropy = 0.278\\nsamples = 6\\nvalue = [1, 0, 0, 0, 5, 0, 0, 0, 0, 0, 0, 0]'),\n",
       " Text(138.98259629101284, 14.180869565217392, 'entropy = 0.0\\nsamples = 5\\nvalue = [0, 0, 0, 0, 5, 0, 0, 0, 0, 0, 0, 0]'),\n",
       " Text(141.52981455064193, 14.180869565217392, 'entropy = 0.0\\nsamples = 1\\nvalue = [1, 0, 0, 0, 0, 0, 0, 0, 0, 0, 0, 0]'),\n",
       " Text(142.8034236804565, 23.634782608695645, 'entropy = 0.0\\nsamples = 731\\nvalue = [0, 0, 0, 0, 731, 0, 0, 0, 0, 0, 0, 0]'),\n",
       " Text(145.35064194008558, 42.54260869565218, 'X[460] <= -0.928\\nentropy = 0.5\\nsamples = 2\\nvalue = [1, 0, 0, 0, 1, 0, 0, 0, 0, 0, 0, 0]'),\n",
       " Text(144.07703281027105, 33.0886956521739, 'entropy = 0.0\\nsamples = 1\\nvalue = [0, 0, 0, 0, 1, 0, 0, 0, 0, 0, 0, 0]'),\n",
       " Text(146.62425106990014, 33.0886956521739, 'entropy = 0.0\\nsamples = 1\\nvalue = [1, 0, 0, 0, 0, 0, 0, 0, 0, 0, 0, 0]'),\n",
       " Text(149.17146932952926, 51.99652173913043, 'X[9] <= 0.256\\nentropy = 0.5\\nsamples = 2\\nvalue = [0, 0, 0, 0, 1, 1, 0, 0, 0, 0, 0, 0]'),\n",
       " Text(147.8978601997147, 42.54260869565218, 'entropy = 0.0\\nsamples = 1\\nvalue = [0, 0, 0, 0, 0, 1, 0, 0, 0, 0, 0, 0]'),\n",
       " Text(150.4450784593438, 42.54260869565218, 'entropy = 0.0\\nsamples = 1\\nvalue = [0, 0, 0, 0, 1, 0, 0, 0, 0, 0, 0, 0]'),\n",
       " Text(146.94265335235377, 70.90434782608696, 'entropy = 0.0\\nsamples = 1\\nvalue = [0, 0, 0, 0, 0, 1, 0, 0, 0, 0, 0, 0]'),\n",
       " Text(149.4898716119829, 89.81217391304348, 'X[413] <= -0.962\\nentropy = 0.5\\nsamples = 6\\nvalue = [3, 0, 0, 0, 3, 0, 0, 0, 0, 0, 0, 0]'),\n",
       " Text(148.21626248216833, 80.35826086956521, 'entropy = 0.0\\nsamples = 3\\nvalue = [0, 0, 0, 0, 3, 0, 0, 0, 0, 0, 0, 0]'),\n",
       " Text(150.76348074179742, 80.35826086956521, 'entropy = 0.0\\nsamples = 3\\nvalue = [3, 0, 0, 0, 0, 0, 0, 0, 0, 0, 0, 0]'),\n",
       " Text(153.31069900142654, 99.26608695652173, 'X[384] <= -0.887\\nentropy = 0.5\\nsamples = 2\\nvalue = [0, 0, 0, 0, 0, 1, 0, 0, 0, 1, 0, 0]'),\n",
       " Text(152.03708987161198, 89.81217391304348, 'entropy = 0.0\\nsamples = 1\\nvalue = [0, 0, 0, 0, 0, 0, 0, 0, 0, 1, 0, 0]'),\n",
       " Text(154.58430813124107, 89.81217391304348, 'entropy = 0.0\\nsamples = 1\\nvalue = [0, 0, 0, 0, 0, 1, 0, 0, 0, 0, 0, 0]'),\n",
       " Text(151.40028530670472, 118.17391304347825, 'entropy = 0.0\\nsamples = 2\\nvalue = [0, 0, 0, 0, 0, 2, 0, 0, 0, 0, 0, 0]'),\n",
       " Text(162.2259629101284, 155.98956521739132, 'X[73] <= -0.624\\nentropy = 0.698\\nsamples = 80\\nvalue = [29, 1, 4, 0, 26, 0, 0, 0, 0, 20, 0, 0]'),\n",
       " Text(159.04194008559202, 146.53565217391304, 'X[511] <= -0.921\\nentropy = 0.578\\nsamples = 46\\nvalue = [0, 1, 3, 0, 22, 0, 0, 0, 0, 20, 0, 0]'),\n",
       " Text(157.76833095577746, 137.08173913043478, 'X[331] <= -0.929\\nentropy = 0.342\\nsamples = 25\\nvalue = [0, 1, 3, 0, 1, 0, 0, 0, 0, 20, 0, 0]'),\n",
       " Text(155.22111269614837, 127.62782608695652, 'X[51] <= 0.276\\nentropy = 0.091\\nsamples = 21\\nvalue = [0, 0, 0, 0, 1, 0, 0, 0, 0, 20, 0, 0]'),\n",
       " Text(153.9475035663338, 118.17391304347825, 'entropy = 0.0\\nsamples = 20\\nvalue = [0, 0, 0, 0, 0, 0, 0, 0, 0, 20, 0, 0]'),\n",
       " Text(156.4947218259629, 118.17391304347825, 'entropy = 0.0\\nsamples = 1\\nvalue = [0, 0, 0, 0, 1, 0, 0, 0, 0, 0, 0, 0]'),\n",
       " Text(160.31554921540658, 127.62782608695652, 'X[399] <= -0.967\\nentropy = 0.375\\nsamples = 4\\nvalue = [0, 1, 3, 0, 0, 0, 0, 0, 0, 0, 0, 0]'),\n",
       " Text(159.04194008559202, 118.17391304347825, 'entropy = 0.0\\nsamples = 1\\nvalue = [0, 1, 0, 0, 0, 0, 0, 0, 0, 0, 0, 0]'),\n",
       " Text(161.5891583452211, 118.17391304347825, 'entropy = 0.0\\nsamples = 3\\nvalue = [0, 0, 3, 0, 0, 0, 0, 0, 0, 0, 0, 0]'),\n",
       " Text(160.31554921540658, 137.08173913043478, 'entropy = 0.0\\nsamples = 21\\nvalue = [0, 0, 0, 0, 21, 0, 0, 0, 0, 0, 0, 0]'),\n",
       " Text(165.40998573466476, 146.53565217391304, 'X[174] <= 0.531\\nentropy = 0.258\\nsamples = 34\\nvalue = [29, 0, 1, 0, 4, 0, 0, 0, 0, 0, 0, 0]'),\n",
       " Text(164.13637660485023, 137.08173913043478, 'X[311] <= -0.876\\nentropy = 0.32\\nsamples = 5\\nvalue = [0, 0, 1, 0, 4, 0, 0, 0, 0, 0, 0, 0]'),\n",
       " Text(162.86276747503567, 127.62782608695652, 'entropy = 0.0\\nsamples = 1\\nvalue = [0, 0, 1, 0, 0, 0, 0, 0, 0, 0, 0, 0]'),\n",
       " Text(165.40998573466476, 127.62782608695652, 'entropy = 0.0\\nsamples = 4\\nvalue = [0, 0, 0, 0, 4, 0, 0, 0, 0, 0, 0, 0]'),\n",
       " Text(166.68359486447932, 137.08173913043478, 'entropy = 0.0\\nsamples = 29\\nvalue = [29, 0, 0, 0, 0, 0, 0, 0, 0, 0, 0, 0]'),\n",
       " Text(206.16547788873038, 165.44347826086957, 'X[1] <= 0.078\\nentropy = 0.884\\nsamples = 464\\nvalue = [50, 46, 79, 42, 50, 59, 8, 0, 15, 20, 23, 72]'),\n",
       " Text(187.8573466476462, 155.98956521739132, 'X[290] <= -0.9\\nentropy = 0.857\\nsamples = 300\\nvalue = [50, 46, 6, 41, 48, 59, 5, 0, 10, 10, 23, 2]'),\n",
       " Text(178.4644793152639, 146.53565217391304, 'X[52] <= 0.375\\nentropy = 0.768\\nsamples = 140\\nvalue = [0, 46, 6, 41, 0, 0, 4, 0, 10, 8, 23, 2]'),\n",
       " Text(171.14122681883023, 137.08173913043478, 'X[0] <= 0.04\\nentropy = 0.609\\nsamples = 100\\nvalue = [0, 46, 3, 41, 0, 0, 0, 0, 10, 0, 0, 0]'),\n",
       " Text(167.95720399429388, 127.62782608695652, 'X[218] <= -0.235\\nentropy = 0.355\\nsamples = 13\\nvalue = [0, 0, 3, 0, 0, 0, 0, 0, 10, 0, 0, 0]'),\n",
       " Text(166.68359486447932, 118.17391304347825, 'entropy = 0.0\\nsamples = 10\\nvalue = [0, 0, 0, 0, 0, 0, 0, 0, 10, 0, 0, 0]'),\n",
       " Text(169.2308131241084, 118.17391304347825, 'entropy = 0.0\\nsamples = 3\\nvalue = [0, 0, 3, 0, 0, 0, 0, 0, 0, 0, 0, 0]'),\n",
       " Text(174.32524964336662, 127.62782608695652, 'X[16] <= -0.501\\nentropy = 0.498\\nsamples = 87\\nvalue = [0, 46, 0, 41, 0, 0, 0, 0, 0, 0, 0, 0]'),\n",
       " Text(171.77803138373753, 118.17391304347825, 'X[51] <= 0.223\\nentropy = 0.153\\nsamples = 24\\nvalue = [0, 22, 0, 2, 0, 0, 0, 0, 0, 0, 0, 0]'),\n",
       " Text(170.50442225392297, 108.72, 'entropy = 0.0\\nsamples = 2\\nvalue = [0, 0, 0, 2, 0, 0, 0, 0, 0, 0, 0, 0]'),\n",
       " Text(173.05164051355206, 108.72, 'entropy = 0.0\\nsamples = 22\\nvalue = [0, 22, 0, 0, 0, 0, 0, 0, 0, 0, 0, 0]'),\n",
       " Text(176.8724679029957, 118.17391304347825, 'X[132] <= 0.518\\nentropy = 0.472\\nsamples = 63\\nvalue = [0, 24, 0, 39, 0, 0, 0, 0, 0, 0, 0, 0]'),\n",
       " Text(175.59885877318118, 108.72, 'entropy = 0.0\\nsamples = 19\\nvalue = [0, 0, 0, 19, 0, 0, 0, 0, 0, 0, 0, 0]'),\n",
       " Text(178.14607703281027, 108.72, 'X[156] <= 0.134\\nentropy = 0.496\\nsamples = 44\\nvalue = [0, 24, 0, 20, 0, 0, 0, 0, 0, 0, 0, 0]'),\n",
       " Text(175.59885877318118, 99.26608695652173, 'X[99] <= -0.868\\nentropy = 0.142\\nsamples = 13\\nvalue = [0, 1, 0, 12, 0, 0, 0, 0, 0, 0, 0, 0]'),\n",
       " Text(174.32524964336662, 89.81217391304348, 'entropy = 0.0\\nsamples = 1\\nvalue = [0, 1, 0, 0, 0, 0, 0, 0, 0, 0, 0, 0]'),\n",
       " Text(176.8724679029957, 89.81217391304348, 'entropy = 0.0\\nsamples = 12\\nvalue = [0, 0, 0, 12, 0, 0, 0, 0, 0, 0, 0, 0]'),\n",
       " Text(180.6932952924394, 99.26608695652173, 'X[412] <= -0.964\\nentropy = 0.383\\nsamples = 31\\nvalue = [0, 23, 0, 8, 0, 0, 0, 0, 0, 0, 0, 0]'),\n",
       " Text(179.41968616262483, 89.81217391304348, 'X[74] <= 0.942\\nentropy = 0.252\\nsamples = 27\\nvalue = [0, 23, 0, 4, 0, 0, 0, 0, 0, 0, 0, 0]'),\n",
       " Text(176.8724679029957, 80.35826086956521, 'X[478] <= -0.998\\nentropy = 0.083\\nsamples = 23\\nvalue = [0, 22, 0, 1, 0, 0, 0, 0, 0, 0, 0, 0]'),\n",
       " Text(175.59885877318118, 70.90434782608696, 'entropy = 0.0\\nsamples = 1\\nvalue = [0, 0, 0, 1, 0, 0, 0, 0, 0, 0, 0, 0]'),\n",
       " Text(178.14607703281027, 70.90434782608696, 'entropy = 0.0\\nsamples = 22\\nvalue = [0, 22, 0, 0, 0, 0, 0, 0, 0, 0, 0, 0]'),\n",
       " Text(181.96690442225392, 80.35826086956521, 'X[336] <= -0.689\\nentropy = 0.375\\nsamples = 4\\nvalue = [0, 1, 0, 3, 0, 0, 0, 0, 0, 0, 0, 0]'),\n",
       " Text(180.6932952924394, 70.90434782608696, 'entropy = 0.0\\nsamples = 3\\nvalue = [0, 0, 0, 3, 0, 0, 0, 0, 0, 0, 0, 0]'),\n",
       " Text(183.24051355206848, 70.90434782608696, 'entropy = 0.0\\nsamples = 1\\nvalue = [0, 1, 0, 0, 0, 0, 0, 0, 0, 0, 0, 0]'),\n",
       " Text(181.96690442225392, 89.81217391304348, 'entropy = 0.0\\nsamples = 4\\nvalue = [0, 0, 0, 4, 0, 0, 0, 0, 0, 0, 0, 0]'),\n",
       " Text(185.78773181169757, 137.08173913043478, 'X[121] <= 0.047\\nentropy = 0.611\\nsamples = 40\\nvalue = [0, 0, 3, 0, 0, 0, 4, 0, 0, 8, 23, 2]'),\n",
       " Text(183.24051355206848, 127.62782608695652, 'X[205] <= -0.536\\nentropy = 0.21\\nsamples = 26\\nvalue = [0, 0, 1, 0, 0, 0, 2, 0, 0, 0, 23, 0]'),\n",
       " Text(181.96690442225392, 118.17391304347825, 'X[102] <= 0.308\\nentropy = 0.444\\nsamples = 3\\nvalue = [0, 0, 1, 0, 0, 0, 2, 0, 0, 0, 0, 0]'),\n",
       " Text(180.6932952924394, 108.72, 'entropy = 0.0\\nsamples = 2\\nvalue = [0, 0, 0, 0, 0, 0, 2, 0, 0, 0, 0, 0]'),\n",
       " Text(183.24051355206848, 108.72, 'entropy = 0.0\\nsamples = 1\\nvalue = [0, 0, 1, 0, 0, 0, 0, 0, 0, 0, 0, 0]'),\n",
       " Text(184.51412268188304, 118.17391304347825, 'entropy = 0.0\\nsamples = 23\\nvalue = [0, 0, 0, 0, 0, 0, 0, 0, 0, 0, 23, 0]'),\n",
       " Text(188.3349500713267, 127.62782608695652, 'X[65] <= -0.816\\nentropy = 0.612\\nsamples = 14\\nvalue = [0, 0, 2, 0, 0, 0, 2, 0, 0, 8, 0, 2]'),\n",
       " Text(187.06134094151213, 118.17391304347825, 'X[72] <= 0.921\\nentropy = 0.667\\nsamples = 6\\nvalue = [0, 0, 2, 0, 0, 0, 2, 0, 0, 0, 0, 2]'),\n",
       " Text(185.78773181169757, 108.72, 'X[67] <= -0.902\\nentropy = 0.5\\nsamples = 4\\nvalue = [0, 0, 2, 0, 0, 0, 0, 0, 0, 0, 0, 2]'),\n",
       " Text(184.51412268188304, 99.26608695652173, 'entropy = 0.0\\nsamples = 2\\nvalue = [0, 0, 0, 0, 0, 0, 0, 0, 0, 0, 0, 2]'),\n",
       " Text(187.06134094151213, 99.26608695652173, 'entropy = 0.0\\nsamples = 2\\nvalue = [0, 0, 2, 0, 0, 0, 0, 0, 0, 0, 0, 0]'),\n",
       " Text(188.3349500713267, 108.72, 'entropy = 0.0\\nsamples = 2\\nvalue = [0, 0, 0, 0, 0, 0, 2, 0, 0, 0, 0, 0]'),\n",
       " Text(189.60855920114122, 118.17391304347825, 'entropy = 0.0\\nsamples = 8\\nvalue = [0, 0, 0, 0, 0, 0, 0, 0, 0, 8, 0, 0]'),\n",
       " Text(197.25021398002852, 146.53565217391304, 'X[37] <= -0.335\\nentropy = 0.676\\nsamples = 160\\nvalue = [50, 0, 0, 0, 48, 59, 1, 0, 0, 2, 0, 0]'),\n",
       " Text(192.15577746077034, 137.08173913043478, 'X[459] <= -0.446\\nentropy = 0.171\\nsamples = 53\\nvalue = [0, 0, 0, 0, 5, 48, 0, 0, 0, 0, 0, 0]'),\n",
       " Text(190.88216833095578, 127.62782608695652, 'entropy = 0.0\\nsamples = 47\\nvalue = [0, 0, 0, 0, 0, 47, 0, 0, 0, 0, 0, 0]'),\n",
       " Text(193.42938659058487, 127.62782608695652, 'X[45] <= -0.976\\nentropy = 0.278\\nsamples = 6\\nvalue = [0, 0, 0, 0, 5, 1, 0, 0, 0, 0, 0, 0]'),\n",
       " Text(192.15577746077034, 118.17391304347825, 'entropy = 0.0\\nsamples = 1\\nvalue = [0, 0, 0, 0, 0, 1, 0, 0, 0, 0, 0, 0]'),\n",
       " Text(194.70299572039943, 118.17391304347825, 'entropy = 0.0\\nsamples = 5\\nvalue = [0, 0, 0, 0, 5, 0, 0, 0, 0, 0, 0, 0]'),\n",
       " Text(202.34465049928673, 137.08173913043478, 'X[57] <= -0.966\\nentropy = 0.609\\nsamples = 107\\nvalue = [50, 0, 0, 0, 43, 11, 1, 0, 0, 2, 0, 0]'),\n",
       " Text(198.52382310984308, 127.62782608695652, 'X[504] <= -0.383\\nentropy = 0.405\\nsamples = 64\\nvalue = [48, 0, 0, 0, 3, 11, 0, 0, 0, 2, 0, 0]'),\n",
       " Text(197.25021398002852, 118.17391304347825, 'entropy = 0.0\\nsamples = 40\\nvalue = [40, 0, 0, 0, 0, 0, 0, 0, 0, 0, 0, 0]'),\n",
       " Text(199.79743223965764, 118.17391304347825, 'X[156] <= 0.357\\nentropy = 0.656\\nsamples = 24\\nvalue = [8, 0, 0, 0, 3, 11, 0, 0, 0, 2, 0, 0]'),\n",
       " Text(198.52382310984308, 108.72, 'X[76] <= 0.868\\nentropy = 0.477\\nsamples = 16\\nvalue = [0, 0, 0, 0, 3, 11, 0, 0, 0, 2, 0, 0]'),\n",
       " Text(197.25021398002852, 99.26608695652173, 'entropy = 0.0\\nsamples = 11\\nvalue = [0, 0, 0, 0, 0, 11, 0, 0, 0, 0, 0, 0]'),\n",
       " Text(199.79743223965764, 99.26608695652173, 'X[20] <= -0.463\\nentropy = 0.48\\nsamples = 5\\nvalue = [0, 0, 0, 0, 3, 0, 0, 0, 0, 2, 0, 0]'),\n",
       " Text(198.52382310984308, 89.81217391304348, 'entropy = 0.0\\nsamples = 3\\nvalue = [0, 0, 0, 0, 3, 0, 0, 0, 0, 0, 0, 0]'),\n",
       " Text(201.0710413694722, 89.81217391304348, 'entropy = 0.0\\nsamples = 2\\nvalue = [0, 0, 0, 0, 0, 0, 0, 0, 0, 2, 0, 0]'),\n",
       " Text(201.0710413694722, 108.72, 'entropy = 0.0\\nsamples = 8\\nvalue = [8, 0, 0, 0, 0, 0, 0, 0, 0, 0, 0, 0]'),\n",
       " Text(206.16547788873038, 127.62782608695652, 'X[515] <= -0.172\\nentropy = 0.132\\nsamples = 43\\nvalue = [2, 0, 0, 0, 40, 0, 1, 0, 0, 0, 0, 0]'),\n",
       " Text(204.89186875891585, 118.17391304347825, 'X[503] <= -0.298\\nentropy = 0.048\\nsamples = 41\\nvalue = [0, 0, 0, 0, 40, 0, 1, 0, 0, 0, 0, 0]'),\n",
       " Text(203.6182596291013, 108.72, 'entropy = 0.0\\nsamples = 40\\nvalue = [0, 0, 0, 0, 40, 0, 0, 0, 0, 0, 0, 0]'),\n",
       " Text(206.16547788873038, 108.72, 'entropy = 0.0\\nsamples = 1\\nvalue = [0, 0, 0, 0, 0, 0, 1, 0, 0, 0, 0, 0]'),\n",
       " Text(207.43908701854494, 118.17391304347825, 'entropy = 0.0\\nsamples = 2\\nvalue = [2, 0, 0, 0, 0, 0, 0, 0, 0, 0, 0, 0]'),\n",
       " Text(224.47360912981455, 155.98956521739132, 'X[53] <= -0.088\\nentropy = 0.615\\nsamples = 164\\nvalue = [0, 0, 73, 1, 2, 0, 3, 0, 5, 10, 0, 70]'),\n",
       " Text(216.67275320970043, 146.53565217391304, 'X[136] <= -0.905\\nentropy = 0.42\\nsamples = 78\\nvalue = [0, 0, 58, 1, 0, 0, 1, 0, 0, 10, 0, 8]'),\n",
       " Text(212.53352353780315, 137.08173913043478, 'X[347] <= -0.829\\nentropy = 0.379\\nsamples = 13\\nvalue = [0, 0, 0, 0, 0, 0, 1, 0, 0, 10, 0, 2]'),\n",
       " Text(211.2599144079886, 127.62782608695652, 'X[180] <= -0.944\\nentropy = 0.444\\nsamples = 3\\nvalue = [0, 0, 0, 0, 0, 0, 1, 0, 0, 0, 0, 2]'),\n",
       " Text(209.98630527817403, 118.17391304347825, 'entropy = 0.0\\nsamples = 1\\nvalue = [0, 0, 0, 0, 0, 0, 1, 0, 0, 0, 0, 0]'),\n",
       " Text(212.53352353780315, 118.17391304347825, 'entropy = 0.0\\nsamples = 2\\nvalue = [0, 0, 0, 0, 0, 0, 0, 0, 0, 0, 0, 2]'),\n",
       " Text(213.80713266761768, 127.62782608695652, 'entropy = 0.0\\nsamples = 10\\nvalue = [0, 0, 0, 0, 0, 0, 0, 0, 0, 10, 0, 0]'),\n",
       " Text(220.81198288159771, 137.08173913043478, 'X[187] <= 0.203\\nentropy = 0.195\\nsamples = 65\\nvalue = [0, 0, 58, 1, 0, 0, 0, 0, 0, 0, 0, 6]'),\n",
       " Text(217.62796005706133, 127.62782608695652, 'X[204] <= -0.944\\nentropy = 0.098\\nsamples = 59\\nvalue = [0, 0, 56, 1, 0, 0, 0, 0, 0, 0, 0, 2]'),\n",
       " Text(215.08074179743224, 118.17391304347825, 'X[374] <= -0.251\\nentropy = 0.5\\nsamples = 2\\nvalue = [0, 0, 0, 1, 0, 0, 0, 0, 0, 0, 0, 1]'),\n",
       " Text(213.80713266761768, 108.72, 'entropy = 0.0\\nsamples = 1\\nvalue = [0, 0, 0, 1, 0, 0, 0, 0, 0, 0, 0, 0]'),\n",
       " Text(216.3543509272468, 108.72, 'entropy = 0.0\\nsamples = 1\\nvalue = [0, 0, 0, 0, 0, 0, 0, 0, 0, 0, 0, 1]'),\n",
       " Text(220.17517831669045, 118.17391304347825, 'X[143] <= 0.938\\nentropy = 0.034\\nsamples = 57\\nvalue = [0, 0, 56, 0, 0, 0, 0, 0, 0, 0, 0, 1]'),\n",
       " Text(218.9015691868759, 108.72, 'entropy = 0.0\\nsamples = 56\\nvalue = [0, 0, 56, 0, 0, 0, 0, 0, 0, 0, 0, 0]'),\n",
       " Text(221.448787446505, 108.72, 'entropy = 0.0\\nsamples = 1\\nvalue = [0, 0, 0, 0, 0, 0, 0, 0, 0, 0, 0, 1]'),\n",
       " Text(223.9960057061341, 127.62782608695652, 'X[245] <= -0.356\\nentropy = 0.444\\nsamples = 6\\nvalue = [0, 0, 2, 0, 0, 0, 0, 0, 0, 0, 0, 4]'),\n",
       " Text(222.72239657631954, 118.17391304347825, 'entropy = 0.0\\nsamples = 4\\nvalue = [0, 0, 0, 0, 0, 0, 0, 0, 0, 0, 0, 4]'),\n",
       " Text(225.26961483594866, 118.17391304347825, 'entropy = 0.0\\nsamples = 2\\nvalue = [0, 0, 2, 0, 0, 0, 0, 0, 0, 0, 0, 0]'),\n",
       " Text(232.27446504992866, 146.53565217391304, 'X[17] <= -0.826\\nentropy = 0.445\\nsamples = 86\\nvalue = [0, 0, 15, 0, 2, 0, 2, 0, 5, 0, 0, 62]'),\n",
       " Text(227.81683309557775, 137.08173913043478, 'X[141] <= -0.76\\nentropy = 0.727\\nsamples = 11\\nvalue = [0, 0, 3, 0, 2, 0, 2, 0, 4, 0, 0, 0]'),\n",
       " Text(226.5432239657632, 127.62782608695652, 'entropy = 0.0\\nsamples = 4\\nvalue = [0, 0, 0, 0, 0, 0, 0, 0, 4, 0, 0, 0]'),\n",
       " Text(229.0904422253923, 127.62782608695652, 'X[254] <= -0.82\\nentropy = 0.653\\nsamples = 7\\nvalue = [0, 0, 3, 0, 2, 0, 2, 0, 0, 0, 0, 0]'),\n",
       " Text(227.81683309557775, 118.17391304347825, 'X[372] <= -0.362\\nentropy = 0.5\\nsamples = 4\\nvalue = [0, 0, 0, 0, 2, 0, 2, 0, 0, 0, 0, 0]'),\n",
       " Text(226.5432239657632, 108.72, 'entropy = 0.0\\nsamples = 2\\nvalue = [0, 0, 0, 0, 2, 0, 0, 0, 0, 0, 0, 0]'),\n",
       " Text(229.0904422253923, 108.72, 'entropy = 0.0\\nsamples = 2\\nvalue = [0, 0, 0, 0, 0, 0, 2, 0, 0, 0, 0, 0]'),\n",
       " Text(230.36405135520684, 118.17391304347825, 'entropy = 0.0\\nsamples = 3\\nvalue = [0, 0, 3, 0, 0, 0, 0, 0, 0, 0, 0, 0]'),\n",
       " Text(236.7320970042796, 137.08173913043478, 'X[244] <= 0.18\\nentropy = 0.291\\nsamples = 75\\nvalue = [0, 0, 12, 0, 0, 0, 0, 0, 1, 0, 0, 62]'),\n",
       " Text(235.45848787446505, 127.62782608695652, 'X[198] <= -0.121\\nentropy = 0.225\\nsamples = 71\\nvalue = [0, 0, 8, 0, 0, 0, 0, 0, 1, 0, 0, 62]'),\n",
       " Text(232.91126961483596, 118.17391304347825, 'X[387] <= -0.994\\nentropy = 0.547\\nsamples = 17\\nvalue = [0, 0, 7, 0, 0, 0, 0, 0, 1, 0, 0, 9]'),\n",
       " Text(231.6376604850214, 108.72, 'entropy = 0.0\\nsamples = 7\\nvalue = [0, 0, 0, 0, 0, 0, 0, 0, 0, 0, 0, 7]'),\n",
       " Text(234.1848787446505, 108.72, 'X[502] <= 0.002\\nentropy = 0.46\\nsamples = 10\\nvalue = [0, 0, 7, 0, 0, 0, 0, 0, 1, 0, 0, 2]'),\n",
       " Text(232.91126961483596, 99.26608695652173, 'entropy = 0.0\\nsamples = 7\\nvalue = [0, 0, 7, 0, 0, 0, 0, 0, 0, 0, 0, 0]'),\n",
       " Text(235.45848787446505, 99.26608695652173, 'X[205] <= -0.164\\nentropy = 0.444\\nsamples = 3\\nvalue = [0, 0, 0, 0, 0, 0, 0, 0, 1, 0, 0, 2]'),\n",
       " Text(234.1848787446505, 89.81217391304348, 'entropy = 0.0\\nsamples = 1\\nvalue = [0, 0, 0, 0, 0, 0, 0, 0, 1, 0, 0, 0]'),\n",
       " Text(236.7320970042796, 89.81217391304348, 'entropy = 0.0\\nsamples = 2\\nvalue = [0, 0, 0, 0, 0, 0, 0, 0, 0, 0, 0, 2]'),\n",
       " Text(238.00570613409414, 118.17391304347825, 'X[29] <= -0.547\\nentropy = 0.036\\nsamples = 54\\nvalue = [0, 0, 1, 0, 0, 0, 0, 0, 0, 0, 0, 53]'),\n",
       " Text(236.7320970042796, 108.72, 'entropy = 0.0\\nsamples = 1\\nvalue = [0, 0, 1, 0, 0, 0, 0, 0, 0, 0, 0, 0]'),\n",
       " Text(239.2793152639087, 108.72, 'entropy = 0.0\\nsamples = 53\\nvalue = [0, 0, 0, 0, 0, 0, 0, 0, 0, 0, 0, 53]'),\n",
       " Text(238.00570613409414, 127.62782608695652, 'entropy = 0.0\\nsamples = 4\\nvalue = [0, 0, 4, 0, 0, 0, 0, 0, 0, 0, 0, 0]'),\n",
       " Text(259.41825962910127, 174.89739130434782, 'X[448] <= -0.967\\nentropy = 0.326\\nsamples = 1328\\nvalue = [1075, 1, 1, 0, 154, 97, 0, 0, 0, 0, 0, 0]'),\n",
       " Text(246.28416547788873, 165.44347826086957, 'X[504] <= -0.128\\nentropy = 0.589\\nsamples = 128\\nvalue = [14, 0, 0, 0, 61, 53, 0, 0, 0, 0, 0, 0]'),\n",
       " Text(243.10014265335235, 155.98956521739132, 'X[297] <= -0.675\\nentropy = 0.49\\nsamples = 77\\nvalue = [14, 0, 0, 0, 52, 11, 0, 0, 0, 0, 0, 0]'),\n",
       " Text(240.55292439372326, 146.53565217391304, 'X[232] <= -0.455\\nentropy = 0.142\\nsamples = 13\\nvalue = [12, 0, 0, 0, 0, 1, 0, 0, 0, 0, 0, 0]'),\n",
       " Text(239.2793152639087, 137.08173913043478, 'entropy = 0.0\\nsamples = 12\\nvalue = [12, 0, 0, 0, 0, 0, 0, 0, 0, 0, 0, 0]'),\n",
       " Text(241.82653352353782, 137.08173913043478, 'entropy = 0.0\\nsamples = 1\\nvalue = [0, 0, 0, 0, 0, 1, 0, 0, 0, 0, 0, 0]'),\n",
       " Text(245.64736091298147, 146.53565217391304, 'X[57] <= -0.946\\nentropy = 0.314\\nsamples = 64\\nvalue = [2, 0, 0, 0, 52, 10, 0, 0, 0, 0, 0, 0]'),\n",
       " Text(244.3737517831669, 137.08173913043478, 'entropy = 0.0\\nsamples = 8\\nvalue = [0, 0, 0, 0, 0, 8, 0, 0, 0, 0, 0, 0]'),\n",
       " Text(246.920970042796, 137.08173913043478, 'X[330] <= -0.937\\nentropy = 0.135\\nsamples = 56\\nvalue = [2, 0, 0, 0, 52, 2, 0, 0, 0, 0, 0, 0]'),\n",
       " Text(244.3737517831669, 127.62782608695652, 'X[550] <= -0.889\\nentropy = 0.625\\nsamples = 4\\nvalue = [2, 0, 0, 0, 1, 1, 0, 0, 0, 0, 0, 0]'),\n",
       " Text(243.10014265335235, 118.17391304347825, 'X[560] <= 0.076\\nentropy = 0.5\\nsamples = 2\\nvalue = [0, 0, 0, 0, 1, 1, 0, 0, 0, 0, 0, 0]'),\n",
       " Text(241.82653352353782, 108.72, 'entropy = 0.0\\nsamples = 1\\nvalue = [0, 0, 0, 0, 1, 0, 0, 0, 0, 0, 0, 0]'),\n",
       " Text(244.3737517831669, 108.72, 'entropy = 0.0\\nsamples = 1\\nvalue = [0, 0, 0, 0, 0, 1, 0, 0, 0, 0, 0, 0]'),\n",
       " Text(245.64736091298147, 118.17391304347825, 'entropy = 0.0\\nsamples = 2\\nvalue = [2, 0, 0, 0, 0, 0, 0, 0, 0, 0, 0, 0]'),\n",
       " Text(249.46818830242512, 127.62782608695652, 'X[69] <= -0.273\\nentropy = 0.038\\nsamples = 52\\nvalue = [0, 0, 0, 0, 51, 1, 0, 0, 0, 0, 0, 0]'),\n",
       " Text(248.19457917261056, 118.17391304347825, 'entropy = 0.0\\nsamples = 1\\nvalue = [0, 0, 0, 0, 0, 1, 0, 0, 0, 0, 0, 0]'),\n",
       " Text(250.74179743223965, 118.17391304347825, 'entropy = 0.0\\nsamples = 51\\nvalue = [0, 0, 0, 0, 51, 0, 0, 0, 0, 0, 0, 0]'),\n",
       " Text(249.46818830242512, 155.98956521739132, 'X[41] <= -0.305\\nentropy = 0.291\\nsamples = 51\\nvalue = [0, 0, 0, 0, 9, 42, 0, 0, 0, 0, 0, 0]'),\n",
       " Text(248.19457917261056, 146.53565217391304, 'entropy = 0.0\\nsamples = 7\\nvalue = [0, 0, 0, 0, 7, 0, 0, 0, 0, 0, 0, 0]'),\n",
       " Text(250.74179743223965, 146.53565217391304, 'X[74] <= 0.671\\nentropy = 0.087\\nsamples = 44\\nvalue = [0, 0, 0, 0, 2, 42, 0, 0, 0, 0, 0, 0]'),\n",
       " Text(249.46818830242512, 137.08173913043478, 'entropy = 0.0\\nsamples = 42\\nvalue = [0, 0, 0, 0, 0, 42, 0, 0, 0, 0, 0, 0]'),\n",
       " Text(252.0154065620542, 137.08173913043478, 'entropy = 0.0\\nsamples = 2\\nvalue = [0, 0, 0, 0, 2, 0, 0, 0, 0, 0, 0, 0]'),\n",
       " Text(272.55235378031387, 165.44347826086957, 'X[209] <= -0.23\\nentropy = 0.211\\nsamples = 1200\\nvalue = [1061, 1, 1, 0, 93, 44, 0, 0, 0, 0, 0, 0]'),\n",
       " Text(260.93067047075607, 155.98956521739132, 'X[53] <= -0.273\\nentropy = 0.654\\nsamples = 125\\nvalue = [46, 1, 0, 0, 50, 28, 0, 0, 0, 0, 0, 0]'),\n",
       " Text(259.65706134094154, 146.53565217391304, 'entropy = 0.0\\nsamples = 36\\nvalue = [0, 0, 0, 0, 36, 0, 0, 0, 0, 0, 0, 0]'),\n",
       " Text(262.2042796005706, 146.53565217391304, 'X[274] <= -0.34\\nentropy = 0.609\\nsamples = 89\\nvalue = [46, 1, 0, 0, 14, 28, 0, 0, 0, 0, 0, 0]'),\n",
       " Text(257.1098430813124, 137.08173913043478, 'X[84] <= -0.453\\nentropy = 0.278\\nsamples = 51\\nvalue = [43, 1, 0, 0, 5, 2, 0, 0, 0, 0, 0, 0]'),\n",
       " Text(254.5626248216833, 127.62782608695652, 'X[335] <= -0.887\\nentropy = 0.278\\nsamples = 6\\nvalue = [0, 1, 0, 0, 5, 0, 0, 0, 0, 0, 0, 0]'),\n",
       " Text(253.28901569186877, 118.17391304347825, 'entropy = 0.0\\nsamples = 5\\nvalue = [0, 0, 0, 0, 5, 0, 0, 0, 0, 0, 0, 0]'),\n",
       " Text(255.83623395149786, 118.17391304347825, 'entropy = 0.0\\nsamples = 1\\nvalue = [0, 1, 0, 0, 0, 0, 0, 0, 0, 0, 0, 0]'),\n",
       " Text(259.65706134094154, 127.62782608695652, 'X[248] <= -0.232\\nentropy = 0.085\\nsamples = 45\\nvalue = [43, 0, 0, 0, 0, 2, 0, 0, 0, 0, 0, 0]'),\n",
       " Text(258.38345221112695, 118.17391304347825, 'X[466] <= -0.975\\nentropy = 0.444\\nsamples = 3\\nvalue = [1, 0, 0, 0, 0, 2, 0, 0, 0, 0, 0, 0]'),\n",
       " Text(257.1098430813124, 108.72, 'entropy = 0.0\\nsamples = 1\\nvalue = [1, 0, 0, 0, 0, 0, 0, 0, 0, 0, 0, 0]'),\n",
       " Text(259.65706134094154, 108.72, 'entropy = 0.0\\nsamples = 2\\nvalue = [0, 0, 0, 0, 0, 2, 0, 0, 0, 0, 0, 0]'),\n",
       " Text(260.93067047075607, 118.17391304347825, 'entropy = 0.0\\nsamples = 42\\nvalue = [42, 0, 0, 0, 0, 0, 0, 0, 0, 0, 0, 0]'),\n",
       " Text(267.29871611982884, 137.08173913043478, 'X[276] <= -0.629\\nentropy = 0.47\\nsamples = 38\\nvalue = [3, 0, 0, 0, 9, 26, 0, 0, 0, 0, 0, 0]'),\n",
       " Text(264.7514978601997, 127.62782608695652, 'X[159] <= 0.185\\nentropy = 0.19\\nsamples = 29\\nvalue = [2, 0, 0, 0, 1, 26, 0, 0, 0, 0, 0, 0]'),\n",
       " Text(263.4778887303852, 118.17391304347825, 'entropy = 0.0\\nsamples = 26\\nvalue = [0, 0, 0, 0, 0, 26, 0, 0, 0, 0, 0, 0]'),\n",
       " Text(266.02510699001425, 118.17391304347825, 'X[300] <= -0.354\\nentropy = 0.444\\nsamples = 3\\nvalue = [2, 0, 0, 0, 1, 0, 0, 0, 0, 0, 0, 0]'),\n",
       " Text(264.7514978601997, 108.72, 'entropy = 0.0\\nsamples = 2\\nvalue = [2, 0, 0, 0, 0, 0, 0, 0, 0, 0, 0, 0]'),\n",
       " Text(267.29871611982884, 108.72, 'entropy = 0.0\\nsamples = 1\\nvalue = [0, 0, 0, 0, 1, 0, 0, 0, 0, 0, 0, 0]'),\n",
       " Text(269.8459343794579, 127.62782608695652, 'X[485] <= -0.976\\nentropy = 0.198\\nsamples = 9\\nvalue = [1, 0, 0, 0, 8, 0, 0, 0, 0, 0, 0, 0]'),\n",
       " Text(268.57232524964337, 118.17391304347825, 'entropy = 0.0\\nsamples = 1\\nvalue = [1, 0, 0, 0, 0, 0, 0, 0, 0, 0, 0, 0]'),\n",
       " Text(271.1195435092725, 118.17391304347825, 'entropy = 0.0\\nsamples = 8\\nvalue = [0, 0, 0, 0, 8, 0, 0, 0, 0, 0, 0, 0]'),\n",
       " Text(284.1740370898716, 155.98956521739132, 'X[559] <= 0.299\\nentropy = 0.107\\nsamples = 1075\\nvalue = [1015, 0, 1, 0, 43, 16, 0, 0, 0, 0, 0, 0]'),\n",
       " Text(280.6716119828816, 146.53565217391304, 'X[202] <= -0.325\\nentropy = 0.052\\nsamples = 983\\nvalue = [957, 0, 1, 0, 9, 16, 0, 0, 0, 0, 0, 0]'),\n",
       " Text(277.4875891583452, 137.08173913043478, 'X[76] <= 0.789\\nentropy = 0.036\\nsamples = 975\\nvalue = [957, 0, 0, 0, 9, 9, 0, 0, 0, 0, 0, 0]'),\n",
       " Text(274.94037089871614, 127.62782608695652, 'X[37] <= -0.514\\nentropy = 0.027\\nsamples = 969\\nvalue = [956, 0, 0, 0, 4, 9, 0, 0, 0, 0, 0, 0]'),\n",
       " Text(273.66676176890155, 118.17391304347825, 'entropy = 0.0\\nsamples = 4\\nvalue = [0, 0, 0, 0, 0, 4, 0, 0, 0, 0, 0, 0]'),\n",
       " Text(276.21398002853067, 118.17391304347825, 'X[266] <= -0.47\\nentropy = 0.019\\nsamples = 965\\nvalue = [956, 0, 0, 0, 4, 5, 0, 0, 0, 0, 0, 0]'),\n",
       " Text(274.94037089871614, 108.72, 'entropy = 0.0\\nsamples = 2\\nvalue = [0, 0, 0, 0, 2, 0, 0, 0, 0, 0, 0, 0]'),\n",
       " Text(277.4875891583452, 108.72, 'X[157] <= 0.441\\nentropy = 0.014\\nsamples = 963\\nvalue = [956, 0, 0, 0, 2, 5, 0, 0, 0, 0, 0, 0]'),\n",
       " Text(276.21398002853067, 99.26608695652173, 'X[505] <= -0.534\\nentropy = 0.012\\nsamples = 962\\nvalue = [956, 0, 0, 0, 1, 5, 0, 0, 0, 0, 0, 0]'),\n",
       " Text(274.94037089871614, 89.81217391304348, 'X[26] <= -0.274\\nentropy = 0.01\\nsamples = 961\\nvalue = [956, 0, 0, 0, 0, 5, 0, 0, 0, 0, 0, 0]'),\n",
       " Text(273.66676176890155, 80.35826086956521, 'entropy = 0.0\\nsamples = 1\\nvalue = [0, 0, 0, 0, 0, 1, 0, 0, 0, 0, 0, 0]'),\n",
       " Text(276.21398002853067, 80.35826086956521, 'X[0] <= -0.024\\nentropy = 0.008\\nsamples = 960\\nvalue = [956, 0, 0, 0, 0, 4, 0, 0, 0, 0, 0, 0]'),\n",
       " Text(274.94037089871614, 70.90434782608696, 'entropy = 0.0\\nsamples = 1\\nvalue = [0, 0, 0, 0, 0, 1, 0, 0, 0, 0, 0, 0]'),\n",
       " Text(277.4875891583452, 70.90434782608696, 'X[38] <= -0.573\\nentropy = 0.006\\nsamples = 959\\nvalue = [956, 0, 0, 0, 0, 3, 0, 0, 0, 0, 0, 0]'),\n",
       " Text(276.21398002853067, 61.45043478260868, 'entropy = 0.0\\nsamples = 1\\nvalue = [0, 0, 0, 0, 0, 1, 0, 0, 0, 0, 0, 0]'),\n",
       " Text(278.7611982881598, 61.45043478260868, 'X[556] <= 0.991\\nentropy = 0.004\\nsamples = 958\\nvalue = [956, 0, 0, 0, 0, 2, 0, 0, 0, 0, 0, 0]'),\n",
       " Text(277.4875891583452, 51.99652173913043, 'X[142] <= 0.801\\nentropy = 0.002\\nsamples = 957\\nvalue = [956, 0, 0, 0, 0, 1, 0, 0, 0, 0, 0, 0]'),\n",
       " Text(276.21398002853067, 42.54260869565218, 'entropy = 0.0\\nsamples = 955\\nvalue = [955, 0, 0, 0, 0, 0, 0, 0, 0, 0, 0, 0]'),\n",
       " Text(278.7611982881598, 42.54260869565218, 'X[234] <= 0.693\\nentropy = 0.5\\nsamples = 2\\nvalue = [1, 0, 0, 0, 0, 1, 0, 0, 0, 0, 0, 0]'),\n",
       " Text(277.4875891583452, 33.0886956521739, 'entropy = 0.0\\nsamples = 1\\nvalue = [1, 0, 0, 0, 0, 0, 0, 0, 0, 0, 0, 0]'),\n",
       " Text(280.0348074179743, 33.0886956521739, 'entropy = 0.0\\nsamples = 1\\nvalue = [0, 0, 0, 0, 0, 1, 0, 0, 0, 0, 0, 0]'),\n",
       " Text(280.0348074179743, 51.99652173913043, 'entropy = 0.0\\nsamples = 1\\nvalue = [0, 0, 0, 0, 0, 1, 0, 0, 0, 0, 0, 0]'),\n",
       " Text(277.4875891583452, 89.81217391304348, 'entropy = 0.0\\nsamples = 1\\nvalue = [0, 0, 0, 0, 1, 0, 0, 0, 0, 0, 0, 0]'),\n",
       " Text(278.7611982881598, 99.26608695652173, 'entropy = 0.0\\nsamples = 1\\nvalue = [0, 0, 0, 0, 1, 0, 0, 0, 0, 0, 0, 0]'),\n",
       " Text(280.0348074179743, 127.62782608695652, 'X[273] <= -0.252\\nentropy = 0.278\\nsamples = 6\\nvalue = [1, 0, 0, 0, 5, 0, 0, 0, 0, 0, 0, 0]'),\n",
       " Text(278.7611982881598, 118.17391304347825, 'entropy = 0.0\\nsamples = 1\\nvalue = [1, 0, 0, 0, 0, 0, 0, 0, 0, 0, 0, 0]'),\n",
       " Text(281.30841654778885, 118.17391304347825, 'entropy = 0.0\\nsamples = 5\\nvalue = [0, 0, 0, 0, 5, 0, 0, 0, 0, 0, 0, 0]'),\n",
       " Text(283.85563480741797, 137.08173913043478, 'X[442] <= -0.492\\nentropy = 0.219\\nsamples = 8\\nvalue = [0, 0, 1, 0, 0, 7, 0, 0, 0, 0, 0, 0]'),\n",
       " Text(282.58202567760344, 127.62782608695652, 'entropy = 0.0\\nsamples = 1\\nvalue = [0, 0, 1, 0, 0, 0, 0, 0, 0, 0, 0, 0]'),\n",
       " Text(285.1292439372325, 127.62782608695652, 'entropy = 0.0\\nsamples = 7\\nvalue = [0, 0, 0, 0, 0, 7, 0, 0, 0, 0, 0, 0]'),\n",
       " Text(287.6764621968616, 146.53565217391304, 'X[197] <= 0.402\\nentropy = 0.466\\nsamples = 92\\nvalue = [58, 0, 0, 0, 34, 0, 0, 0, 0, 0, 0, 0]'),\n",
       " Text(286.4028530670471, 137.08173913043478, 'entropy = 0.0\\nsamples = 31\\nvalue = [0, 0, 0, 0, 31, 0, 0, 0, 0, 0, 0, 0]'),\n",
       " Text(288.95007132667615, 137.08173913043478, 'X[58] <= -0.849\\nentropy = 0.094\\nsamples = 61\\nvalue = [58, 0, 0, 0, 3, 0, 0, 0, 0, 0, 0, 0]'),\n",
       " Text(287.6764621968616, 127.62782608695652, 'entropy = 0.0\\nsamples = 58\\nvalue = [58, 0, 0, 0, 0, 0, 0, 0, 0, 0, 0, 0]'),\n",
       " Text(290.22368045649074, 127.62782608695652, 'entropy = 0.0\\nsamples = 3\\nvalue = [0, 0, 0, 0, 3, 0, 0, 0, 0, 0, 0, 0]'),\n",
       " Text(304.79058487874465, 184.3513043478261, 'X[418] <= -0.963\\nentropy = 0.263\\nsamples = 955\\nvalue = [50, 5, 0, 6, 76, 815, 0, 0, 0, 3, 0, 0]'),\n",
       " Text(295.3181169757489, 174.89739130434782, 'X[381] <= -0.529\\nentropy = 0.521\\nsamples = 68\\nvalue = [0, 4, 0, 2, 44, 16, 0, 0, 0, 2, 0, 0]'),\n",
       " Text(294.0445078459344, 165.44347826086957, 'X[92] <= 0.308\\nentropy = 0.37\\nsamples = 56\\nvalue = [0, 4, 0, 2, 44, 4, 0, 0, 0, 2, 0, 0]'),\n",
       " Text(291.49728958630527, 155.98956521739132, 'X[269] <= -0.121\\nentropy = 0.083\\nsamples = 46\\nvalue = [0, 0, 0, 0, 44, 0, 0, 0, 0, 2, 0, 0]'),\n",
       " Text(290.22368045649074, 146.53565217391304, 'entropy = 0.0\\nsamples = 44\\nvalue = [0, 0, 0, 0, 44, 0, 0, 0, 0, 0, 0, 0]'),\n",
       " Text(292.77089871611986, 146.53565217391304, 'entropy = 0.0\\nsamples = 2\\nvalue = [0, 0, 0, 0, 0, 0, 0, 0, 0, 2, 0, 0]'),\n",
       " Text(296.5917261055635, 155.98956521739132, 'X[257] <= -0.643\\nentropy = 0.64\\nsamples = 10\\nvalue = [0, 4, 0, 2, 0, 4, 0, 0, 0, 0, 0, 0]'),\n",
       " Text(295.3181169757489, 146.53565217391304, 'X[18] <= -0.691\\nentropy = 0.444\\nsamples = 6\\nvalue = [0, 4, 0, 2, 0, 0, 0, 0, 0, 0, 0, 0]'),\n",
       " Text(294.0445078459344, 137.08173913043478, 'entropy = 0.0\\nsamples = 2\\nvalue = [0, 0, 0, 2, 0, 0, 0, 0, 0, 0, 0, 0]'),\n",
       " Text(296.5917261055635, 137.08173913043478, 'entropy = 0.0\\nsamples = 4\\nvalue = [0, 4, 0, 0, 0, 0, 0, 0, 0, 0, 0, 0]'),\n",
       " Text(297.86533523537804, 146.53565217391304, 'entropy = 0.0\\nsamples = 4\\nvalue = [0, 0, 0, 0, 0, 4, 0, 0, 0, 0, 0, 0]'),\n",
       " Text(296.5917261055635, 165.44347826086957, 'entropy = 0.0\\nsamples = 12\\nvalue = [0, 0, 0, 0, 0, 12, 0, 0, 0, 0, 0, 0]'),\n",
       " Text(314.2630527817404, 174.89739130434782, 'X[503] <= -0.45\\nentropy = 0.184\\nsamples = 887\\nvalue = [50, 1, 0, 4, 32, 799, 0, 0, 0, 1, 0, 0]'),\n",
       " Text(304.2333808844508, 165.44347826086957, 'X[473] <= -0.874\\nentropy = 0.58\\nsamples = 63\\nvalue = [35, 0, 0, 0, 9, 19, 0, 0, 0, 0, 0, 0]'),\n",
       " Text(301.6861626248217, 155.98956521739132, 'X[275] <= -0.554\\nentropy = 0.469\\nsamples = 24\\nvalue = [1, 0, 0, 0, 7, 16, 0, 0, 0, 0, 0, 0]'),\n",
       " Text(300.41255349500716, 146.53565217391304, 'entropy = 0.0\\nsamples = 15\\nvalue = [0, 0, 0, 0, 0, 15, 0, 0, 0, 0, 0, 0]'),\n",
       " Text(302.9597717546362, 146.53565217391304, 'X[364] <= -0.381\\nentropy = 0.37\\nsamples = 9\\nvalue = [1, 0, 0, 0, 7, 1, 0, 0, 0, 0, 0, 0]'),\n",
       " Text(301.6861626248217, 137.08173913043478, 'X[525] <= 0.14\\nentropy = 0.5\\nsamples = 2\\nvalue = [1, 0, 0, 0, 0, 1, 0, 0, 0, 0, 0, 0]'),\n",
       " Text(300.41255349500716, 127.62782608695652, 'entropy = 0.0\\nsamples = 1\\nvalue = [1, 0, 0, 0, 0, 0, 0, 0, 0, 0, 0, 0]'),\n",
       " Text(302.9597717546362, 127.62782608695652, 'entropy = 0.0\\nsamples = 1\\nvalue = [0, 0, 0, 0, 0, 1, 0, 0, 0, 0, 0, 0]'),\n",
       " Text(304.2333808844508, 137.08173913043478, 'entropy = 0.0\\nsamples = 7\\nvalue = [0, 0, 0, 0, 7, 0, 0, 0, 0, 0, 0, 0]'),\n",
       " Text(306.7805991440799, 155.98956521739132, 'X[316] <= -0.811\\nentropy = 0.231\\nsamples = 39\\nvalue = [34, 0, 0, 0, 2, 3, 0, 0, 0, 0, 0, 0]'),\n",
       " Text(305.50699001426534, 146.53565217391304, 'entropy = 0.0\\nsamples = 33\\nvalue = [33, 0, 0, 0, 0, 0, 0, 0, 0, 0, 0, 0]'),\n",
       " Text(308.05420827389446, 146.53565217391304, 'X[228] <= -0.151\\nentropy = 0.611\\nsamples = 6\\nvalue = [1, 0, 0, 0, 2, 3, 0, 0, 0, 0, 0, 0]'),\n",
       " Text(306.7805991440799, 137.08173913043478, 'X[226] <= -0.135\\nentropy = 0.444\\nsamples = 3\\nvalue = [1, 0, 0, 0, 2, 0, 0, 0, 0, 0, 0, 0]'),\n",
       " Text(305.50699001426534, 127.62782608695652, 'entropy = 0.0\\nsamples = 2\\nvalue = [0, 0, 0, 0, 2, 0, 0, 0, 0, 0, 0, 0]'),\n",
       " Text(308.05420827389446, 127.62782608695652, 'entropy = 0.0\\nsamples = 1\\nvalue = [1, 0, 0, 0, 0, 0, 0, 0, 0, 0, 0, 0]'),\n",
       " Text(309.327817403709, 137.08173913043478, 'entropy = 0.0\\nsamples = 3\\nvalue = [0, 0, 0, 0, 0, 3, 0, 0, 0, 0, 0, 0]'),\n",
       " Text(324.29272467902996, 165.44347826086957, 'X[102] <= 0.719\\nentropy = 0.103\\nsamples = 824\\nvalue = [15, 1, 0, 4, 23, 780, 0, 0, 0, 1, 0, 0]'),\n",
       " Text(317.60627674750356, 155.98956521739132, 'X[59] <= -0.766\\nentropy = 0.047\\nsamples = 757\\nvalue = [5, 1, 0, 4, 7, 739, 0, 0, 0, 1, 0, 0]'),\n",
       " Text(314.4222539229672, 146.53565217391304, 'X[159] <= 0.218\\nentropy = 0.032\\nsamples = 751\\nvalue = [5, 0, 0, 0, 7, 739, 0, 0, 0, 0, 0, 0]'),\n",
       " Text(311.8750356633381, 137.08173913043478, 'X[420] <= -0.988\\nentropy = 0.011\\nsamples = 729\\nvalue = [0, 0, 0, 0, 4, 725, 0, 0, 0, 0, 0, 0]'),\n",
       " Text(310.6014265335235, 127.62782608695652, 'entropy = 0.0\\nsamples = 1\\nvalue = [0, 0, 0, 0, 1, 0, 0, 0, 0, 0, 0, 0]'),\n",
       " Text(313.14864479315264, 127.62782608695652, 'X[180] <= -0.814\\nentropy = 0.008\\nsamples = 728\\nvalue = [0, 0, 0, 0, 3, 725, 0, 0, 0, 0, 0, 0]'),\n",
       " Text(311.8750356633381, 118.17391304347825, 'entropy = 0.0\\nsamples = 1\\nvalue = [0, 0, 0, 0, 1, 0, 0, 0, 0, 0, 0, 0]'),\n",
       " Text(314.4222539229672, 118.17391304347825, 'X[446] <= 0.377\\nentropy = 0.005\\nsamples = 727\\nvalue = [0, 0, 0, 0, 2, 725, 0, 0, 0, 0, 0, 0]'),\n",
       " Text(311.8750356633381, 108.72, 'X[251] <= -0.041\\nentropy = 0.5\\nsamples = 2\\nvalue = [0, 0, 0, 0, 1, 1, 0, 0, 0, 0, 0, 0]'),\n",
       " Text(310.6014265335235, 99.26608695652173, 'entropy = 0.0\\nsamples = 1\\nvalue = [0, 0, 0, 0, 0, 1, 0, 0, 0, 0, 0, 0]'),\n",
       " Text(313.14864479315264, 99.26608695652173, 'entropy = 0.0\\nsamples = 1\\nvalue = [0, 0, 0, 0, 1, 0, 0, 0, 0, 0, 0, 0]'),\n",
       " Text(316.9694721825963, 108.72, 'X[41] <= -0.385\\nentropy = 0.003\\nsamples = 725\\nvalue = [0, 0, 0, 0, 1, 724, 0, 0, 0, 0, 0, 0]'),\n",
       " Text(315.69586305278176, 99.26608695652173, 'X[68] <= 0.804\\nentropy = 0.5\\nsamples = 2\\nvalue = [0, 0, 0, 0, 1, 1, 0, 0, 0, 0, 0, 0]'),\n",
       " Text(314.4222539229672, 89.81217391304348, 'entropy = 0.0\\nsamples = 1\\nvalue = [0, 0, 0, 0, 1, 0, 0, 0, 0, 0, 0, 0]'),\n",
       " Text(316.9694721825963, 89.81217391304348, 'entropy = 0.0\\nsamples = 1\\nvalue = [0, 0, 0, 0, 0, 1, 0, 0, 0, 0, 0, 0]'),\n",
       " Text(318.2430813124108, 99.26608695652173, 'entropy = 0.0\\nsamples = 723\\nvalue = [0, 0, 0, 0, 0, 723, 0, 0, 0, 0, 0, 0]'),\n",
       " Text(316.9694721825963, 137.08173913043478, 'X[23] <= 0.128\\nentropy = 0.525\\nsamples = 22\\nvalue = [5, 0, 0, 0, 3, 14, 0, 0, 0, 0, 0, 0]'),\n",
       " Text(315.69586305278176, 127.62782608695652, 'entropy = 0.0\\nsamples = 5\\nvalue = [5, 0, 0, 0, 0, 0, 0, 0, 0, 0, 0, 0]'),\n",
       " Text(318.2430813124108, 127.62782608695652, 'X[41] <= -0.252\\nentropy = 0.291\\nsamples = 17\\nvalue = [0, 0, 0, 0, 3, 14, 0, 0, 0, 0, 0, 0]'),\n",
       " Text(316.9694721825963, 118.17391304347825, 'entropy = 0.0\\nsamples = 3\\nvalue = [0, 0, 0, 0, 3, 0, 0, 0, 0, 0, 0, 0]'),\n",
       " Text(319.5166904422254, 118.17391304347825, 'entropy = 0.0\\nsamples = 14\\nvalue = [0, 0, 0, 0, 0, 14, 0, 0, 0, 0, 0, 0]'),\n",
       " Text(320.79029957203994, 146.53565217391304, 'X[379] <= -0.499\\nentropy = 0.5\\nsamples = 6\\nvalue = [0, 1, 0, 4, 0, 0, 0, 0, 0, 1, 0, 0]'),\n",
       " Text(319.5166904422254, 137.08173913043478, 'entropy = 0.0\\nsamples = 4\\nvalue = [0, 0, 0, 4, 0, 0, 0, 0, 0, 0, 0, 0]'),\n",
       " Text(322.0639087018545, 137.08173913043478, 'X[557] <= -0.097\\nentropy = 0.5\\nsamples = 2\\nvalue = [0, 1, 0, 0, 0, 0, 0, 0, 0, 1, 0, 0]'),\n",
       " Text(320.79029957203994, 127.62782608695652, 'entropy = 0.0\\nsamples = 1\\nvalue = [0, 1, 0, 0, 0, 0, 0, 0, 0, 0, 0, 0]'),\n",
       " Text(323.33751783166906, 127.62782608695652, 'entropy = 0.0\\nsamples = 1\\nvalue = [0, 0, 0, 0, 0, 0, 0, 0, 0, 1, 0, 0]'),\n",
       " Text(330.97917261055636, 155.98956521739132, 'X[559] <= 0.291\\nentropy = 0.546\\nsamples = 67\\nvalue = [10, 0, 0, 0, 16, 41, 0, 0, 0, 0, 0, 0]'),\n",
       " Text(329.7055634807418, 146.53565217391304, 'X[198] <= 0.482\\nentropy = 0.365\\nsamples = 53\\nvalue = [10, 0, 0, 0, 2, 41, 0, 0, 0, 0, 0, 0]'),\n",
       " Text(327.1583452211127, 137.08173913043478, 'X[233] <= -0.425\\nentropy = 0.135\\nsamples = 42\\nvalue = [1, 0, 0, 0, 2, 39, 0, 0, 0, 0, 0, 0]'),\n",
       " Text(325.8847360912981, 127.62782608695652, 'entropy = 0.0\\nsamples = 2\\nvalue = [0, 0, 0, 0, 2, 0, 0, 0, 0, 0, 0, 0]'),\n",
       " Text(328.43195435092724, 127.62782608695652, 'X[1] <= -0.064\\nentropy = 0.049\\nsamples = 40\\nvalue = [1, 0, 0, 0, 0, 39, 0, 0, 0, 0, 0, 0]'),\n",
       " Text(327.1583452211127, 118.17391304347825, 'entropy = 0.0\\nsamples = 1\\nvalue = [1, 0, 0, 0, 0, 0, 0, 0, 0, 0, 0, 0]'),\n",
       " Text(329.7055634807418, 118.17391304347825, 'entropy = 0.0\\nsamples = 39\\nvalue = [0, 0, 0, 0, 0, 39, 0, 0, 0, 0, 0, 0]'),\n",
       " Text(332.2527817403709, 137.08173913043478, 'X[363] <= 0.318\\nentropy = 0.298\\nsamples = 11\\nvalue = [9, 0, 0, 0, 0, 2, 0, 0, 0, 0, 0, 0]'),\n",
       " Text(330.97917261055636, 127.62782608695652, 'entropy = 0.0\\nsamples = 9\\nvalue = [9, 0, 0, 0, 0, 0, 0, 0, 0, 0, 0, 0]'),\n",
       " Text(333.5263908701855, 127.62782608695652, 'entropy = 0.0\\nsamples = 2\\nvalue = [0, 0, 0, 0, 0, 2, 0, 0, 0, 0, 0, 0]'),\n",
       " Text(332.2527817403709, 146.53565217391304, 'entropy = 0.0\\nsamples = 14\\nvalue = [0, 0, 0, 0, 14, 0, 0, 0, 0, 0, 0, 0]')]"
      ]
     },
     "execution_count": 13,
     "metadata": {},
     "output_type": "execute_result"
    },
    {
     "data": {
      "image/png": "[encoded data removed]",
      "text/plain": [
       "<Figure size 432x288 with 1 Axes>"
      ]
     },
     "metadata": {},
     "output_type": "display_data"
    }
   ],
   "source": [
    "tree.plot_tree(classifier)"
   ]
  },
  {
   "cell_type": "markdown",
   "metadata": {},
   "source": [
    "### 4. Classification avec RandomForest"
   ]
  },
  {
   "cell_type": "code",
   "execution_count": 14,
   "metadata": {},
   "outputs": [],
   "source": [
    "RFC = RandomForestClassifier()\n",
    "RFC_classification = RFC.fit(x_train,y_train)\n",
    "RFC_pred = RFC_classification.predict(x_test)"
   ]
  },
  {
   "cell_type": "code",
   "execution_count": 15,
   "metadata": {},
   "outputs": [
    {
     "data": {
      "image/png": "[encoded data removed]",
      "text/plain": [
       "<Figure size 432x288 with 2 Axes>"
      ]
     },
     "metadata": {},
     "output_type": "display_data"
    },
    {
     "name": "stdout",
     "output_type": "stream",
     "text": [
      "              precision    recall  f1-score   support\n",
      "\n",
      "           1       0.85      0.97      0.91       496\n",
      "          10       0.55      0.84      0.67        25\n",
      "          11       0.55      0.57      0.56        49\n",
      "          12       0.53      0.30      0.38        27\n",
      "           2       0.88      0.86      0.87       471\n",
      "           3       0.96      0.82      0.89       420\n",
      "           4       0.89      0.87      0.88       508\n",
      "           5       0.89      0.91      0.90       556\n",
      "           6       1.00      0.99      1.00       545\n",
      "           7       0.70      0.61      0.65        23\n",
      "           8       0.80      0.80      0.80        10\n",
      "           9       0.56      0.47      0.51        32\n",
      "\n",
      "    accuracy                           0.89      3162\n",
      "   macro avg       0.76      0.75      0.75      3162\n",
      "weighted avg       0.89      0.89      0.89      3162\n",
      "\n"
     ]
    }
   ],
   "source": [
    "sn.heatmap(confusion_matrix(y_test, RFC_pred), annot=True, annot_kws={\"size\": 12}, cmap = plt.cm.Greens, fmt='g') \n",
    "sn.set(font_scale = 1.2) \n",
    "plt.show()\n",
    "print(classification_report(y_test,RFC_pred))"
   ]
  },
  {
   "cell_type": "code",
   "execution_count": 16,
   "metadata": {},
   "outputs": [
    {
     "data": {
      "text/plain": [
       "<matplotlib.collections.PathCollection at 0x28ef4475518>"
      ]
     },
     "execution_count": 16,
     "metadata": {},
     "output_type": "execute_result"
    },
    {
     "data": {
      "image/png": "[encoded data removed]",
      "text/plain": [
       "<Figure size 432x288 with 1 Axes>"
      ]
     },
     "metadata": {},
     "output_type": "display_data"
    }
   ],
   "source": [
    "#prediction against true values\n",
    "plt.scatter(x=y_test, y=RFC_classification.predict(x_test))"
   ]
  },
  {
   "cell_type": "code",
   "execution_count": 17,
   "metadata": {},
   "outputs": [
    {
     "name": "stdout",
     "output_type": "stream",
     "text": [
      "0.8908918406072106\n"
     ]
    }
   ],
   "source": [
    "RFC_score = RFC_classification.score(x_test,y_test)\n",
    "print(RFC_score)"
   ]
  },
  {
   "cell_type": "markdown",
   "metadata": {},
   "source": [
    "### 5. Classification avec LinearSVM"
   ]
  },
  {
   "cell_type": "code",
   "execution_count": 18,
   "metadata": {},
   "outputs": [],
   "source": [
    "lsvm = svm.SVC(kernel='linear')\n",
    "lsvm_clf = lsvm.fit(x_train,y_train)\n",
    "lsvm_pred = lsvm_clf.predict(x_test)"
   ]
  },
  {
   "cell_type": "code",
   "execution_count": 19,
   "metadata": {},
   "outputs": [
    {
     "data": {
      "image/png": "[encoded data removed]",
      "text/plain": [
       "<Figure size 432x288 with 2 Axes>"
      ]
     },
     "metadata": {},
     "output_type": "display_data"
    },
    {
     "name": "stdout",
     "output_type": "stream",
     "text": [
      "              precision    recall  f1-score   support\n",
      "\n",
      "           1       0.96      0.99      0.98       496\n",
      "          10       0.72      0.72      0.72        25\n",
      "          11       0.69      0.67      0.68        49\n",
      "          12       0.72      0.67      0.69        27\n",
      "           2       0.98      0.97      0.97       471\n",
      "           3       0.99      0.98      0.98       420\n",
      "           4       0.96      0.89      0.92       508\n",
      "           5       0.91      0.97      0.94       556\n",
      "           6       1.00      1.00      1.00       545\n",
      "           7       1.00      0.78      0.88        23\n",
      "           8       0.91      1.00      0.95        10\n",
      "           9       0.58      0.66      0.62        32\n",
      "\n",
      "    accuracy                           0.95      3162\n",
      "   macro avg       0.87      0.86      0.86      3162\n",
      "weighted avg       0.95      0.95      0.95      3162\n",
      "\n"
     ]
    }
   ],
   "source": [
    "sn.heatmap(confusion_matrix(y_test, lsvm_pred), annot=True, annot_kws={\"size\": 12}, cmap = plt.cm.Blues, fmt='g') \n",
    "sn.set(font_scale = 1.2) \n",
    "plt.show()\n",
    "print(classification_report(y_test,lsvm_pred))"
   ]
  },
  {
   "cell_type": "code",
   "execution_count": 20,
   "metadata": {},
   "outputs": [
    {
     "data": {
      "text/plain": [
       "<matplotlib.collections.PathCollection at 0x28ef46b4160>"
      ]
     },
     "execution_count": 20,
     "metadata": {},
     "output_type": "execute_result"
    },
    {
     "data": {
      "image/png": "[encoded data removed]",
      "text/plain": [
       "<Figure size 432x288 with 1 Axes>"
      ]
     },
     "metadata": {},
     "output_type": "display_data"
    }
   ],
   "source": [
    "#prediction against true values\n",
    "plt.scatter(x=y_test, y=lsvm_clf.predict(x_test))"
   ]
  },
  {
   "cell_type": "code",
   "execution_count": 21,
   "metadata": {},
   "outputs": [
    {
     "name": "stdout",
     "output_type": "stream",
     "text": [
      "0.9522454142947502\n"
     ]
    }
   ],
   "source": [
    "linearSVM_score = lsvm_clf.score(x_test, y_test)\n",
    "print(linearSVM_score)"
   ]
  },
  {
   "cell_type": "markdown",
   "metadata": {},
   "source": [
    "### 6. Classification avec KNN"
   ]
  },
  {
   "cell_type": "code",
   "execution_count": 22,
   "metadata": {},
   "outputs": [],
   "source": [
    "neigh = KNeighborsClassifier(n_neighbors=3)\n",
    "neigh.fit(x_train, y_train)\n",
    "neigh_predict = neigh.predict(x_test)"
   ]
  },
  {
   "cell_type": "code",
   "execution_count": 23,
   "metadata": {},
   "outputs": [
    {
     "data": {
      "image/png": "[encoded data removed]",
      "text/plain": [
       "<Figure size 432x288 with 2 Axes>"
      ]
     },
     "metadata": {},
     "output_type": "display_data"
    },
    {
     "name": "stdout",
     "output_type": "stream",
     "text": [
      "              precision    recall  f1-score   support\n",
      "\n",
      "           1       0.84      0.98      0.91       496\n",
      "          10       0.64      0.84      0.72        25\n",
      "          11       0.73      0.55      0.63        49\n",
      "          12       0.79      0.41      0.54        27\n",
      "           2       0.87      0.90      0.88       471\n",
      "           3       0.94      0.77      0.85       420\n",
      "           4       0.86      0.78      0.82       508\n",
      "           5       0.82      0.88      0.85       556\n",
      "           6       1.00      0.99      1.00       545\n",
      "           7       0.94      0.70      0.80        23\n",
      "           8       1.00      0.90      0.95        10\n",
      "           9       0.61      0.84      0.71        32\n",
      "\n",
      "    accuracy                           0.88      3162\n",
      "   macro avg       0.84      0.79      0.80      3162\n",
      "weighted avg       0.88      0.88      0.87      3162\n",
      "\n"
     ]
    }
   ],
   "source": [
    "sn.heatmap(confusion_matrix(y_test, neigh_predict), annot=True, annot_kws={\"size\": 12}, cmap = plt.cm.BuPu, fmt='g') \n",
    "sn.set(font_scale = 1.2) \n",
    "plt.show()\n",
    "print(classification_report(y_test,neigh_predict))"
   ]
  },
  {
   "cell_type": "code",
   "execution_count": 24,
   "metadata": {},
   "outputs": [
    {
     "data": {
      "text/plain": [
       "<matplotlib.collections.PathCollection at 0x28ef4332898>"
      ]
     },
     "execution_count": 24,
     "metadata": {},
     "output_type": "execute_result"
    },
    {
     "data": {
      "image/png": "[encoded data removed]",
      "text/plain": [
       "<Figure size 432x288 with 1 Axes>"
      ]
     },
     "metadata": {},
     "output_type": "display_data"
    }
   ],
   "source": [
    "#prediction against true values\n",
    "plt.scatter(x=y_test, y=neigh.predict(x_test))"
   ]
  },
  {
   "cell_type": "code",
   "execution_count": 25,
   "metadata": {},
   "outputs": [
    {
     "data": {
      "text/plain": [
       "0.8760278304870335"
      ]
     },
     "execution_count": 25,
     "metadata": {},
     "output_type": "execute_result"
    }
   ],
   "source": [
    "knn_score = neigh.score(x_test,y_test)\n",
    "knn_score"
   ]
  },
  {
   "cell_type": "markdown",
   "metadata": {},
   "source": [
    "### 7. Comparatifs résultats"
   ]
  },
  {
   "cell_type": "code",
   "execution_count": 26,
   "metadata": {},
   "outputs": [
    {
     "data": {
      "image/png": "[encoded data removed]",
      "text/plain": [
       "<Figure size 432x288 with 1 Axes>"
      ]
     },
     "metadata": {},
     "output_type": "display_data"
    }
   ],
   "source": [
    "scores = [dtc_score, RFC_score, linearSVM_score, knn_score]\n",
    "names  = [\"DTC\",\"RFC\",\"LinearSVM\", \"KNN\"]\n",
    "fig    = plt.figure()\n",
    "axis   = fig.add_axes([0,0,1,1])\n",
    "\n",
    "\n",
    "axis.set_title(\"Comparatifs des précisions\")\n",
    "axis.bar(names, scores, color = (0.5,0.3,1,0.6), width=0.4)\n",
    "plt.show()"
   ]
  },
  {
   "cell_type": "markdown",
   "metadata": {},
   "source": [
    "----\n",
    "### 8. Data preprocessing\n",
    "\n",
    "*Lors de mes explications, le terme colonne équivaut au terme \"feature\"*"
   ]
  },
  {
   "cell_type": "markdown",
   "metadata": {},
   "source": [
    "**Ci-dessous, on va \"nettoyer\" le dataset pour ne conserver qu'une partie des colonnes, celles avec les variances les plus élevées.**"
   ]
  },
  {
   "cell_type": "markdown",
   "metadata": {},
   "source": [
    "Bien que le code ci dessous puisse paraître un peu barbare, il n'est pas si compliqué :\n",
    "\n",
    "\n",
    "L'objectif de la boucle \"for\" est de tester chaque modèle (DTC, RFC, SVM) selon un dataframe (train) de plus en plus petit, en effet nous allons calculer la variance de chaque colonne du dataframe et supprimer celles dont la variance est proche de zéro. Nous pourrons donc déterminer par la suite, le nombre de colonnes que l'on peut conserver pour que chaque modèle puisse être effectif, malgré un dataframe plus léger.\n",
    "\n",
    "*Ce processus pourrait être très utile d'un point de vue algorythmique pour réduire les coûts au niveau du temps de compilation ainsi que de stockage (plus le dataframe est petit, plus il est léger et donc moins de cout de stockage au niveau des bdd ou serveurs).*"
   ]
  },
  {
   "cell_type": "markdown",
   "metadata": {},
   "source": [
    "----\n",
    "\n",
    "**LOADING DATA ...**\n",
    "\n",
    "----"
   ]
  },
  {
   "cell_type": "code",
   "execution_count": 27,
   "metadata": {},
   "outputs": [],
   "source": [
    "array_scores_DTC = []\n",
    "array_scores_RFC = []\n",
    "array_scores_SVM = []\n",
    "array_scores_KNN = []\n",
    "nb_columns       = []\n",
    "\n",
    "seuil_variance = 0.00\n",
    "for i in range(0, 7, 1):\n",
    "    \n",
    "    variance_list = data_train.var() < seuil_variance\n",
    "    \n",
    "    low_var = []\n",
    "    for i in range(len(variance_list)):\n",
    "        if variance_list[i] == True:\n",
    "            low_var.append(i)\n",
    "            \n",
    "    data_train_bis = data_train\n",
    "    data_test_bis  = data_test\n",
    "\n",
    "    data_train_bis = data_train_bis.drop(columns=low_var)\n",
    "    data_test_bis  = data_test_bis.drop(columns=low_var)\n",
    "    \n",
    "    x_train_bis = data_train_bis.drop('Class', axis=1)\n",
    "    y_train_bis = data_train_bis['Class']\n",
    "    x_test_bis  = data_test_bis.drop('Class', axis=1)\n",
    "    y_test_bis  = data_test_bis['Class']\n",
    "    \n",
    "    #ci dessous, calcul du score DTC avec le \"nouveau\" dataframe\n",
    "    classifier_bis = DecisionTreeClassifier()\n",
    "    classifier_bis.fit(x_train_bis, y_train_bis)\n",
    "    y_pred_bis = classifier_bis.predict(x_test_bis)\n",
    "    dtc_score_bis = classifier_bis.score(x_test_bis,y_test_bis)\n",
    "    \n",
    "    #ci dessous, calcul du score RFC avec le \"nouveau\" dataframe\n",
    "    RFC_bis = RandomForestClassifier()\n",
    "    RFC_classification_bis = RFC_bis.fit(x_train_bis,y_train_bis)\n",
    "    RFC_pred_bis = RFC_classification_bis.predict(x_test_bis)\n",
    "    RFC_score_bis = RFC_classification_bis.score(x_test_bis,y_test_bis)\n",
    "    \n",
    "    #ci dessous, calcul du score SVM avec le \"nouveau\" dataframe\n",
    "    lsvm_bis = svm.SVC(kernel='linear')\n",
    "    lsvm_clf_bis = lsvm_bis.fit(x_train_bis,y_train_bis)\n",
    "    lsvm_pred_bis = lsvm_clf_bis.predict(x_test_bis)\n",
    "    linearSVM_score_bis = lsvm_clf_bis.score(x_test_bis, y_test_bis)\n",
    "    \n",
    "    #ci dessous, calcul du score KNN avec le \"nouveau\" dataframe\n",
    "    knn_bis = KNeighborsClassifier(n_neighbors=3)\n",
    "    knn_bis = knn_bis.fit(x_train_bis,y_train_bis)\n",
    "    knn__predict_bis = knn_bis.predict(x_test_bis)\n",
    "    knn_score_bis = knn_bis.score(x_test_bis, y_test_bis)\n",
    "    \n",
    "    nb_columns.append(len(data_test_bis.columns))\n",
    "    array_scores_DTC.append(dtc_score_bis)\n",
    "    array_scores_RFC.append(RFC_score_bis)\n",
    "    array_scores_SVM.append(linearSVM_score_bis)\n",
    "    array_scores_KNN.append(knn_score_bis)\n",
    "    \n",
    "    seuil_variance = seuil_variance + 0.05"
   ]
  },
  {
   "cell_type": "code",
   "execution_count": 28,
   "metadata": {
    "scrolled": false
   },
   "outputs": [
    {
     "data": {
      "image/png": "[encoded data removed]",
      "text/plain": [
       "<Figure size 432x288 with 1 Axes>"
      ]
     },
     "metadata": {},
     "output_type": "display_data"
    }
   ],
   "source": [
    "plt.plot(nb_columns, array_scores_DTC, label=\"DecisionTree\", color=\"red\")\n",
    "plt.plot(nb_columns, array_scores_RFC, label=\"RandomForest\", color=\"green\")\n",
    "plt.plot(nb_columns, array_scores_SVM, label=\"SVM\", color=\"blue\")\n",
    "plt.plot(nb_columns, array_scores_KNN, label=\"KNN\", color=\"purple\")\n",
    "plt.legend()\n",
    "plt.xlabel(\"Nb of columns\")\n",
    "plt.ylabel(\"Accuracies\")\n",
    "plt.title(\"Précision des modèles selon le nombre de colonnes conservées\")\n",
    "plt.show()"
   ]
  },
  {
   "cell_type": "markdown",
   "metadata": {},
   "source": [
    "#### SVM :\n",
    "On aperçoit via le graphique ci dessus que le modèle SVM est très précis dès 175 colonnes et qu'il ne gagne que très peu de précision entre 175 et 560 colonnes"
   ]
  },
  {
   "cell_type": "markdown",
   "metadata": {},
   "source": [
    "#### RandomForest :\n",
    "On aperçoit que le modèle RFC ne gagne que peu de précision et de manière très linéaire de 100 colonnes à 560. On pourrait donc décider de conserver uniquement les 100 colonnes avec les variances les plus élevées si on ne tient pas à ces 3% de précision qu'il gagne avec 560 colonnes"
   ]
  },
  {
   "cell_type": "markdown",
   "metadata": {},
   "source": [
    "#### DecisionTree :\n",
    "Le modèle DTC connait une précision vers 100 colonnes, qu'il n'améliore que peu lorqu'il possède plus de colonnes."
   ]
  },
  {
   "cell_type": "markdown",
   "metadata": {},
   "source": [
    "#### K- Nearest Neighbors :\n",
    "La singularité du résultat obtenu pour le modèle KNN est logique, en effet il est normal que plus le dataset contienne de valeurs, plus un algorythme de classification prenant en compte les n voisins les plus proches sera précis. Ce modèle est celui qui croît le plus lors (ou diminue le plus) selon le nombre de features conservées."
   ]
  },
  {
   "cell_type": "markdown",
   "metadata": {},
   "source": [
    "### 9.Grid search"
   ]
  },
  {
   "cell_type": "markdown",
   "metadata": {},
   "source": [
    "*La cellule ci-dessous prends beaucoup de temps à compiluer suite au \"grid.fit(...)\"*"
   ]
  },
  {
   "cell_type": "code",
   "execution_count": null,
   "metadata": {},
   "outputs": [],
   "source": [
    "hyperparametres_possibles = {\n",
    "    'C'     : [0.5, 1, 1.5],\n",
    "    'gamma' :[0.5, 0.1, 0.15]\n",
    "}\n",
    "grid = GridSearchCV(estimator=svm.SVC(), \n",
    "                                param_grid=hyperparametres_possibles, \n",
    "                                n_jobs=-1, cv=10, verbose=2)\n",
    "\n",
    "grid.fit(x_train, y_train)\n",
    "grid.score"
   ]
  },
  {
   "cell_type": "code",
   "execution_count": null,
   "metadata": {},
   "outputs": [],
   "source": [
    "dir(grid)"
   ]
  },
  {
   "cell_type": "code",
   "execution_count": null,
   "metadata": {},
   "outputs": [],
   "source": [
    "hyperparametres_possibles = {\n",
    "    'C'     : [ 10, 15, 20],\n",
    "    'gamma' :[0.01, 0.05, 1]\n",
    "}\n",
    "grid = GridSearchCV(estimator=svm.SVC(), \n",
    "                                param_grid=hyperparametres_possibles, \n",
    "                                n_jobs=-1)\n",
    "grid.fit(x_train, y_train)\n",
    "grid.score(x_train, y_train)"
   ]
  },
  {
   "cell_type": "markdown",
   "metadata": {},
   "source": [
    "**On obtient suite à la GridSearch un score de prédiction de 98% environ !**<br>\n",
    "**En jouant avec les hyperparamètres on peut donc obtenir de meilleurs résultats**"
   ]
  }
 ],
 "metadata": {
  "kernelspec": {
   "display_name": "Python 3",
   "language": "python",
   "name": "python3"
  },
  "language_info": {
   "codemirror_mode": {
    "name": "ipython",
    "version": 3
   },
   "file_extension": ".py",
   "mimetype": "text/x-python",
   "name": "python",
   "nbconvert_exporter": "python",
   "pygments_lexer": "ipython3",
   "version": "3.7.3"
  }
 },
 "nbformat": 4,
 "nbformat_minor": 2
}
