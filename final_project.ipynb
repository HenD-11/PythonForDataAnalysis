{
 "cells": [
  {
   "cell_type": "markdown",
   "metadata": {},
   "source": [
    "# Projet final \n",
    "--------\n",
    "----\n",
    "### Dataset : \"Smartphone-Based Recognition of Human Activities and Postural Transitions\"\n",
    "#### - Henri Duhamel ESILV A5 -\n",
    "----"
   ]
  },
  {
   "cell_type": "markdown",
   "metadata": {},
   "source": [
    "### 1. Imports"
   ]
  },
  {
   "cell_type": "code",
   "execution_count": 1,
   "metadata": {
    "scrolled": true
   },
   "outputs": [],
   "source": [
    "import numpy   as np\n",
    "import pandas  as pd\n",
    "import seaborn as sn\n",
    "\n",
    "import matplotlib.pyplot as plt\n",
    "%matplotlib inline\n",
    "\n",
    "from sklearn                 import svm, tree\n",
    "from sklearn.tree            import DecisionTreeClassifier\n",
    "from sklearn.model_selection import train_test_split, GridSearchCV\n",
    "from sklearn.metrics         import classification_report, confusion_matrix\n",
    "from sklearn.ensemble        import RandomForestClassifier\n",
    "from sklearn.neighbors       import KNeighborsClassifier"
   ]
  },
  {
   "cell_type": "code",
   "execution_count": 2,
   "metadata": {},
   "outputs": [],
   "source": [
    "import warnings\n",
    "warnings.filterwarnings(\"ignore\") #used to remove future warnings"
   ]
  },
  {
   "cell_type": "markdown",
   "metadata": {},
   "source": [
    "### 2. Formatage et importation des données"
   ]
  },
  {
   "cell_type": "code",
   "execution_count": 3,
   "metadata": {
    "scrolled": false
   },
   "outputs": [
    {
     "data": {
      "text/html": [
       "<div>\n",
       "<style scoped>\n",
       "    .dataframe tbody tr th:only-of-type {\n",
       "        vertical-align: middle;\n",
       "    }\n",
       "\n",
       "    .dataframe tbody tr th {\n",
       "        vertical-align: top;\n",
       "    }\n",
       "\n",
       "    .dataframe thead th {\n",
       "        text-align: right;\n",
       "    }\n",
       "</style>\n",
       "<table border=\"1\" class=\"dataframe\">\n",
       "  <thead>\n",
       "    <tr style=\"text-align: right;\">\n",
       "      <th></th>\n",
       "      <th>0</th>\n",
       "      <th>1</th>\n",
       "      <th>2</th>\n",
       "      <th>3</th>\n",
       "      <th>4</th>\n",
       "      <th>5</th>\n",
       "      <th>6</th>\n",
       "      <th>7</th>\n",
       "      <th>8</th>\n",
       "      <th>9</th>\n",
       "      <th>...</th>\n",
       "      <th>551</th>\n",
       "      <th>552</th>\n",
       "      <th>553</th>\n",
       "      <th>554</th>\n",
       "      <th>555</th>\n",
       "      <th>556</th>\n",
       "      <th>557</th>\n",
       "      <th>558</th>\n",
       "      <th>559</th>\n",
       "      <th>560</th>\n",
       "    </tr>\n",
       "  </thead>\n",
       "  <tbody>\n",
       "    <tr>\n",
       "      <th>0</th>\n",
       "      <td>0.043580</td>\n",
       "      <td>-0.005970</td>\n",
       "      <td>-0.035054</td>\n",
       "      <td>-0.995381</td>\n",
       "      <td>-0.988366</td>\n",
       "      <td>-0.937382</td>\n",
       "      <td>-0.995007</td>\n",
       "      <td>-0.988816</td>\n",
       "      <td>-0.953325</td>\n",
       "      <td>-0.794796</td>\n",
       "      <td>...</td>\n",
       "      <td>-0.012236</td>\n",
       "      <td>-0.314848</td>\n",
       "      <td>-0.713308</td>\n",
       "      <td>-0.112754</td>\n",
       "      <td>0.030400</td>\n",
       "      <td>-0.464761</td>\n",
       "      <td>-0.018446</td>\n",
       "      <td>-0.841559</td>\n",
       "      <td>0.179913</td>\n",
       "      <td>-0.051718</td>\n",
       "    </tr>\n",
       "    <tr>\n",
       "      <th>1</th>\n",
       "      <td>0.039480</td>\n",
       "      <td>-0.002131</td>\n",
       "      <td>-0.029067</td>\n",
       "      <td>-0.998348</td>\n",
       "      <td>-0.982945</td>\n",
       "      <td>-0.971273</td>\n",
       "      <td>-0.998702</td>\n",
       "      <td>-0.983315</td>\n",
       "      <td>-0.974000</td>\n",
       "      <td>-0.802537</td>\n",
       "      <td>...</td>\n",
       "      <td>0.202804</td>\n",
       "      <td>-0.603199</td>\n",
       "      <td>-0.860677</td>\n",
       "      <td>0.053477</td>\n",
       "      <td>-0.007435</td>\n",
       "      <td>-0.732626</td>\n",
       "      <td>0.703511</td>\n",
       "      <td>-0.845092</td>\n",
       "      <td>0.180261</td>\n",
       "      <td>-0.047436</td>\n",
       "    </tr>\n",
       "    <tr>\n",
       "      <th>2</th>\n",
       "      <td>0.039978</td>\n",
       "      <td>-0.005153</td>\n",
       "      <td>-0.022651</td>\n",
       "      <td>-0.995482</td>\n",
       "      <td>-0.977314</td>\n",
       "      <td>-0.984760</td>\n",
       "      <td>-0.996415</td>\n",
       "      <td>-0.975835</td>\n",
       "      <td>-0.985973</td>\n",
       "      <td>-0.798477</td>\n",
       "      <td>...</td>\n",
       "      <td>0.440079</td>\n",
       "      <td>-0.404427</td>\n",
       "      <td>-0.761847</td>\n",
       "      <td>-0.118559</td>\n",
       "      <td>0.177899</td>\n",
       "      <td>0.100699</td>\n",
       "      <td>0.808529</td>\n",
       "      <td>-0.849230</td>\n",
       "      <td>0.180610</td>\n",
       "      <td>-0.042271</td>\n",
       "    </tr>\n",
       "    <tr>\n",
       "      <th>3</th>\n",
       "      <td>0.039785</td>\n",
       "      <td>-0.011809</td>\n",
       "      <td>-0.028916</td>\n",
       "      <td>-0.996194</td>\n",
       "      <td>-0.988569</td>\n",
       "      <td>-0.993256</td>\n",
       "      <td>-0.996994</td>\n",
       "      <td>-0.988526</td>\n",
       "      <td>-0.993135</td>\n",
       "      <td>-0.798477</td>\n",
       "      <td>...</td>\n",
       "      <td>0.430891</td>\n",
       "      <td>-0.138373</td>\n",
       "      <td>-0.491604</td>\n",
       "      <td>-0.036788</td>\n",
       "      <td>-0.012892</td>\n",
       "      <td>0.640011</td>\n",
       "      <td>-0.485366</td>\n",
       "      <td>-0.848947</td>\n",
       "      <td>0.181907</td>\n",
       "      <td>-0.040826</td>\n",
       "    </tr>\n",
       "    <tr>\n",
       "      <th>4</th>\n",
       "      <td>0.038758</td>\n",
       "      <td>-0.002289</td>\n",
       "      <td>-0.023863</td>\n",
       "      <td>-0.998241</td>\n",
       "      <td>-0.986774</td>\n",
       "      <td>-0.993115</td>\n",
       "      <td>-0.998216</td>\n",
       "      <td>-0.986479</td>\n",
       "      <td>-0.993825</td>\n",
       "      <td>-0.801982</td>\n",
       "      <td>...</td>\n",
       "      <td>0.137735</td>\n",
       "      <td>-0.366214</td>\n",
       "      <td>-0.702490</td>\n",
       "      <td>0.123320</td>\n",
       "      <td>0.122542</td>\n",
       "      <td>0.693578</td>\n",
       "      <td>-0.615971</td>\n",
       "      <td>-0.848164</td>\n",
       "      <td>0.185124</td>\n",
       "      <td>-0.037080</td>\n",
       "    </tr>\n",
       "  </tbody>\n",
       "</table>\n",
       "<p>5 rows × 561 columns</p>\n",
       "</div>"
      ],
      "text/plain": [
       "        0         1         2         3         4         5         6    \\\n",
       "0  0.043580 -0.005970 -0.035054 -0.995381 -0.988366 -0.937382 -0.995007   \n",
       "1  0.039480 -0.002131 -0.029067 -0.998348 -0.982945 -0.971273 -0.998702   \n",
       "2  0.039978 -0.005153 -0.022651 -0.995482 -0.977314 -0.984760 -0.996415   \n",
       "3  0.039785 -0.011809 -0.028916 -0.996194 -0.988569 -0.993256 -0.996994   \n",
       "4  0.038758 -0.002289 -0.023863 -0.998241 -0.986774 -0.993115 -0.998216   \n",
       "\n",
       "        7         8         9    ...       551       552       553       554  \\\n",
       "0 -0.988816 -0.953325 -0.794796  ... -0.012236 -0.314848 -0.713308 -0.112754   \n",
       "1 -0.983315 -0.974000 -0.802537  ...  0.202804 -0.603199 -0.860677  0.053477   \n",
       "2 -0.975835 -0.985973 -0.798477  ...  0.440079 -0.404427 -0.761847 -0.118559   \n",
       "3 -0.988526 -0.993135 -0.798477  ...  0.430891 -0.138373 -0.491604 -0.036788   \n",
       "4 -0.986479 -0.993825 -0.801982  ...  0.137735 -0.366214 -0.702490  0.123320   \n",
       "\n",
       "        555       556       557       558       559       560  \n",
       "0  0.030400 -0.464761 -0.018446 -0.841559  0.179913 -0.051718  \n",
       "1 -0.007435 -0.732626  0.703511 -0.845092  0.180261 -0.047436  \n",
       "2  0.177899  0.100699  0.808529 -0.849230  0.180610 -0.042271  \n",
       "3 -0.012892  0.640011 -0.485366 -0.848947  0.181907 -0.040826  \n",
       "4  0.122542  0.693578 -0.615971 -0.848164  0.185124 -0.037080  \n",
       "\n",
       "[5 rows x 561 columns]"
      ]
     },
     "execution_count": 3,
     "metadata": {},
     "output_type": "execute_result"
    }
   ],
   "source": [
    "data_train = pd.read_csv('Train/X_train.txt', sep=\" \", header=None)\n",
    "data_train.head(5)"
   ]
  },
  {
   "cell_type": "code",
   "execution_count": 4,
   "metadata": {},
   "outputs": [],
   "source": [
    "f = open('Train/y_train.txt', 'r')\n",
    "y = f.readlines()  #y = y_train.txt file\n",
    "f.close()"
   ]
  },
  {
   "cell_type": "code",
   "execution_count": 5,
   "metadata": {},
   "outputs": [
    {
     "data": {
      "text/html": [
       "<div>\n",
       "<style scoped>\n",
       "    .dataframe tbody tr th:only-of-type {\n",
       "        vertical-align: middle;\n",
       "    }\n",
       "\n",
       "    .dataframe tbody tr th {\n",
       "        vertical-align: top;\n",
       "    }\n",
       "\n",
       "    .dataframe thead th {\n",
       "        text-align: right;\n",
       "    }\n",
       "</style>\n",
       "<table border=\"1\" class=\"dataframe\">\n",
       "  <thead>\n",
       "    <tr style=\"text-align: right;\">\n",
       "      <th></th>\n",
       "      <th>0</th>\n",
       "      <th>1</th>\n",
       "      <th>2</th>\n",
       "      <th>3</th>\n",
       "      <th>4</th>\n",
       "      <th>5</th>\n",
       "      <th>6</th>\n",
       "      <th>7</th>\n",
       "      <th>8</th>\n",
       "      <th>9</th>\n",
       "      <th>...</th>\n",
       "      <th>552</th>\n",
       "      <th>553</th>\n",
       "      <th>554</th>\n",
       "      <th>555</th>\n",
       "      <th>556</th>\n",
       "      <th>557</th>\n",
       "      <th>558</th>\n",
       "      <th>559</th>\n",
       "      <th>560</th>\n",
       "      <th>Class</th>\n",
       "    </tr>\n",
       "  </thead>\n",
       "  <tbody>\n",
       "    <tr>\n",
       "      <th>0</th>\n",
       "      <td>0.043580</td>\n",
       "      <td>-0.005970</td>\n",
       "      <td>-0.035054</td>\n",
       "      <td>-0.995381</td>\n",
       "      <td>-0.988366</td>\n",
       "      <td>-0.937382</td>\n",
       "      <td>-0.995007</td>\n",
       "      <td>-0.988816</td>\n",
       "      <td>-0.953325</td>\n",
       "      <td>-0.794796</td>\n",
       "      <td>...</td>\n",
       "      <td>-0.314848</td>\n",
       "      <td>-0.713308</td>\n",
       "      <td>-0.112754</td>\n",
       "      <td>0.030400</td>\n",
       "      <td>-0.464761</td>\n",
       "      <td>-0.018446</td>\n",
       "      <td>-0.841559</td>\n",
       "      <td>0.179913</td>\n",
       "      <td>-0.051718</td>\n",
       "      <td>5</td>\n",
       "    </tr>\n",
       "    <tr>\n",
       "      <th>1</th>\n",
       "      <td>0.039480</td>\n",
       "      <td>-0.002131</td>\n",
       "      <td>-0.029067</td>\n",
       "      <td>-0.998348</td>\n",
       "      <td>-0.982945</td>\n",
       "      <td>-0.971273</td>\n",
       "      <td>-0.998702</td>\n",
       "      <td>-0.983315</td>\n",
       "      <td>-0.974000</td>\n",
       "      <td>-0.802537</td>\n",
       "      <td>...</td>\n",
       "      <td>-0.603199</td>\n",
       "      <td>-0.860677</td>\n",
       "      <td>0.053477</td>\n",
       "      <td>-0.007435</td>\n",
       "      <td>-0.732626</td>\n",
       "      <td>0.703511</td>\n",
       "      <td>-0.845092</td>\n",
       "      <td>0.180261</td>\n",
       "      <td>-0.047436</td>\n",
       "      <td>5</td>\n",
       "    </tr>\n",
       "    <tr>\n",
       "      <th>2</th>\n",
       "      <td>0.039978</td>\n",
       "      <td>-0.005153</td>\n",
       "      <td>-0.022651</td>\n",
       "      <td>-0.995482</td>\n",
       "      <td>-0.977314</td>\n",
       "      <td>-0.984760</td>\n",
       "      <td>-0.996415</td>\n",
       "      <td>-0.975835</td>\n",
       "      <td>-0.985973</td>\n",
       "      <td>-0.798477</td>\n",
       "      <td>...</td>\n",
       "      <td>-0.404427</td>\n",
       "      <td>-0.761847</td>\n",
       "      <td>-0.118559</td>\n",
       "      <td>0.177899</td>\n",
       "      <td>0.100699</td>\n",
       "      <td>0.808529</td>\n",
       "      <td>-0.849230</td>\n",
       "      <td>0.180610</td>\n",
       "      <td>-0.042271</td>\n",
       "      <td>5</td>\n",
       "    </tr>\n",
       "  </tbody>\n",
       "</table>\n",
       "<p>3 rows × 562 columns</p>\n",
       "</div>"
      ],
      "text/plain": [
       "          0         1         2         3         4         5         6  \\\n",
       "0  0.043580 -0.005970 -0.035054 -0.995381 -0.988366 -0.937382 -0.995007   \n",
       "1  0.039480 -0.002131 -0.029067 -0.998348 -0.982945 -0.971273 -0.998702   \n",
       "2  0.039978 -0.005153 -0.022651 -0.995482 -0.977314 -0.984760 -0.996415   \n",
       "\n",
       "          7         8         9  ...       552       553       554       555  \\\n",
       "0 -0.988816 -0.953325 -0.794796  ... -0.314848 -0.713308 -0.112754  0.030400   \n",
       "1 -0.983315 -0.974000 -0.802537  ... -0.603199 -0.860677  0.053477 -0.007435   \n",
       "2 -0.975835 -0.985973 -0.798477  ... -0.404427 -0.761847 -0.118559  0.177899   \n",
       "\n",
       "        556       557       558       559       560  Class  \n",
       "0 -0.464761 -0.018446 -0.841559  0.179913 -0.051718      5  \n",
       "1 -0.732626  0.703511 -0.845092  0.180261 -0.047436      5  \n",
       "2  0.100699  0.808529 -0.849230  0.180610 -0.042271      5  \n",
       "\n",
       "[3 rows x 562 columns]"
      ]
     },
     "execution_count": 5,
     "metadata": {},
     "output_type": "execute_result"
    }
   ],
   "source": [
    "classification=list(map(lambda x:x.strip(),y)) # Remove '\\n' at the end of each element of the list\n",
    "data_train['Class'] = classification #new column (class) added to the dataframe: data\n",
    "data_train.head(3) #On peut voir ci dessous qu'on a bien la class (position) ajoutée au df"
   ]
  },
  {
   "cell_type": "code",
   "execution_count": 6,
   "metadata": {},
   "outputs": [],
   "source": [
    "#Meme manip pour le dossier Test\n",
    "data_test= pd.read_csv('Test/X_test.txt', sep=\" \", header=None)\n",
    "f = open('Test/y_test.txt', 'r')\n",
    "y = f.readlines()  #y = y_train.txt file\n",
    "f.close()\n",
    "classification_test=list(map(lambda x:x.strip(),y)) # Remove '\\n' at the end of each element of the list\n",
    "data_test['Class'] = classification_test #new column (class) added to the dataframe: data_test"
   ]
  },
  {
   "cell_type": "code",
   "execution_count": 7,
   "metadata": {},
   "outputs": [],
   "source": [
    "x_train = data_train.drop('Class', axis=1)\n",
    "y_train = data_train['Class']\n",
    "x_test  = data_test.drop('Class', axis=1)\n",
    "y_test  = data_test['Class']"
   ]
  },
  {
   "cell_type": "markdown",
   "metadata": {},
   "source": [
    "### 3. Classification des données avec DecisionTreeClassifier"
   ]
  },
  {
   "cell_type": "code",
   "execution_count": 8,
   "metadata": {
    "scrolled": true
   },
   "outputs": [
    {
     "data": {
      "text/plain": [
       "DecisionTreeClassifier(class_weight=None, criterion='gini', max_depth=None,\n",
       "                       max_features=None, max_leaf_nodes=None,\n",
       "                       min_impurity_decrease=0.0, min_impurity_split=None,\n",
       "                       min_samples_leaf=1, min_samples_split=2,\n",
       "                       min_weight_fraction_leaf=0.0, presort=False,\n",
       "                       random_state=None, splitter='best')"
      ]
     },
     "execution_count": 8,
     "metadata": {},
     "output_type": "execute_result"
    }
   ],
   "source": [
    "classifier = DecisionTreeClassifier()\n",
    "classifier.fit(x_train, y_train)"
   ]
  },
  {
   "cell_type": "code",
   "execution_count": 9,
   "metadata": {},
   "outputs": [],
   "source": [
    "y_pred = classifier.predict(x_test)"
   ]
  },
  {
   "cell_type": "code",
   "execution_count": 10,
   "metadata": {},
   "outputs": [
    {
     "data": {
      "image/png": "[encoded data removed]",
      "text/plain": [
       "<Figure size 432x288 with 2 Axes>"
      ]
     },
     "metadata": {
      "needs_background": "light"
     },
     "output_type": "display_data"
    },
    {
     "name": "stdout",
     "output_type": "stream",
     "text": [
      "              precision    recall  f1-score   support\n",
      "\n",
      "           1       0.81      0.75      0.78       496\n",
      "          10       0.62      0.60      0.61        25\n",
      "          11       0.56      0.67      0.61        49\n",
      "          12       0.65      0.56      0.60        27\n",
      "           2       0.65      0.77      0.70       471\n",
      "           3       0.85      0.74      0.79       420\n",
      "           4       0.82      0.81      0.82       508\n",
      "           5       0.84      0.83      0.84       556\n",
      "           6       0.99      0.99      0.99       545\n",
      "           7       0.54      0.61      0.57        23\n",
      "           8       0.89      0.80      0.84        10\n",
      "           9       0.69      0.62      0.66        32\n",
      "\n",
      "    accuracy                           0.81      3162\n",
      "   macro avg       0.74      0.73      0.73      3162\n",
      "weighted avg       0.82      0.81      0.81      3162\n",
      "\n"
     ]
    }
   ],
   "source": [
    "sn.heatmap(confusion_matrix(y_test, y_pred), annot=True, annot_kws={\"size\": 12}, cmap = plt.cm.Reds, fmt='g') \n",
    "sn.set(font_scale = 1.2) \n",
    "plt.show()\n",
    "print(classification_report(y_test, y_pred))"
   ]
  },
  {
   "cell_type": "code",
   "execution_count": 11,
   "metadata": {},
   "outputs": [
    {
     "data": {
      "text/plain": [
       "<matplotlib.collections.PathCollection at 0x17e3edc56d8>"
      ]
     },
     "execution_count": 11,
     "metadata": {},
     "output_type": "execute_result"
    },
    {
     "data": {
      "image/png": "[encoded data removed]",
      "text/plain": [
       "<Figure size 432x288 with 1 Axes>"
      ]
     },
     "metadata": {},
     "output_type": "display_data"
    }
   ],
   "source": [
    "#prediction against true values\n",
    "plt.scatter(x=y_test, y=classifier.predict(x_test))"
   ]
  },
  {
   "cell_type": "code",
   "execution_count": 12,
   "metadata": {
    "scrolled": true
   },
   "outputs": [
    {
     "name": "stdout",
     "output_type": "stream",
     "text": [
      "0.8130929791271347\n"
     ]
    }
   ],
   "source": [
    "dtc_score = classifier.score(x_test,y_test)\n",
    "print(dtc_score)"
   ]
  },
  {
   "cell_type": "code",
   "execution_count": 13,
   "metadata": {},
   "outputs": [
    {
     "data": {
      "text/plain": [
       "[Text(89.99408596027698, 212.71304347826086, 'X[49] <= 0.092\\nentropy = 0.845\\nsamples = 7767\\nvalue = [1226, 60, 90, 57, 1073, 987, 1293, 1423, 1413, 47\\n23, 75]'),\n",
       " Text(17.155348032069973, 203.2591304347826, 'X[9] <= -0.239\\nentropy = 0.022\\nsamples = 1412\\nvalue = [0, 7, 0, 9, 0, 0, 0, 0, 1396, 0, 0, 0]'),\n",
       " Text(14.552432580174928, 193.80521739130435, 'X[211] <= 0.939\\nentropy = 0.001\\nsamples = 1397\\nvalue = [0, 0, 0, 1, 0, 0, 0, 0, 1396, 0, 0, 0]'),\n",
       " Text(13.250974854227406, 184.3513043478261, 'entropy = 0.0\\nsamples = 1396\\nvalue = [0, 0, 0, 0, 0, 0, 0, 0, 1396, 0, 0, 0]'),\n",
       " Text(15.85389030612245, 184.3513043478261, 'entropy = 0.0\\nsamples = 1\\nvalue = [0, 0, 0, 1, 0, 0, 0, 0, 0, 0, 0, 0]'),\n",
       " Text(19.758263483965017, 193.80521739130435, 'X[379] <= -0.491\\nentropy = 0.498\\nsamples = 15\\nvalue = [0, 7, 0, 8, 0, 0, 0, 0, 0, 0, 0, 0]'),\n",
       " Text(18.456805758017495, 184.3513043478261, 'entropy = 0.0\\nsamples = 8\\nvalue = [0, 0, 0, 8, 0, 0, 0, 0, 0, 0, 0, 0]'),\n",
       " Text(21.05972120991254, 184.3513043478261, 'entropy = 0.0\\nsamples = 7\\nvalue = [0, 7, 0, 0, 0, 0, 0, 0, 0, 0, 0, 0]'),\n",
       " Text(162.83282388848397, 203.2591304347826, 'X[314] <= -0.969\\nentropy = 0.818\\nsamples = 6355\\nvalue = [1226, 53, 90, 48, 1073, 987, 1293, 1423, 17, 47\\n23, 75]'),\n",
       " Text(65.7401375728863, 193.80521739130435, 'X[559] <= 0.14\\nentropy = 0.502\\nsamples = 2718\\nvalue = [0, 0, 4, 0, 0, 0, 1285, 1423, 2, 1, 0, 3]'),\n",
       " Text(23.662636661807582, 184.3513043478261, 'X[57] <= -1.0\\nentropy = 0.244\\nsamples = 1366\\nvalue = [0, 0, 1, 0, 0, 0, 1173, 187, 2, 0, 0, 3]'),\n",
       " Text(5.205830903790088, 174.89739130434782, 'X[54] <= 0.061\\nentropy = 0.455\\nsamples = 97\\nvalue = [0, 0, 0, 0, 0, 0, 34, 63, 0, 0, 0, 0]'),\n",
       " Text(2.602915451895044, 165.44347826086957, 'X[39] <= -0.154\\nentropy = 0.083\\nsamples = 46\\nvalue = [0, 0, 0, 0, 0, 0, 2, 44, 0, 0, 0, 0]'),\n",
       " Text(1.301457725947522, 155.98956521739132, 'entropy = 0.0\\nsamples = 2\\nvalue = [0, 0, 0, 0, 0, 0, 2, 0, 0, 0, 0, 0]'),\n",
       " Text(3.904373177842566, 155.98956521739132, 'entropy = 0.0\\nsamples = 44\\nvalue = [0, 0, 0, 0, 0, 0, 0, 44, 0, 0, 0, 0]'),\n",
       " Text(7.808746355685132, 165.44347826086957, 'X[136] <= -1.0\\nentropy = 0.468\\nsamples = 51\\nvalue = [0, 0, 0, 0, 0, 0, 32, 19, 0, 0, 0, 0]'),\n",
       " Text(6.50728862973761, 155.98956521739132, 'entropy = 0.0\\nsamples = 30\\nvalue = [0, 0, 0, 0, 0, 0, 30, 0, 0, 0, 0, 0]'),\n",
       " Text(9.110204081632654, 155.98956521739132, 'X[85] <= -0.993\\nentropy = 0.172\\nsamples = 21\\nvalue = [0, 0, 0, 0, 0, 0, 2, 19, 0, 0, 0, 0]'),\n",
       " Text(7.808746355685132, 146.53565217391304, 'entropy = 0.0\\nsamples = 2\\nvalue = [0, 0, 0, 0, 0, 0, 2, 0, 0, 0, 0, 0]'),\n",
       " Text(10.411661807580176, 146.53565217391304, 'entropy = 0.0\\nsamples = 19\\nvalue = [0, 0, 0, 0, 0, 0, 0, 19, 0, 0, 0, 0]'),\n",
       " Text(42.11944241982508, 174.89739130434782, 'X[451] <= -0.256\\nentropy = 0.185\\nsamples = 1269\\nvalue = [0, 0, 1, 0, 0, 0, 1139, 124, 2, 0, 0, 3]'),\n",
       " Text(23.263556851311954, 165.44347826086957, 'X[50] <= 0.048\\nentropy = 0.521\\nsamples = 124\\nvalue = [0, 0, 0, 0, 0, 0, 65, 56, 1, 0, 0, 2]'),\n",
       " Text(16.593586005830904, 155.98956521739132, 'X[198] <= -0.159\\nentropy = 0.439\\nsamples = 77\\nvalue = [0, 0, 0, 0, 0, 0, 25, 52, 0, 0, 0, 0]'),\n",
       " Text(13.01457725947522, 146.53565217391304, 'X[454] <= 0.245\\nentropy = 0.408\\nsamples = 21\\nvalue = [0, 0, 0, 0, 0, 0, 15, 6, 0, 0, 0, 0]'),\n",
       " Text(11.713119533527697, 137.08173913043478, 'X[354] <= -0.938\\nentropy = 0.117\\nsamples = 16\\nvalue = [0, 0, 0, 0, 0, 0, 15, 1, 0, 0, 0, 0]'),\n",
       " Text(10.411661807580176, 127.62782608695652, 'entropy = 0.0\\nsamples = 15\\nvalue = [0, 0, 0, 0, 0, 0, 15, 0, 0, 0, 0, 0]'),\n",
       " Text(13.01457725947522, 127.62782608695652, 'entropy = 0.0\\nsamples = 1\\nvalue = [0, 0, 0, 0, 0, 0, 0, 1, 0, 0, 0, 0]'),\n",
       " Text(14.316034985422741, 137.08173913043478, 'entropy = 0.0\\nsamples = 5\\nvalue = [0, 0, 0, 0, 0, 0, 0, 5, 0, 0, 0, 0]'),\n",
       " Text(20.17259475218659, 146.53565217391304, 'X[147] <= -0.046\\nentropy = 0.293\\nsamples = 56\\nvalue = [0, 0, 0, 0, 0, 0, 10, 46, 0, 0, 0, 0]'),\n",
       " Text(16.918950437317786, 137.08173913043478, 'X[49] <= 0.887\\nentropy = 0.408\\nsamples = 7\\nvalue = [0, 0, 0, 0, 0, 0, 5, 2, 0, 0, 0, 0]'),\n",
       " Text(15.617492711370264, 127.62782608695652, 'entropy = 0.0\\nsamples = 2\\nvalue = [0, 0, 0, 0, 0, 0, 0, 2, 0, 0, 0, 0]'),\n",
       " Text(18.220408163265308, 127.62782608695652, 'entropy = 0.0\\nsamples = 5\\nvalue = [0, 0, 0, 0, 0, 0, 5, 0, 0, 0, 0, 0]'),\n",
       " Text(23.426239067055395, 137.08173913043478, 'X[466] <= -1.0\\nentropy = 0.183\\nsamples = 49\\nvalue = [0, 0, 0, 0, 0, 0, 5, 44, 0, 0, 0, 0]'),\n",
       " Text(20.82332361516035, 127.62782608695652, 'X[443] <= -0.993\\nentropy = 0.375\\nsamples = 4\\nvalue = [0, 0, 0, 0, 0, 0, 3, 1, 0, 0, 0, 0]'),\n",
       " Text(19.52186588921283, 118.17391304347825, 'entropy = 0.0\\nsamples = 1\\nvalue = [0, 0, 0, 0, 0, 0, 0, 1, 0, 0, 0, 0]'),\n",
       " Text(22.124781341107873, 118.17391304347825, 'entropy = 0.0\\nsamples = 3\\nvalue = [0, 0, 0, 0, 0, 0, 3, 0, 0, 0, 0, 0]'),\n",
       " Text(26.02915451895044, 127.62782608695652, 'X[157] <= -0.833\\nentropy = 0.085\\nsamples = 45\\nvalue = [0, 0, 0, 0, 0, 0, 2, 43, 0, 0, 0, 0]'),\n",
       " Text(24.727696793002917, 118.17391304347825, 'entropy = 0.0\\nsamples = 1\\nvalue = [0, 0, 0, 0, 0, 0, 1, 0, 0, 0, 0, 0]'),\n",
       " Text(27.33061224489796, 118.17391304347825, 'X[156] <= -0.377\\nentropy = 0.044\\nsamples = 44\\nvalue = [0, 0, 0, 0, 0, 0, 1, 43, 0, 0, 0, 0]'),\n",
       " Text(26.02915451895044, 108.72, 'entropy = 0.0\\nsamples = 1\\nvalue = [0, 0, 0, 0, 0, 0, 1, 0, 0, 0, 0, 0]'),\n",
       " Text(28.632069970845482, 108.72, 'entropy = 0.0\\nsamples = 43\\nvalue = [0, 0, 0, 0, 0, 0, 0, 43, 0, 0, 0, 0]'),\n",
       " Text(29.933527696793004, 155.98956521739132, 'X[42] <= -0.146\\nentropy = 0.266\\nsamples = 47\\nvalue = [0, 0, 0, 0, 0, 0, 40, 4, 1, 0, 0, 2]'),\n",
       " Text(28.632069970845482, 146.53565217391304, 'entropy = 0.0\\nsamples = 4\\nvalue = [0, 0, 0, 0, 0, 0, 0, 4, 0, 0, 0, 0]'),\n",
       " Text(31.23498542274053, 146.53565217391304, 'X[208] <= 0.741\\nentropy = 0.132\\nsamples = 43\\nvalue = [0, 0, 0, 0, 0, 0, 40, 0, 1, 0, 0, 2]'),\n",
       " Text(29.933527696793004, 137.08173913043478, 'X[312] <= -0.985\\nentropy = 0.048\\nsamples = 41\\nvalue = [0, 0, 0, 0, 0, 0, 40, 0, 1, 0, 0, 0]'),\n",
       " Text(28.632069970845482, 127.62782608695652, 'entropy = 0.0\\nsamples = 40\\nvalue = [0, 0, 0, 0, 0, 0, 40, 0, 0, 0, 0, 0]'),\n",
       " Text(31.23498542274053, 127.62782608695652, 'entropy = 0.0\\nsamples = 1\\nvalue = [0, 0, 0, 0, 0, 0, 0, 0, 1, 0, 0, 0]'),\n",
       " Text(32.53644314868805, 137.08173913043478, 'entropy = 0.0\\nsamples = 2\\nvalue = [0, 0, 0, 0, 0, 0, 0, 0, 0, 0, 0, 2]'),\n",
       " Text(60.975327988338194, 165.44347826086957, 'X[429] <= -0.92\\nentropy = 0.117\\nsamples = 1145\\nvalue = [0, 0, 1, 0, 0, 0, 1074, 68, 1, 0, 0, 1]'),\n",
       " Text(53.29876093294461, 155.98956521739132, 'X[159] <= 0.672\\nentropy = 0.088\\nsamples = 1104\\nvalue = [0, 0, 0, 0, 0, 0, 1053, 51, 0, 0, 0, 0]'),\n",
       " Text(46.40510204081633, 146.53565217391304, 'X[50] <= 0.035\\nentropy = 0.07\\nsamples = 1073\\nvalue = [0, 0, 0, 0, 0, 0, 1034, 39, 0, 0, 0, 0]'),\n",
       " Text(39.12507288629738, 137.08173913043478, 'X[468] <= -1.0\\nentropy = 0.195\\nsamples = 347\\nvalue = [0, 0, 0, 0, 0, 0, 309, 38, 0, 0, 0, 0]'),\n",
       " Text(33.83790087463557, 127.62782608695652, 'X[275] <= -0.999\\nentropy = 0.021\\nsamples = 192\\nvalue = [0, 0, 0, 0, 0, 0, 190, 2, 0, 0, 0, 0]'),\n",
       " Text(32.53644314868805, 118.17391304347825, 'entropy = 0.0\\nsamples = 1\\nvalue = [0, 0, 0, 0, 0, 0, 0, 1, 0, 0, 0, 0]'),\n",
       " Text(35.139358600583094, 118.17391304347825, 'X[28] <= -0.434\\nentropy = 0.01\\nsamples = 191\\nvalue = [0, 0, 0, 0, 0, 0, 190, 1, 0, 0, 0, 0]'),\n",
       " Text(33.83790087463557, 108.72, 'entropy = 0.0\\nsamples = 1\\nvalue = [0, 0, 0, 0, 0, 0, 0, 1, 0, 0, 0, 0]'),\n",
       " Text(36.440816326530616, 108.72, 'entropy = 0.0\\nsamples = 190\\nvalue = [0, 0, 0, 0, 0, 0, 190, 0, 0, 0, 0, 0]'),\n",
       " Text(44.412244897959184, 127.62782608695652, 'X[430] <= -0.988\\nentropy = 0.357\\nsamples = 155\\nvalue = [0, 0, 0, 0, 0, 0, 119, 36, 0, 0, 0, 0]'),\n",
       " Text(40.34518950437318, 118.17391304347825, 'X[421] <= -1.0\\nentropy = 0.278\\nsamples = 24\\nvalue = [0, 0, 0, 0, 0, 0, 4, 20, 0, 0, 0, 0]'),\n",
       " Text(39.04373177842566, 108.72, 'entropy = 0.0\\nsamples = 20\\nvalue = [0, 0, 0, 0, 0, 0, 0, 20, 0, 0, 0, 0]'),\n",
       " Text(41.6466472303207, 108.72, 'entropy = 0.0\\nsamples = 4\\nvalue = [0, 0, 0, 0, 0, 0, 4, 0, 0, 0, 0, 0]'),\n",
       " Text(48.479300291545194, 118.17391304347825, 'X[293] <= 0.271\\nentropy = 0.214\\nsamples = 131\\nvalue = [0, 0, 0, 0, 0, 0, 115, 16, 0, 0, 0, 0]'),\n",
       " Text(44.249562682215746, 108.72, 'X[493] <= -1.0\\nentropy = 0.128\\nsamples = 116\\nvalue = [0, 0, 0, 0, 0, 0, 108, 8, 0, 0, 0, 0]'),\n",
       " Text(40.99591836734694, 99.26608695652173, 'X[9] <= -0.8\\nentropy = 0.375\\nsamples = 4\\nvalue = [0, 0, 0, 0, 0, 0, 1, 3, 0, 0, 0, 0]'),\n",
       " Text(39.69446064139942, 89.81217391304348, 'entropy = 0.0\\nsamples = 1\\nvalue = [0, 0, 0, 0, 0, 0, 1, 0, 0, 0, 0, 0]'),\n",
       " Text(42.29737609329447, 89.81217391304348, 'entropy = 0.0\\nsamples = 3\\nvalue = [0, 0, 0, 0, 0, 0, 0, 3, 0, 0, 0, 0]'),\n",
       " Text(47.503206997084554, 99.26608695652173, 'X[152] <= 0.601\\nentropy = 0.085\\nsamples = 112\\nvalue = [0, 0, 0, 0, 0, 0, 107, 5, 0, 0, 0, 0]'),\n",
       " Text(44.90029154518951, 89.81217391304348, 'X[481] <= -1.0\\nentropy = 0.054\\nsamples = 109\\nvalue = [0, 0, 0, 0, 0, 0, 106, 3, 0, 0, 0, 0]'),\n",
       " Text(43.59883381924199, 80.35826086956521, 'entropy = 0.0\\nsamples = 1\\nvalue = [0, 0, 0, 0, 0, 0, 0, 1, 0, 0, 0, 0]'),\n",
       " Text(46.20174927113703, 80.35826086956521, 'X[335] <= -1.0\\nentropy = 0.036\\nsamples = 108\\nvalue = [0, 0, 0, 0, 0, 0, 106, 2, 0, 0, 0, 0]'),\n",
       " Text(44.90029154518951, 70.90434782608696, 'entropy = 0.0\\nsamples = 1\\nvalue = [0, 0, 0, 0, 0, 0, 0, 1, 0, 0, 0, 0]'),\n",
       " Text(47.503206997084554, 70.90434782608696, 'X[531] <= -0.993\\nentropy = 0.019\\nsamples = 107\\nvalue = [0, 0, 0, 0, 0, 0, 106, 1, 0, 0, 0, 0]'),\n",
       " Text(46.20174927113703, 61.45043478260868, 'entropy = 0.0\\nsamples = 1\\nvalue = [0, 0, 0, 0, 0, 0, 0, 1, 0, 0, 0, 0]'),\n",
       " Text(48.804664723032076, 61.45043478260868, 'entropy = 0.0\\nsamples = 106\\nvalue = [0, 0, 0, 0, 0, 0, 106, 0, 0, 0, 0, 0]'),\n",
       " Text(50.1061224489796, 89.81217391304348, 'X[270] <= -0.805\\nentropy = 0.444\\nsamples = 3\\nvalue = [0, 0, 0, 0, 0, 0, 1, 2, 0, 0, 0, 0]'),\n",
       " Text(48.804664723032076, 80.35826086956521, 'entropy = 0.0\\nsamples = 2\\nvalue = [0, 0, 0, 0, 0, 0, 0, 2, 0, 0, 0, 0]'),\n",
       " Text(51.40758017492712, 80.35826086956521, 'entropy = 0.0\\nsamples = 1\\nvalue = [0, 0, 0, 0, 0, 0, 1, 0, 0, 0, 0, 0]'),\n",
       " Text(52.70903790087464, 108.72, 'X[79] <= 0.542\\nentropy = 0.498\\nsamples = 15\\nvalue = [0, 0, 0, 0, 0, 0, 7, 8, 0, 0, 0, 0]'),\n",
       " Text(51.40758017492712, 99.26608695652173, 'entropy = 0.0\\nsamples = 7\\nvalue = [0, 0, 0, 0, 0, 0, 0, 7, 0, 0, 0, 0]'),\n",
       " Text(54.01049562682216, 99.26608695652173, 'X[293] <= 0.318\\nentropy = 0.219\\nsamples = 8\\nvalue = [0, 0, 0, 0, 0, 0, 7, 1, 0, 0, 0, 0]'),\n",
       " Text(52.70903790087464, 89.81217391304348, 'entropy = 0.0\\nsamples = 1\\nvalue = [0, 0, 0, 0, 0, 0, 0, 1, 0, 0, 0, 0]'),\n",
       " Text(55.311953352769684, 89.81217391304348, 'entropy = 0.0\\nsamples = 7\\nvalue = [0, 0, 0, 0, 0, 0, 7, 0, 0, 0, 0, 0]'),\n",
       " Text(53.68513119533528, 137.08173913043478, 'X[11] <= -0.729\\nentropy = 0.003\\nsamples = 726\\nvalue = [0, 0, 0, 0, 0, 0, 725, 1, 0, 0, 0, 0]'),\n",
       " Text(52.38367346938776, 127.62782608695652, 'X[381] <= -1.0\\nentropy = 0.5\\nsamples = 2\\nvalue = [0, 0, 0, 0, 0, 0, 1, 1, 0, 0, 0, 0]'),\n",
       " Text(51.08221574344024, 118.17391304347825, 'entropy = 0.0\\nsamples = 1\\nvalue = [0, 0, 0, 0, 0, 0, 0, 1, 0, 0, 0, 0]'),\n",
       " Text(53.68513119533528, 118.17391304347825, 'entropy = 0.0\\nsamples = 1\\nvalue = [0, 0, 0, 0, 0, 0, 1, 0, 0, 0, 0, 0]'),\n",
       " Text(54.9865889212828, 127.62782608695652, 'entropy = 0.0\\nsamples = 724\\nvalue = [0, 0, 0, 0, 0, 0, 724, 0, 0, 0, 0, 0]'),\n",
       " Text(60.19241982507289, 146.53565217391304, 'X[490] <= -1.0\\nentropy = 0.475\\nsamples = 31\\nvalue = [0, 0, 0, 0, 0, 0, 19, 12, 0, 0, 0, 0]'),\n",
       " Text(58.89096209912537, 137.08173913043478, 'X[9] <= -0.801\\nentropy = 0.245\\nsamples = 14\\nvalue = [0, 0, 0, 0, 0, 0, 2, 12, 0, 0, 0, 0]'),\n",
       " Text(57.589504373177846, 127.62782608695652, 'entropy = 0.0\\nsamples = 2\\nvalue = [0, 0, 0, 0, 0, 0, 2, 0, 0, 0, 0, 0]'),\n",
       " Text(60.19241982507289, 127.62782608695652, 'entropy = 0.0\\nsamples = 12\\nvalue = [0, 0, 0, 0, 0, 0, 0, 12, 0, 0, 0, 0]'),\n",
       " Text(61.49387755102041, 137.08173913043478, 'entropy = 0.0\\nsamples = 17\\nvalue = [0, 0, 0, 0, 0, 0, 17, 0, 0, 0, 0, 0]'),\n",
       " Text(68.65189504373178, 155.98956521739132, 'X[395] <= -0.996\\nentropy = 0.564\\nsamples = 41\\nvalue = [0, 0, 1, 0, 0, 0, 21, 17, 1, 0, 0, 1]'),\n",
       " Text(65.39825072886298, 146.53565217391304, 'X[51] <= 0.349\\nentropy = 0.124\\nsamples = 15\\nvalue = [0, 0, 0, 0, 0, 0, 1, 14, 0, 0, 0, 0]'),\n",
       " Text(64.09679300291546, 137.08173913043478, 'entropy = 0.0\\nsamples = 14\\nvalue = [0, 0, 0, 0, 0, 0, 0, 14, 0, 0, 0, 0]'),\n",
       " Text(66.6997084548105, 137.08173913043478, 'entropy = 0.0\\nsamples = 1\\nvalue = [0, 0, 0, 0, 0, 0, 1, 0, 0, 0, 0, 0]'),\n",
       " Text(71.90553935860059, 146.53565217391304, 'X[274] <= -0.858\\nentropy = 0.391\\nsamples = 26\\nvalue = [0, 0, 1, 0, 0, 0, 20, 3, 1, 0, 0, 1]'),\n",
       " Text(69.30262390670555, 137.08173913043478, 'X[57] <= -0.999\\nentropy = 0.165\\nsamples = 22\\nvalue = [0, 0, 0, 0, 0, 0, 20, 2, 0, 0, 0, 0]'),\n",
       " Text(68.00116618075802, 127.62782608695652, 'entropy = 0.0\\nsamples = 2\\nvalue = [0, 0, 0, 0, 0, 0, 0, 2, 0, 0, 0, 0]'),\n",
       " Text(70.60408163265306, 127.62782608695652, 'entropy = 0.0\\nsamples = 20\\nvalue = [0, 0, 0, 0, 0, 0, 20, 0, 0, 0, 0, 0]'),\n",
       " Text(74.50845481049564, 137.08173913043478, 'X[347] <= -0.932\\nentropy = 0.75\\nsamples = 4\\nvalue = [0, 0, 1, 0, 0, 0, 0, 1, 1, 0, 0, 1]'),\n",
       " Text(73.2069970845481, 127.62782608695652, 'entropy = 0.0\\nsamples = 1\\nvalue = [0, 0, 0, 0, 0, 0, 0, 0, 1, 0, 0, 0]'),\n",
       " Text(75.80991253644315, 127.62782608695652, 'X[515] <= -0.828\\nentropy = 0.667\\nsamples = 3\\nvalue = [0, 0, 1, 0, 0, 0, 0, 1, 0, 0, 0, 1]'),\n",
       " Text(74.50845481049564, 118.17391304347825, 'entropy = 0.0\\nsamples = 1\\nvalue = [0, 0, 0, 0, 0, 0, 0, 0, 0, 0, 0, 1]'),\n",
       " Text(77.11137026239068, 118.17391304347825, 'X[40] <= 0.951\\nentropy = 0.5\\nsamples = 2\\nvalue = [0, 0, 1, 0, 0, 0, 0, 1, 0, 0, 0, 0]'),\n",
       " Text(75.80991253644315, 108.72, 'entropy = 0.0\\nsamples = 1\\nvalue = [0, 0, 1, 0, 0, 0, 0, 0, 0, 0, 0, 0]'),\n",
       " Text(78.4128279883382, 108.72, 'entropy = 0.0\\nsamples = 1\\nvalue = [0, 0, 0, 0, 0, 0, 0, 1, 0, 0, 0, 0]'),\n",
       " Text(107.81763848396503, 184.3513043478261, 'X[139] <= -0.998\\nentropy = 0.157\\nsamples = 1352\\nvalue = [0, 0, 3, 0, 0, 0, 112, 1236, 0, 1, 0, 0]'),\n",
       " Text(105.21472303206998, 174.89739130434782, 'X[531] <= -0.997\\nentropy = 0.278\\nsamples = 24\\nvalue = [0, 0, 0, 0, 0, 0, 20, 4, 0, 0, 0, 0]'),\n",
       " Text(103.91326530612245, 165.44347826086957, 'entropy = 0.0\\nsamples = 4\\nvalue = [0, 0, 0, 0, 0, 0, 0, 4, 0, 0, 0, 0]'),\n",
       " Text(106.5161807580175, 165.44347826086957, 'entropy = 0.0\\nsamples = 20\\nvalue = [0, 0, 0, 0, 0, 0, 20, 0, 0, 0, 0, 0]'),\n",
       " Text(110.42055393586007, 174.89739130434782, 'X[129] <= -0.915\\nentropy = 0.135\\nsamples = 1328\\nvalue = [0, 0, 3, 0, 0, 0, 92, 1232, 0, 1, 0, 0]'),\n",
       " Text(109.11909620991254, 165.44347826086957, 'entropy = 0.0\\nsamples = 9\\nvalue = [0, 0, 0, 0, 0, 0, 9, 0, 0, 0, 0, 0]'),\n",
       " Text(111.72201166180758, 165.44347826086957, 'X[157] <= 0.734\\nentropy = 0.124\\nsamples = 1319\\nvalue = [0, 0, 3, 0, 0, 0, 83, 1232, 0, 1, 0, 0]'),\n",
       " Text(100.78163265306124, 155.98956521739132, 'X[187] <= 0.22\\nentropy = 0.11\\nsamples = 1302\\nvalue = [0, 0, 3, 0, 0, 0, 72, 1226, 0, 1, 0, 0]'),\n",
       " Text(89.47521865889213, 146.53565217391304, 'X[15] <= -0.584\\nentropy = 0.066\\nsamples = 1089\\nvalue = [0, 0, 2, 0, 0, 0, 34, 1052, 0, 1, 0, 0]'),\n",
       " Text(88.17376093294462, 137.08173913043478, 'X[197] <= 0.474\\nentropy = 0.062\\nsamples = 1087\\nvalue = [0, 0, 0, 0, 0, 0, 34, 1052, 0, 1, 0, 0]'),\n",
       " Text(84.92011661807581, 127.62782608695652, 'X[217] <= -1.0\\nentropy = 0.053\\nsamples = 1069\\nvalue = [0, 0, 0, 0, 0, 0, 28, 1040, 0, 1, 0, 0]'),\n",
       " Text(82.31720116618077, 118.17391304347825, 'X[464] <= -1.0\\nentropy = 0.444\\nsamples = 3\\nvalue = [0, 0, 0, 0, 0, 0, 2, 1, 0, 0, 0, 0]'),\n",
       " Text(81.01574344023324, 108.72, 'entropy = 0.0\\nsamples = 2\\nvalue = [0, 0, 0, 0, 0, 0, 2, 0, 0, 0, 0, 0]'),\n",
       " Text(83.61865889212828, 108.72, 'entropy = 0.0\\nsamples = 1\\nvalue = [0, 0, 0, 0, 0, 0, 0, 1, 0, 0, 0, 0]'),\n",
       " Text(87.52303206997085, 118.17391304347825, 'X[128] <= -0.563\\nentropy = 0.049\\nsamples = 1066\\nvalue = [0, 0, 0, 0, 0, 0, 26, 1039, 0, 1, 0, 0]'),\n",
       " Text(86.22157434402332, 108.72, 'X[460] <= -1.0\\nentropy = 0.048\\nsamples = 1065\\nvalue = [0, 0, 0, 0, 0, 0, 26, 1039, 0, 0, 0, 0]'),\n",
       " Text(84.92011661807581, 99.26608695652173, 'entropy = 0.0\\nsamples = 1\\nvalue = [0, 0, 0, 0, 0, 0, 1, 0, 0, 0, 0, 0]'),\n",
       " Text(87.52303206997085, 99.26608695652173, 'X[277] <= -1.0\\nentropy = 0.046\\nsamples = 1064\\nvalue = [0, 0, 0, 0, 0, 0, 25, 1039, 0, 0, 0, 0]'),\n",
       " Text(86.22157434402332, 89.81217391304348, 'entropy = 0.0\\nsamples = 1\\nvalue = [0, 0, 0, 0, 0, 0, 1, 0, 0, 0, 0, 0]'),\n",
       " Text(88.82448979591837, 89.81217391304348, 'X[64] <= 0.517\\nentropy = 0.044\\nsamples = 1063\\nvalue = [0, 0, 0, 0, 0, 0, 24, 1039, 0, 0, 0, 0]'),\n",
       " Text(87.52303206997085, 80.35826086956521, 'X[150] <= 0.218\\nentropy = 0.042\\nsamples = 1062\\nvalue = [0, 0, 0, 0, 0, 0, 23, 1039, 0, 0, 0, 0]'),\n",
       " Text(81.82915451895045, 70.90434782608696, 'X[0] <= 0.019\\nentropy = 0.012\\nsamples = 805\\nvalue = [0, 0, 0, 0, 0, 0, 5, 800, 0, 0, 0, 0]'),\n",
       " Text(80.52769679300292, 61.45043478260868, 'entropy = 0.0\\nsamples = 1\\nvalue = [0, 0, 0, 0, 0, 0, 1, 0, 0, 0, 0, 0]'),\n",
       " Text(83.13061224489796, 61.45043478260868, 'X[376] <= -0.229\\nentropy = 0.01\\nsamples = 804\\nvalue = [0, 0, 0, 0, 0, 0, 4, 800, 0, 0, 0, 0]'),\n",
       " Text(79.55160349854228, 51.99652173913043, 'X[132] <= 0.857\\nentropy = 0.007\\nsamples = 801\\nvalue = [0, 0, 0, 0, 0, 0, 3, 798, 0, 0, 0, 0]'),\n",
       " Text(76.29795918367347, 42.54260869565218, 'X[196] <= -0.346\\nentropy = 0.005\\nsamples = 797\\nvalue = [0, 0, 0, 0, 0, 0, 2, 795, 0, 0, 0, 0]'),\n",
       " Text(73.69504373177843, 33.0886956521739, 'X[159] <= 0.035\\nentropy = 0.375\\nsamples = 4\\nvalue = [0, 0, 0, 0, 0, 0, 1, 3, 0, 0, 0, 0]'),\n",
       " Text(72.39358600583091, 23.634782608695645, 'entropy = 0.0\\nsamples = 3\\nvalue = [0, 0, 0, 0, 0, 0, 0, 3, 0, 0, 0, 0]'),\n",
       " Text(74.99650145772596, 23.634782608695645, 'entropy = 0.0\\nsamples = 1\\nvalue = [0, 0, 0, 0, 0, 0, 1, 0, 0, 0, 0, 0]'),\n",
       " Text(78.90087463556851, 33.0886956521739, 'X[32] <= 0.503\\nentropy = 0.003\\nsamples = 793\\nvalue = [0, 0, 0, 0, 0, 0, 1, 792, 0, 0, 0, 0]'),\n",
       " Text(77.599416909621, 23.634782608695645, 'entropy = 0.0\\nsamples = 784\\nvalue = [0, 0, 0, 0, 0, 0, 0, 784, 0, 0, 0, 0]'),\n",
       " Text(80.20233236151604, 23.634782608695645, 'X[133] <= 0.892\\nentropy = 0.198\\nsamples = 9\\nvalue = [0, 0, 0, 0, 0, 0, 1, 8, 0, 0, 0, 0]'),\n",
       " Text(78.90087463556851, 14.180869565217392, 'entropy = 0.0\\nsamples = 8\\nvalue = [0, 0, 0, 0, 0, 0, 0, 8, 0, 0, 0, 0]'),\n",
       " Text(81.50379008746356, 14.180869565217392, 'entropy = 0.0\\nsamples = 1\\nvalue = [0, 0, 0, 0, 0, 0, 1, 0, 0, 0, 0, 0]'),\n",
       " Text(82.80524781341109, 42.54260869565218, 'X[555] <= 0.255\\nentropy = 0.375\\nsamples = 4\\nvalue = [0, 0, 0, 0, 0, 0, 1, 3, 0, 0, 0, 0]'),\n",
       " Text(81.50379008746356, 33.0886956521739, 'entropy = 0.0\\nsamples = 3\\nvalue = [0, 0, 0, 0, 0, 0, 0, 3, 0, 0, 0, 0]'),\n",
       " Text(84.1067055393586, 33.0886956521739, 'entropy = 0.0\\nsamples = 1\\nvalue = [0, 0, 0, 0, 0, 0, 1, 0, 0, 0, 0, 0]'),\n",
       " Text(86.70962099125364, 51.99652173913043, 'X[309] <= -1.0\\nentropy = 0.444\\nsamples = 3\\nvalue = [0, 0, 0, 0, 0, 0, 1, 2, 0, 0, 0, 0]'),\n",
       " Text(85.40816326530613, 42.54260869565218, 'entropy = 0.0\\nsamples = 1\\nvalue = [0, 0, 0, 0, 0, 0, 1, 0, 0, 0, 0, 0]'),\n",
       " Text(88.01107871720117, 42.54260869565218, 'entropy = 0.0\\nsamples = 2\\nvalue = [0, 0, 0, 0, 0, 0, 0, 2, 0, 0, 0, 0]'),\n",
       " Text(93.21690962099126, 70.90434782608696, 'X[439] <= -1.0\\nentropy = 0.13\\nsamples = 257\\nvalue = [0, 0, 0, 0, 0, 0, 18, 239, 0, 0, 0, 0]'),\n",
       " Text(90.61399416909622, 61.45043478260868, 'X[504] <= -0.977\\nentropy = 0.494\\nsamples = 27\\nvalue = [0, 0, 0, 0, 0, 0, 12, 15, 0, 0, 0, 0]'),\n",
       " Text(89.3125364431487, 51.99652173913043, 'entropy = 0.0\\nsamples = 14\\nvalue = [0, 0, 0, 0, 0, 0, 0, 14, 0, 0, 0, 0]'),\n",
       " Text(91.91545189504374, 51.99652173913043, 'X[491] <= -1.0\\nentropy = 0.142\\nsamples = 13\\nvalue = [0, 0, 0, 0, 0, 0, 12, 1, 0, 0, 0, 0]'),\n",
       " Text(90.61399416909622, 42.54260869565218, 'entropy = 0.0\\nsamples = 1\\nvalue = [0, 0, 0, 0, 0, 0, 0, 1, 0, 0, 0, 0]'),\n",
       " Text(93.21690962099126, 42.54260869565218, 'entropy = 0.0\\nsamples = 12\\nvalue = [0, 0, 0, 0, 0, 0, 12, 0, 0, 0, 0, 0]'),\n",
       " Text(95.8198250728863, 61.45043478260868, 'X[190] <= -0.04\\nentropy = 0.051\\nsamples = 230\\nvalue = [0, 0, 0, 0, 0, 0, 6, 224, 0, 0, 0, 0]'),\n",
       " Text(94.51836734693879, 51.99652173913043, 'entropy = 0.0\\nsamples = 2\\nvalue = [0, 0, 0, 0, 0, 0, 2, 0, 0, 0, 0, 0]'),\n",
       " Text(97.12128279883383, 51.99652173913043, 'X[65] <= 0.229\\nentropy = 0.034\\nsamples = 228\\nvalue = [0, 0, 0, 0, 0, 0, 4, 224, 0, 0, 0, 0]'),\n",
       " Text(95.8198250728863, 42.54260869565218, 'X[290] <= 0.433\\nentropy = 0.026\\nsamples = 227\\nvalue = [0, 0, 0, 0, 0, 0, 3, 224, 0, 0, 0, 0]'),\n",
       " Text(94.51836734693879, 33.0886956521739, 'X[142] <= -0.941\\nentropy = 0.018\\nsamples = 226\\nvalue = [0, 0, 0, 0, 0, 0, 2, 224, 0, 0, 0, 0]'),\n",
       " Text(93.21690962099126, 23.634782608695645, 'entropy = 0.0\\nsamples = 1\\nvalue = [0, 0, 0, 0, 0, 0, 1, 0, 0, 0, 0, 0]'),\n",
       " Text(95.8198250728863, 23.634782608695645, 'X[115] <= -0.327\\nentropy = 0.009\\nsamples = 225\\nvalue = [0, 0, 0, 0, 0, 0, 1, 224, 0, 0, 0, 0]'),\n",
       " Text(94.51836734693879, 14.180869565217392, 'X[266] <= -0.908\\nentropy = 0.444\\nsamples = 3\\nvalue = [0, 0, 0, 0, 0, 0, 1, 2, 0, 0, 0, 0]'),\n",
       " Text(93.21690962099126, 4.726956521739112, 'entropy = 0.0\\nsamples = 1\\nvalue = [0, 0, 0, 0, 0, 0, 1, 0, 0, 0, 0, 0]'),\n",
       " Text(95.8198250728863, 4.726956521739112, 'entropy = 0.0\\nsamples = 2\\nvalue = [0, 0, 0, 0, 0, 0, 0, 2, 0, 0, 0, 0]'),\n",
       " Text(97.12128279883383, 14.180869565217392, 'entropy = 0.0\\nsamples = 222\\nvalue = [0, 0, 0, 0, 0, 0, 0, 222, 0, 0, 0, 0]'),\n",
       " Text(97.12128279883383, 33.0886956521739, 'entropy = 0.0\\nsamples = 1\\nvalue = [0, 0, 0, 0, 0, 0, 1, 0, 0, 0, 0, 0]'),\n",
       " Text(98.42274052478135, 42.54260869565218, 'entropy = 0.0\\nsamples = 1\\nvalue = [0, 0, 0, 0, 0, 0, 1, 0, 0, 0, 0, 0]'),\n",
       " Text(90.1259475218659, 80.35826086956521, 'entropy = 0.0\\nsamples = 1\\nvalue = [0, 0, 0, 0, 0, 0, 1, 0, 0, 0, 0, 0]'),\n",
       " Text(88.82448979591837, 108.72, 'entropy = 0.0\\nsamples = 1\\nvalue = [0, 0, 0, 0, 0, 0, 0, 0, 0, 1, 0, 0]'),\n",
       " Text(91.42740524781341, 127.62782608695652, 'X[6] <= -0.983\\nentropy = 0.444\\nsamples = 18\\nvalue = [0, 0, 0, 0, 0, 0, 6, 12, 0, 0, 0, 0]'),\n",
       " Text(90.1259475218659, 118.17391304347825, 'entropy = 0.0\\nsamples = 11\\nvalue = [0, 0, 0, 0, 0, 0, 0, 11, 0, 0, 0, 0]'),\n",
       " Text(92.72886297376094, 118.17391304347825, 'X[391] <= -0.998\\nentropy = 0.245\\nsamples = 7\\nvalue = [0, 0, 0, 0, 0, 0, 6, 1, 0, 0, 0, 0]'),\n",
       " Text(91.42740524781341, 108.72, 'entropy = 0.0\\nsamples = 6\\nvalue = [0, 0, 0, 0, 0, 0, 6, 0, 0, 0, 0, 0]'),\n",
       " Text(94.03032069970847, 108.72, 'entropy = 0.0\\nsamples = 1\\nvalue = [0, 0, 0, 0, 0, 0, 0, 1, 0, 0, 0, 0]'),\n",
       " Text(90.77667638483966, 137.08173913043478, 'entropy = 0.0\\nsamples = 2\\nvalue = [0, 0, 2, 0, 0, 0, 0, 0, 0, 0, 0, 0]'),\n",
       " Text(112.08804664723033, 146.53565217391304, 'X[133] <= 0.889\\nentropy = 0.301\\nsamples = 213\\nvalue = [0, 0, 1, 0, 0, 0, 38, 174, 0, 0, 0, 0]'),\n",
       " Text(106.7195335276968, 137.08173913043478, 'X[129] <= -0.887\\nentropy = 0.476\\nsamples = 96\\nvalue = [0, 0, 1, 0, 0, 0, 35, 60, 0, 0, 0, 0]'),\n",
       " Text(102.48979591836735, 127.62782608695652, 'X[113] <= 0.181\\nentropy = 0.489\\nsamples = 61\\nvalue = [0, 0, 0, 0, 0, 0, 35, 26, 0, 0, 0, 0]'),\n",
       " Text(97.93469387755103, 118.17391304347825, 'X[119] <= 0.317\\nentropy = 0.147\\nsamples = 25\\nvalue = [0, 0, 0, 0, 0, 0, 23, 2, 0, 0, 0, 0]'),\n",
       " Text(96.63323615160351, 108.72, 'entropy = 0.0\\nsamples = 22\\nvalue = [0, 0, 0, 0, 0, 0, 22, 0, 0, 0, 0, 0]'),\n",
       " Text(99.23615160349856, 108.72, 'X[75] <= -0.669\\nentropy = 0.444\\nsamples = 3\\nvalue = [0, 0, 0, 0, 0, 0, 1, 2, 0, 0, 0, 0]'),\n",
       " Text(97.93469387755103, 99.26608695652173, 'entropy = 0.0\\nsamples = 1\\nvalue = [0, 0, 0, 0, 0, 0, 1, 0, 0, 0, 0, 0]'),\n",
       " Text(100.53760932944607, 99.26608695652173, 'entropy = 0.0\\nsamples = 2\\nvalue = [0, 0, 0, 0, 0, 0, 0, 2, 0, 0, 0, 0]'),\n",
       " Text(107.04489795918369, 118.17391304347825, 'X[81] <= 0.021\\nentropy = 0.444\\nsamples = 36\\nvalue = [0, 0, 0, 0, 0, 0, 12, 24, 0, 0, 0, 0]'),\n",
       " Text(104.44198250728864, 108.72, 'X[25] <= 0.266\\nentropy = 0.293\\nsamples = 28\\nvalue = [0, 0, 0, 0, 0, 0, 5, 23, 0, 0, 0, 0]'),\n",
       " Text(103.14052478134111, 99.26608695652173, 'entropy = 0.0\\nsamples = 20\\nvalue = [0, 0, 0, 0, 0, 0, 0, 20, 0, 0, 0, 0]'),\n",
       " Text(105.74344023323616, 99.26608695652173, 'X[186] <= -0.17\\nentropy = 0.469\\nsamples = 8\\nvalue = [0, 0, 0, 0, 0, 0, 5, 3, 0, 0, 0, 0]'),\n",
       " Text(104.44198250728864, 89.81217391304348, 'entropy = 0.0\\nsamples = 3\\nvalue = [0, 0, 0, 0, 0, 0, 0, 3, 0, 0, 0, 0]'),\n",
       " Text(107.04489795918369, 89.81217391304348, 'entropy = 0.0\\nsamples = 5\\nvalue = [0, 0, 0, 0, 0, 0, 5, 0, 0, 0, 0, 0]'),\n",
       " Text(109.64781341107873, 108.72, 'X[7] <= -0.989\\nentropy = 0.219\\nsamples = 8\\nvalue = [0, 0, 0, 0, 0, 0, 7, 1, 0, 0, 0, 0]'),\n",
       " Text(108.3463556851312, 99.26608695652173, 'entropy = 0.0\\nsamples = 1\\nvalue = [0, 0, 0, 0, 0, 0, 0, 1, 0, 0, 0, 0]'),\n",
       " Text(110.94927113702624, 99.26608695652173, 'entropy = 0.0\\nsamples = 7\\nvalue = [0, 0, 0, 0, 0, 0, 7, 0, 0, 0, 0, 0]'),\n",
       " Text(110.94927113702624, 127.62782608695652, 'X[326] <= -0.968\\nentropy = 0.056\\nsamples = 35\\nvalue = [0, 0, 1, 0, 0, 0, 0, 34, 0, 0, 0, 0]'),\n",
       " Text(109.64781341107873, 118.17391304347825, 'entropy = 0.0\\nsamples = 34\\nvalue = [0, 0, 0, 0, 0, 0, 0, 34, 0, 0, 0, 0]'),\n",
       " Text(112.25072886297377, 118.17391304347825, 'entropy = 0.0\\nsamples = 1\\nvalue = [0, 0, 1, 0, 0, 0, 0, 0, 0, 0, 0, 0]'),\n",
       " Text(117.45655976676386, 137.08173913043478, 'X[158] <= 0.622\\nentropy = 0.05\\nsamples = 117\\nvalue = [0, 0, 0, 0, 0, 0, 3, 114, 0, 0, 0, 0]'),\n",
       " Text(116.15510204081633, 127.62782608695652, 'X[232] <= -1.0\\nentropy = 0.017\\nsamples = 115\\nvalue = [0, 0, 0, 0, 0, 0, 1, 114, 0, 0, 0, 0]'),\n",
       " Text(114.85364431486882, 118.17391304347825, 'entropy = 0.0\\nsamples = 1\\nvalue = [0, 0, 0, 0, 0, 0, 1, 0, 0, 0, 0, 0]'),\n",
       " Text(117.45655976676386, 118.17391304347825, 'entropy = 0.0\\nsamples = 114\\nvalue = [0, 0, 0, 0, 0, 0, 0, 114, 0, 0, 0, 0]'),\n",
       " Text(118.75801749271137, 127.62782608695652, 'entropy = 0.0\\nsamples = 2\\nvalue = [0, 0, 0, 0, 0, 0, 2, 0, 0, 0, 0, 0]'),\n",
       " Text(122.66239067055395, 155.98956521739132, 'X[58] <= -0.974\\nentropy = 0.457\\nsamples = 17\\nvalue = [0, 0, 0, 0, 0, 0, 11, 6, 0, 0, 0, 0]'),\n",
       " Text(121.36093294460642, 146.53565217391304, 'X[32] <= -0.073\\nentropy = 0.245\\nsamples = 7\\nvalue = [0, 0, 0, 0, 0, 0, 1, 6, 0, 0, 0, 0]'),\n",
       " Text(120.0594752186589, 137.08173913043478, 'entropy = 0.0\\nsamples = 1\\nvalue = [0, 0, 0, 0, 0, 0, 1, 0, 0, 0, 0, 0]'),\n",
       " Text(122.66239067055395, 137.08173913043478, 'entropy = 0.0\\nsamples = 6\\nvalue = [0, 0, 0, 0, 0, 0, 0, 6, 0, 0, 0, 0]'),\n",
       " Text(123.96384839650146, 146.53565217391304, 'entropy = 0.0\\nsamples = 10\\nvalue = [0, 0, 0, 0, 0, 0, 10, 0, 0, 0, 0, 0]'),\n",
       " Text(259.92551020408166, 193.80521739130435, 'X[9] <= 0.363\\nentropy = 0.724\\nsamples = 3637\\nvalue = [1226, 53, 86, 48, 1073, 987, 8, 0, 15, 46, 23\\n72]'),\n",
       " Text(215.71661807580176, 184.3513043478261, 'X[69] <= -0.276\\nentropy = 0.663\\nsamples = 2682\\nvalue = [1176, 48, 86, 42, 997, 172, 8, 0, 15, 43, 23, 72]'),\n",
       " Text(173.66326530612247, 174.89739130434782, 'X[50] <= -0.165\\nentropy = 0.593\\nsamples = 1354\\nvalue = [101, 47, 85, 42, 843, 75, 8, 0, 15, 43, 23, 72]'),\n",
       " Text(144.13644314868804, 165.44347826086957, 'X[37] <= -0.06\\nentropy = 0.202\\nsamples = 890\\nvalue = [51, 1, 6, 0, 793, 16, 0, 0, 0, 23, 0, 0]'),\n",
       " Text(131.7725947521866, 155.98956521739132, 'X[37] <= -0.657\\nentropy = 0.102\\nsamples = 810\\nvalue = [22, 0, 2, 0, 767, 16, 0, 0, 0, 3, 0, 0]'),\n",
       " Text(126.5667638483965, 146.53565217391304, 'X[489] <= -0.917\\nentropy = 0.521\\nsamples = 13\\nvalue = [0, 0, 1, 0, 4, 8, 0, 0, 0, 0, 0, 0]'),\n",
       " Text(125.26530612244899, 137.08173913043478, 'X[347] <= -0.614\\nentropy = 0.32\\nsamples = 5\\nvalue = [0, 0, 1, 0, 4, 0, 0, 0, 0, 0, 0, 0]'),\n",
       " Text(123.96384839650146, 127.62782608695652, 'entropy = 0.0\\nsamples = 1\\nvalue = [0, 0, 1, 0, 0, 0, 0, 0, 0, 0, 0, 0]'),\n",
       " Text(126.5667638483965, 127.62782608695652, 'entropy = 0.0\\nsamples = 4\\nvalue = [0, 0, 0, 0, 4, 0, 0, 0, 0, 0, 0, 0]'),\n",
       " Text(127.86822157434403, 137.08173913043478, 'entropy = 0.0\\nsamples = 8\\nvalue = [0, 0, 0, 0, 0, 8, 0, 0, 0, 0, 0, 0]'),\n",
       " Text(136.97842565597668, 146.53565217391304, 'X[302] <= -0.838\\nentropy = 0.083\\nsamples = 797\\nvalue = [22, 0, 1, 0, 763, 8, 0, 0, 0, 3, 0, 0]'),\n",
       " Text(131.7725947521866, 137.08173913043478, 'X[171] <= -0.726\\nentropy = 0.553\\nsamples = 33\\nvalue = [11, 0, 1, 0, 19, 0, 0, 0, 0, 2, 0, 0]'),\n",
       " Text(129.16967930029156, 127.62782608695652, 'X[272] <= 0.046\\nentropy = 0.095\\nsamples = 20\\nvalue = [0, 0, 1, 0, 19, 0, 0, 0, 0, 0, 0, 0]'),\n",
       " Text(127.86822157434403, 118.17391304347825, 'entropy = 0.0\\nsamples = 19\\nvalue = [0, 0, 0, 0, 19, 0, 0, 0, 0, 0, 0, 0]'),\n",
       " Text(130.47113702623906, 118.17391304347825, 'entropy = 0.0\\nsamples = 1\\nvalue = [0, 0, 1, 0, 0, 0, 0, 0, 0, 0, 0, 0]'),\n",
       " Text(134.37551020408165, 127.62782608695652, 'X[19] <= -0.748\\nentropy = 0.26\\nsamples = 13\\nvalue = [11, 0, 0, 0, 0, 0, 0, 0, 0, 2, 0, 0]'),\n",
       " Text(133.07405247813412, 118.17391304347825, 'entropy = 0.0\\nsamples = 2\\nvalue = [0, 0, 0, 0, 0, 0, 0, 0, 0, 2, 0, 0]'),\n",
       " Text(135.67696793002918, 118.17391304347825, 'entropy = 0.0\\nsamples = 11\\nvalue = [11, 0, 0, 0, 0, 0, 0, 0, 0, 0, 0, 0]'),\n",
       " Text(142.18425655976677, 137.08173913043478, 'X[65] <= -0.358\\nentropy = 0.051\\nsamples = 764\\nvalue = [11, 0, 0, 0, 744, 8, 0, 0, 0, 1, 0, 0]'),\n",
       " Text(139.58134110787174, 127.62782608695652, 'X[558] <= -0.839\\nentropy = 0.042\\nsamples = 759\\nvalue = [7, 0, 0, 0, 743, 8, 0, 0, 0, 1, 0, 0]'),\n",
       " Text(138.2798833819242, 118.17391304347825, 'entropy = 0.0\\nsamples = 2\\nvalue = [0, 0, 0, 0, 0, 2, 0, 0, 0, 0, 0, 0]'),\n",
       " Text(140.88279883381927, 118.17391304347825, 'X[538] <= 0.453\\nentropy = 0.036\\nsamples = 757\\nvalue = [7, 0, 0, 0, 743, 6, 0, 0, 0, 1, 0, 0]'),\n",
       " Text(139.58134110787174, 108.72, 'X[505] <= -0.383\\nentropy = 0.031\\nsamples = 755\\nvalue = [7, 0, 0, 0, 743, 4, 0, 0, 0, 1, 0, 0]'),\n",
       " Text(136.32769679300293, 99.26608695652173, 'X[117] <= 0.014\\nentropy = 0.026\\nsamples = 753\\nvalue = [7, 0, 0, 0, 743, 3, 0, 0, 0, 0, 0, 0]'),\n",
       " Text(133.72478134110787, 89.81217391304348, 'X[203] <= 0.315\\nentropy = 0.016\\nsamples = 742\\nvalue = [3, 0, 0, 0, 736, 3, 0, 0, 0, 0, 0, 0]'),\n",
       " Text(132.42332361516037, 80.35826086956521, 'X[38] <= 0.291\\nentropy = 0.013\\nsamples = 741\\nvalue = [3, 0, 0, 0, 736, 2, 0, 0, 0, 0, 0, 0]'),\n",
       " Text(131.12186588921284, 70.90434782608696, 'X[505] <= -0.834\\nentropy = 0.011\\nsamples = 740\\nvalue = [3, 0, 0, 0, 736, 1, 0, 0, 0, 0, 0, 0]'),\n",
       " Text(129.8204081632653, 61.45043478260868, 'entropy = 0.0\\nsamples = 1\\nvalue = [1, 0, 0, 0, 0, 0, 0, 0, 0, 0, 0, 0]'),\n",
       " Text(132.42332361516037, 61.45043478260868, 'X[284] <= 0.399\\nentropy = 0.008\\nsamples = 739\\nvalue = [2, 0, 0, 0, 736, 1, 0, 0, 0, 0, 0, 0]'),\n",
       " Text(131.12186588921284, 51.99652173913043, 'X[383] <= -0.364\\nentropy = 0.005\\nsamples = 738\\nvalue = [1, 0, 0, 0, 736, 1, 0, 0, 0, 0, 0, 0]'),\n",
       " Text(128.51895043731778, 42.54260869565218, 'X[490] <= -0.989\\nentropy = 0.003\\nsamples = 736\\nvalue = [1, 0, 0, 0, 735, 0, 0, 0, 0, 0, 0, 0]'),\n",
       " Text(127.21749271137027, 33.0886956521739, 'X[172] <= 0.649\\nentropy = 0.278\\nsamples = 6\\nvalue = [1, 0, 0, 0, 5, 0, 0, 0, 0, 0, 0, 0]'),\n",
       " Text(125.91603498542275, 23.634782608695645, 'entropy = 0.0\\nsamples = 1\\nvalue = [1, 0, 0, 0, 0, 0, 0, 0, 0, 0, 0, 0]'),\n",
       " Text(128.51895043731778, 23.634782608695645, 'entropy = 0.0\\nsamples = 5\\nvalue = [0, 0, 0, 0, 5, 0, 0, 0, 0, 0, 0, 0]'),\n",
       " Text(129.8204081632653, 33.0886956521739, 'entropy = 0.0\\nsamples = 730\\nvalue = [0, 0, 0, 0, 730, 0, 0, 0, 0, 0, 0, 0]'),\n",
       " Text(133.72478134110787, 42.54260869565218, 'X[202] <= -0.41\\nentropy = 0.5\\nsamples = 2\\nvalue = [0, 0, 0, 0, 1, 1, 0, 0, 0, 0, 0, 0]'),\n",
       " Text(132.42332361516037, 33.0886956521739, 'entropy = 0.0\\nsamples = 1\\nvalue = [0, 0, 0, 0, 1, 0, 0, 0, 0, 0, 0, 0]'),\n",
       " Text(135.0262390670554, 33.0886956521739, 'entropy = 0.0\\nsamples = 1\\nvalue = [0, 0, 0, 0, 0, 1, 0, 0, 0, 0, 0, 0]'),\n",
       " Text(133.72478134110787, 51.99652173913043, 'entropy = 0.0\\nsamples = 1\\nvalue = [1, 0, 0, 0, 0, 0, 0, 0, 0, 0, 0, 0]'),\n",
       " Text(133.72478134110787, 70.90434782608696, 'entropy = 0.0\\nsamples = 1\\nvalue = [0, 0, 0, 0, 0, 1, 0, 0, 0, 0, 0, 0]'),\n",
       " Text(135.0262390670554, 80.35826086956521, 'entropy = 0.0\\nsamples = 1\\nvalue = [0, 0, 0, 0, 0, 1, 0, 0, 0, 0, 0, 0]'),\n",
       " Text(138.93061224489796, 89.81217391304348, 'X[108] <= 0.371\\nentropy = 0.463\\nsamples = 11\\nvalue = [4, 0, 0, 0, 7, 0, 0, 0, 0, 0, 0, 0]'),\n",
       " Text(137.62915451895046, 80.35826086956521, 'entropy = 0.0\\nsamples = 7\\nvalue = [0, 0, 0, 0, 7, 0, 0, 0, 0, 0, 0, 0]'),\n",
       " Text(140.2320699708455, 80.35826086956521, 'entropy = 0.0\\nsamples = 4\\nvalue = [4, 0, 0, 0, 0, 0, 0, 0, 0, 0, 0, 0]'),\n",
       " Text(142.83498542274054, 99.26608695652173, 'X[226] <= -0.467\\nentropy = 0.5\\nsamples = 2\\nvalue = [0, 0, 0, 0, 0, 1, 0, 0, 0, 1, 0, 0]'),\n",
       " Text(141.53352769679302, 89.81217391304348, 'entropy = 0.0\\nsamples = 1\\nvalue = [0, 0, 0, 0, 0, 0, 0, 0, 0, 1, 0, 0]'),\n",
       " Text(144.13644314868804, 89.81217391304348, 'entropy = 0.0\\nsamples = 1\\nvalue = [0, 0, 0, 0, 0, 1, 0, 0, 0, 0, 0, 0]'),\n",
       " Text(142.18425655976677, 108.72, 'entropy = 0.0\\nsamples = 2\\nvalue = [0, 0, 0, 0, 0, 2, 0, 0, 0, 0, 0, 0]'),\n",
       " Text(144.78717201166182, 127.62782608695652, 'X[319] <= -0.944\\nentropy = 0.32\\nsamples = 5\\nvalue = [4, 0, 0, 0, 1, 0, 0, 0, 0, 0, 0, 0]'),\n",
       " Text(143.4857142857143, 118.17391304347825, 'entropy = 0.0\\nsamples = 1\\nvalue = [0, 0, 0, 0, 1, 0, 0, 0, 0, 0, 0, 0]'),\n",
       " Text(146.08862973760935, 118.17391304347825, 'entropy = 0.0\\nsamples = 4\\nvalue = [4, 0, 0, 0, 0, 0, 0, 0, 0, 0, 0, 0]'),\n",
       " Text(156.50029154518953, 155.98956521739132, 'X[73] <= -0.624\\nentropy = 0.698\\nsamples = 80\\nvalue = [29, 1, 4, 0, 26, 0, 0, 0, 0, 20, 0, 0]'),\n",
       " Text(153.89737609329447, 146.53565217391304, 'X[511] <= -0.921\\nentropy = 0.578\\nsamples = 46\\nvalue = [0, 1, 3, 0, 22, 0, 0, 0, 0, 20, 0, 0]'),\n",
       " Text(152.59591836734694, 137.08173913043478, 'X[136] <= -0.699\\nentropy = 0.342\\nsamples = 25\\nvalue = [0, 1, 3, 0, 1, 0, 0, 0, 0, 20, 0, 0]'),\n",
       " Text(149.9930029154519, 127.62782608695652, 'X[431] <= -0.597\\nentropy = 0.091\\nsamples = 21\\nvalue = [0, 0, 0, 0, 1, 0, 0, 0, 0, 20, 0, 0]'),\n",
       " Text(148.69154518950438, 118.17391304347825, 'entropy = 0.0\\nsamples = 1\\nvalue = [0, 0, 0, 0, 1, 0, 0, 0, 0, 0, 0, 0]'),\n",
       " Text(151.29446064139944, 118.17391304347825, 'entropy = 0.0\\nsamples = 20\\nvalue = [0, 0, 0, 0, 0, 0, 0, 0, 0, 20, 0, 0]'),\n",
       " Text(155.198833819242, 127.62782608695652, 'X[455] <= -0.436\\nentropy = 0.375\\nsamples = 4\\nvalue = [0, 1, 3, 0, 0, 0, 0, 0, 0, 0, 0, 0]'),\n",
       " Text(153.89737609329447, 118.17391304347825, 'entropy = 0.0\\nsamples = 1\\nvalue = [0, 1, 0, 0, 0, 0, 0, 0, 0, 0, 0, 0]'),\n",
       " Text(156.50029154518953, 118.17391304347825, 'entropy = 0.0\\nsamples = 3\\nvalue = [0, 0, 3, 0, 0, 0, 0, 0, 0, 0, 0, 0]'),\n",
       " Text(155.198833819242, 137.08173913043478, 'entropy = 0.0\\nsamples = 21\\nvalue = [0, 0, 0, 0, 21, 0, 0, 0, 0, 0, 0, 0]'),\n",
       " Text(159.10320699708456, 146.53565217391304, 'X[141] <= -0.246\\nentropy = 0.258\\nsamples = 34\\nvalue = [29, 0, 1, 0, 4, 0, 0, 0, 0, 0, 0, 0]'),\n",
       " Text(157.80174927113703, 137.08173913043478, 'entropy = 0.0\\nsamples = 29\\nvalue = [29, 0, 0, 0, 0, 0, 0, 0, 0, 0, 0, 0]'),\n",
       " Text(160.40466472303208, 137.08173913043478, 'X[392] <= -0.947\\nentropy = 0.32\\nsamples = 5\\nvalue = [0, 0, 1, 0, 4, 0, 0, 0, 0, 0, 0, 0]'),\n",
       " Text(159.10320699708456, 127.62782608695652, 'entropy = 0.0\\nsamples = 1\\nvalue = [0, 0, 1, 0, 0, 0, 0, 0, 0, 0, 0, 0]'),\n",
       " Text(161.7061224489796, 127.62782608695652, 'entropy = 0.0\\nsamples = 4\\nvalue = [0, 0, 0, 0, 4, 0, 0, 0, 0, 0, 0, 0]'),\n",
       " Text(203.19008746355686, 165.44347826086957, 'X[1] <= 0.078\\nentropy = 0.884\\nsamples = 464\\nvalue = [50, 46, 79, 42, 50, 59, 8, 0, 15, 20, 23, 72]'),\n",
       " Text(184.3189504373178, 155.98956521739132, 'X[290] <= -0.9\\nentropy = 0.857\\nsamples = 300\\nvalue = [50, 46, 6, 41, 48, 59, 5, 0, 10, 10, 23, 2]'),\n",
       " Text(174.39533527696796, 146.53565217391304, 'X[52] <= 0.375\\nentropy = 0.768\\nsamples = 140\\nvalue = [0, 46, 6, 41, 0, 0, 4, 0, 10, 8, 23, 2]'),\n",
       " Text(167.56268221574345, 137.08173913043478, 'X[22] <= 0.293\\nentropy = 0.609\\nsamples = 100\\nvalue = [0, 46, 3, 41, 0, 0, 0, 0, 10, 0, 0, 0]'),\n",
       " Text(164.30903790087464, 127.62782608695652, 'X[433] <= -0.613\\nentropy = 0.355\\nsamples = 13\\nvalue = [0, 0, 3, 0, 0, 0, 0, 0, 10, 0, 0, 0]'),\n",
       " Text(163.0075801749271, 118.17391304347825, 'entropy = 0.0\\nsamples = 10\\nvalue = [0, 0, 0, 0, 0, 0, 0, 0, 10, 0, 0, 0]'),\n",
       " Text(165.61049562682217, 118.17391304347825, 'entropy = 0.0\\nsamples = 3\\nvalue = [0, 0, 3, 0, 0, 0, 0, 0, 0, 0, 0, 0]'),\n",
       " Text(170.81632653061226, 127.62782608695652, 'X[16] <= -0.501\\nentropy = 0.498\\nsamples = 87\\nvalue = [0, 46, 0, 41, 0, 0, 0, 0, 0, 0, 0, 0]'),\n",
       " Text(168.2134110787172, 118.17391304347825, 'X[56] <= 0.445\\nentropy = 0.153\\nsamples = 24\\nvalue = [0, 22, 0, 2, 0, 0, 0, 0, 0, 0, 0, 0]'),\n",
       " Text(166.9119533527697, 108.72, 'entropy = 0.0\\nsamples = 22\\nvalue = [0, 22, 0, 0, 0, 0, 0, 0, 0, 0, 0, 0]'),\n",
       " Text(169.51486880466473, 108.72, 'entropy = 0.0\\nsamples = 2\\nvalue = [0, 0, 0, 2, 0, 0, 0, 0, 0, 0, 0, 0]'),\n",
       " Text(173.4192419825073, 118.17391304347825, 'X[132] <= 0.518\\nentropy = 0.472\\nsamples = 63\\nvalue = [0, 24, 0, 39, 0, 0, 0, 0, 0, 0, 0, 0]'),\n",
       " Text(172.1177842565598, 108.72, 'entropy = 0.0\\nsamples = 19\\nvalue = [0, 0, 0, 19, 0, 0, 0, 0, 0, 0, 0, 0]'),\n",
       " Text(174.72069970845482, 108.72, 'X[156] <= 0.134\\nentropy = 0.496\\nsamples = 44\\nvalue = [0, 24, 0, 20, 0, 0, 0, 0, 0, 0, 0, 0]'),\n",
       " Text(172.1177842565598, 99.26608695652173, 'X[428] <= -0.682\\nentropy = 0.142\\nsamples = 13\\nvalue = [0, 1, 0, 12, 0, 0, 0, 0, 0, 0, 0, 0]'),\n",
       " Text(170.81632653061226, 89.81217391304348, 'entropy = 0.0\\nsamples = 1\\nvalue = [0, 1, 0, 0, 0, 0, 0, 0, 0, 0, 0, 0]'),\n",
       " Text(173.4192419825073, 89.81217391304348, 'entropy = 0.0\\nsamples = 12\\nvalue = [0, 0, 0, 12, 0, 0, 0, 0, 0, 0, 0, 0]'),\n",
       " Text(177.32361516034987, 99.26608695652173, 'X[412] <= -0.964\\nentropy = 0.383\\nsamples = 31\\nvalue = [0, 23, 0, 8, 0, 0, 0, 0, 0, 0, 0, 0]'),\n",
       " Text(176.02215743440235, 89.81217391304348, 'X[76] <= 0.944\\nentropy = 0.252\\nsamples = 27\\nvalue = [0, 23, 0, 4, 0, 0, 0, 0, 0, 0, 0, 0]'),\n",
       " Text(173.4192419825073, 80.35826086956521, 'X[326] <= -0.526\\nentropy = 0.083\\nsamples = 23\\nvalue = [0, 22, 0, 1, 0, 0, 0, 0, 0, 0, 0, 0]'),\n",
       " Text(172.1177842565598, 70.90434782608696, 'entropy = 0.0\\nsamples = 22\\nvalue = [0, 22, 0, 0, 0, 0, 0, 0, 0, 0, 0, 0]'),\n",
       " Text(174.72069970845482, 70.90434782608696, 'entropy = 0.0\\nsamples = 1\\nvalue = [0, 0, 0, 1, 0, 0, 0, 0, 0, 0, 0, 0]'),\n",
       " Text(178.6250728862974, 80.35826086956521, 'X[0] <= 0.594\\nentropy = 0.375\\nsamples = 4\\nvalue = [0, 1, 0, 3, 0, 0, 0, 0, 0, 0, 0, 0]'),\n",
       " Text(177.32361516034987, 70.90434782608696, 'entropy = 0.0\\nsamples = 1\\nvalue = [0, 1, 0, 0, 0, 0, 0, 0, 0, 0, 0, 0]'),\n",
       " Text(179.9265306122449, 70.90434782608696, 'entropy = 0.0\\nsamples = 3\\nvalue = [0, 0, 0, 3, 0, 0, 0, 0, 0, 0, 0, 0]'),\n",
       " Text(178.6250728862974, 89.81217391304348, 'entropy = 0.0\\nsamples = 4\\nvalue = [0, 0, 0, 4, 0, 0, 0, 0, 0, 0, 0, 0]'),\n",
       " Text(181.22798833819243, 137.08173913043478, 'X[121] <= 0.047\\nentropy = 0.611\\nsamples = 40\\nvalue = [0, 0, 3, 0, 0, 0, 4, 0, 0, 8, 23, 2]'),\n",
       " Text(177.32361516034987, 127.62782608695652, 'X[1] <= -0.079\\nentropy = 0.21\\nsamples = 26\\nvalue = [0, 0, 1, 0, 0, 0, 2, 0, 0, 0, 23, 0]'),\n",
       " Text(176.02215743440235, 118.17391304347825, 'entropy = 0.0\\nsamples = 23\\nvalue = [0, 0, 0, 0, 0, 0, 0, 0, 0, 0, 23, 0]'),\n",
       " Text(178.6250728862974, 118.17391304347825, 'X[267] <= -0.585\\nentropy = 0.444\\nsamples = 3\\nvalue = [0, 0, 1, 0, 0, 0, 2, 0, 0, 0, 0, 0]'),\n",
       " Text(177.32361516034987, 108.72, 'entropy = 0.0\\nsamples = 1\\nvalue = [0, 0, 1, 0, 0, 0, 0, 0, 0, 0, 0, 0]'),\n",
       " Text(179.9265306122449, 108.72, 'entropy = 0.0\\nsamples = 2\\nvalue = [0, 0, 0, 0, 0, 0, 2, 0, 0, 0, 0, 0]'),\n",
       " Text(185.132361516035, 127.62782608695652, 'X[52] <= 0.768\\nentropy = 0.612\\nsamples = 14\\nvalue = [0, 0, 2, 0, 0, 0, 2, 0, 0, 8, 0, 2]'),\n",
       " Text(183.8309037900875, 118.17391304347825, 'X[127] <= -0.699\\nentropy = 0.667\\nsamples = 6\\nvalue = [0, 0, 2, 0, 0, 0, 2, 0, 0, 0, 0, 2]'),\n",
       " Text(182.52944606413996, 108.72, 'entropy = 0.0\\nsamples = 2\\nvalue = [0, 0, 0, 0, 0, 0, 2, 0, 0, 0, 0, 0]'),\n",
       " Text(185.132361516035, 108.72, 'X[65] <= -0.897\\nentropy = 0.5\\nsamples = 4\\nvalue = [0, 0, 2, 0, 0, 0, 0, 0, 0, 0, 0, 2]'),\n",
       " Text(183.8309037900875, 99.26608695652173, 'entropy = 0.0\\nsamples = 2\\nvalue = [0, 0, 0, 0, 0, 0, 0, 0, 0, 0, 0, 2]'),\n",
       " Text(186.43381924198252, 99.26608695652173, 'entropy = 0.0\\nsamples = 2\\nvalue = [0, 0, 2, 0, 0, 0, 0, 0, 0, 0, 0, 0]'),\n",
       " Text(186.43381924198252, 118.17391304347825, 'entropy = 0.0\\nsamples = 8\\nvalue = [0, 0, 0, 0, 0, 0, 0, 0, 0, 8, 0, 0]'),\n",
       " Text(194.24256559766766, 146.53565217391304, 'X[37] <= -0.335\\nentropy = 0.676\\nsamples = 160\\nvalue = [50, 0, 0, 0, 48, 59, 1, 0, 0, 2, 0, 0]'),\n",
       " Text(189.03673469387758, 137.08173913043478, 'X[459] <= -0.446\\nentropy = 0.171\\nsamples = 53\\nvalue = [0, 0, 0, 0, 5, 48, 0, 0, 0, 0, 0, 0]'),\n",
       " Text(187.73527696793005, 127.62782608695652, 'entropy = 0.0\\nsamples = 47\\nvalue = [0, 0, 0, 0, 0, 47, 0, 0, 0, 0, 0, 0]'),\n",
       " Text(190.33819241982508, 127.62782608695652, 'X[118] <= -0.622\\nentropy = 0.278\\nsamples = 6\\nvalue = [0, 0, 0, 0, 5, 1, 0, 0, 0, 0, 0, 0]'),\n",
       " Text(189.03673469387758, 118.17391304347825, 'entropy = 0.0\\nsamples = 1\\nvalue = [0, 0, 0, 0, 0, 1, 0, 0, 0, 0, 0, 0]'),\n",
       " Text(191.6396501457726, 118.17391304347825, 'entropy = 0.0\\nsamples = 5\\nvalue = [0, 0, 0, 0, 5, 0, 0, 0, 0, 0, 0, 0]'),\n",
       " Text(199.44839650145775, 137.08173913043478, 'X[57] <= -0.966\\nentropy = 0.609\\nsamples = 107\\nvalue = [50, 0, 0, 0, 43, 11, 1, 0, 0, 2, 0, 0]'),\n",
       " Text(195.54402332361516, 127.62782608695652, 'X[504] <= -0.383\\nentropy = 0.405\\nsamples = 64\\nvalue = [48, 0, 0, 0, 3, 11, 0, 0, 0, 2, 0, 0]'),\n",
       " Text(194.24256559766766, 118.17391304347825, 'entropy = 0.0\\nsamples = 40\\nvalue = [40, 0, 0, 0, 0, 0, 0, 0, 0, 0, 0, 0]'),\n",
       " Text(196.8454810495627, 118.17391304347825, 'X[156] <= 0.357\\nentropy = 0.656\\nsamples = 24\\nvalue = [8, 0, 0, 0, 3, 11, 0, 0, 0, 2, 0, 0]'),\n",
       " Text(195.54402332361516, 108.72, 'X[76] <= 0.868\\nentropy = 0.477\\nsamples = 16\\nvalue = [0, 0, 0, 0, 3, 11, 0, 0, 0, 2, 0, 0]'),\n",
       " Text(194.24256559766766, 99.26608695652173, 'entropy = 0.0\\nsamples = 11\\nvalue = [0, 0, 0, 0, 0, 11, 0, 0, 0, 0, 0, 0]'),\n",
       " Text(196.8454810495627, 99.26608695652173, 'X[20] <= -0.463\\nentropy = 0.48\\nsamples = 5\\nvalue = [0, 0, 0, 0, 3, 0, 0, 0, 0, 2, 0, 0]'),\n",
       " Text(195.54402332361516, 89.81217391304348, 'entropy = 0.0\\nsamples = 3\\nvalue = [0, 0, 0, 0, 3, 0, 0, 0, 0, 0, 0, 0]'),\n",
       " Text(198.14693877551022, 89.81217391304348, 'entropy = 0.0\\nsamples = 2\\nvalue = [0, 0, 0, 0, 0, 0, 0, 0, 0, 2, 0, 0]'),\n",
       " Text(198.14693877551022, 108.72, 'entropy = 0.0\\nsamples = 8\\nvalue = [8, 0, 0, 0, 0, 0, 0, 0, 0, 0, 0, 0]'),\n",
       " Text(203.3527696793003, 127.62782608695652, 'X[515] <= -0.172\\nentropy = 0.132\\nsamples = 43\\nvalue = [2, 0, 0, 0, 40, 0, 1, 0, 0, 0, 0, 0]'),\n",
       " Text(202.05131195335278, 118.17391304347825, 'X[269] <= -0.101\\nentropy = 0.048\\nsamples = 41\\nvalue = [0, 0, 0, 0, 40, 0, 1, 0, 0, 0, 0, 0]'),\n",
       " Text(200.74985422740525, 108.72, 'entropy = 0.0\\nsamples = 40\\nvalue = [0, 0, 0, 0, 40, 0, 0, 0, 0, 0, 0, 0]'),\n",
       " Text(203.3527696793003, 108.72, 'entropy = 0.0\\nsamples = 1\\nvalue = [0, 0, 0, 0, 0, 0, 1, 0, 0, 0, 0, 0]'),\n",
       " Text(204.65422740524784, 118.17391304347825, 'entropy = 0.0\\nsamples = 2\\nvalue = [2, 0, 0, 0, 0, 0, 0, 0, 0, 0, 0, 0]'),\n",
       " Text(222.06122448979593, 155.98956521739132, 'X[53] <= -0.088\\nentropy = 0.615\\nsamples = 164\\nvalue = [0, 0, 73, 1, 2, 0, 3, 0, 5, 10, 0, 70]'),\n",
       " Text(214.08979591836737, 146.53565217391304, 'X[136] <= -0.905\\nentropy = 0.42\\nsamples = 78\\nvalue = [0, 0, 58, 1, 0, 0, 1, 0, 0, 10, 0, 8]'),\n",
       " Text(209.86005830903792, 137.08173913043478, 'X[382] <= -0.988\\nentropy = 0.379\\nsamples = 13\\nvalue = [0, 0, 0, 0, 0, 0, 1, 0, 0, 10, 0, 2]'),\n",
       " Text(208.5586005830904, 127.62782608695652, 'X[328] <= -0.716\\nentropy = 0.444\\nsamples = 3\\nvalue = [0, 0, 0, 0, 0, 0, 1, 0, 0, 0, 0, 2]'),\n",
       " Text(207.25714285714287, 118.17391304347825, 'entropy = 0.0\\nsamples = 1\\nvalue = [0, 0, 0, 0, 0, 0, 1, 0, 0, 0, 0, 0]'),\n",
       " Text(209.86005830903792, 118.17391304347825, 'entropy = 0.0\\nsamples = 2\\nvalue = [0, 0, 0, 0, 0, 0, 0, 0, 0, 0, 0, 2]'),\n",
       " Text(211.16151603498542, 127.62782608695652, 'entropy = 0.0\\nsamples = 10\\nvalue = [0, 0, 0, 0, 0, 0, 0, 0, 0, 10, 0, 0]'),\n",
       " Text(218.31953352769682, 137.08173913043478, 'X[187] <= 0.203\\nentropy = 0.195\\nsamples = 65\\nvalue = [0, 0, 58, 1, 0, 0, 0, 0, 0, 0, 0, 6]'),\n",
       " Text(215.065889212828, 127.62782608695652, 'X[397] <= -0.989\\nentropy = 0.098\\nsamples = 59\\nvalue = [0, 0, 56, 1, 0, 0, 0, 0, 0, 0, 0, 2]'),\n",
       " Text(212.46297376093295, 118.17391304347825, 'X[120] <= -0.111\\nentropy = 0.5\\nsamples = 2\\nvalue = [0, 0, 0, 1, 0, 0, 0, 0, 0, 0, 0, 1]'),\n",
       " Text(211.16151603498542, 108.72, 'entropy = 0.0\\nsamples = 1\\nvalue = [0, 0, 0, 0, 0, 0, 0, 0, 0, 0, 0, 1]'),\n",
       " Text(213.76443148688048, 108.72, 'entropy = 0.0\\nsamples = 1\\nvalue = [0, 0, 0, 1, 0, 0, 0, 0, 0, 0, 0, 0]'),\n",
       " Text(217.66880466472304, 118.17391304347825, 'X[264] <= 0.355\\nentropy = 0.034\\nsamples = 57\\nvalue = [0, 0, 56, 0, 0, 0, 0, 0, 0, 0, 0, 1]'),\n",
       " Text(216.3673469387755, 108.72, 'entropy = 0.0\\nsamples = 56\\nvalue = [0, 0, 56, 0, 0, 0, 0, 0, 0, 0, 0, 0]'),\n",
       " Text(218.97026239067057, 108.72, 'entropy = 0.0\\nsamples = 1\\nvalue = [0, 0, 0, 0, 0, 0, 0, 0, 0, 0, 0, 1]'),\n",
       " Text(221.57317784256563, 127.62782608695652, 'X[9] <= -0.575\\nentropy = 0.444\\nsamples = 6\\nvalue = [0, 0, 2, 0, 0, 0, 0, 0, 0, 0, 0, 4]'),\n",
       " Text(220.2717201166181, 118.17391304347825, 'entropy = 0.0\\nsamples = 4\\nvalue = [0, 0, 0, 0, 0, 0, 0, 0, 0, 0, 0, 4]'),\n",
       " Text(222.87463556851313, 118.17391304347825, 'entropy = 0.0\\nsamples = 2\\nvalue = [0, 0, 2, 0, 0, 0, 0, 0, 0, 0, 0, 0]'),\n",
       " Text(230.0326530612245, 146.53565217391304, 'X[17] <= -0.826\\nentropy = 0.445\\nsamples = 86\\nvalue = [0, 0, 15, 0, 2, 0, 2, 0, 5, 0, 0, 62]'),\n",
       " Text(225.47755102040819, 137.08173913043478, 'X[456] <= -0.335\\nentropy = 0.727\\nsamples = 11\\nvalue = [0, 0, 3, 0, 2, 0, 2, 0, 4, 0, 0, 0]'),\n",
       " Text(224.17609329446066, 127.62782608695652, 'entropy = 0.0\\nsamples = 4\\nvalue = [0, 0, 0, 0, 0, 0, 0, 0, 4, 0, 0, 0]'),\n",
       " Text(226.77900874635571, 127.62782608695652, 'X[254] <= -0.82\\nentropy = 0.653\\nsamples = 7\\nvalue = [0, 0, 3, 0, 2, 0, 2, 0, 0, 0, 0, 0]'),\n",
       " Text(225.47755102040819, 118.17391304347825, 'X[423] <= -0.799\\nentropy = 0.5\\nsamples = 4\\nvalue = [0, 0, 0, 0, 2, 0, 2, 0, 0, 0, 0, 0]'),\n",
       " Text(224.17609329446066, 108.72, 'entropy = 0.0\\nsamples = 2\\nvalue = [0, 0, 0, 0, 0, 0, 2, 0, 0, 0, 0, 0]'),\n",
       " Text(226.77900874635571, 108.72, 'entropy = 0.0\\nsamples = 2\\nvalue = [0, 0, 0, 0, 2, 0, 0, 0, 0, 0, 0, 0]'),\n",
       " Text(228.08046647230321, 118.17391304347825, 'entropy = 0.0\\nsamples = 3\\nvalue = [0, 0, 3, 0, 0, 0, 0, 0, 0, 0, 0, 0]'),\n",
       " Text(234.58775510204083, 137.08173913043478, 'X[135] <= 0.218\\nentropy = 0.291\\nsamples = 75\\nvalue = [0, 0, 12, 0, 0, 0, 0, 0, 1, 0, 0, 62]'),\n",
       " Text(233.2862973760933, 127.62782608695652, 'X[198] <= -0.121\\nentropy = 0.225\\nsamples = 71\\nvalue = [0, 0, 8, 0, 0, 0, 0, 0, 1, 0, 0, 62]'),\n",
       " Text(230.68338192419827, 118.17391304347825, 'X[387] <= -0.994\\nentropy = 0.547\\nsamples = 17\\nvalue = [0, 0, 7, 0, 0, 0, 0, 0, 1, 0, 0, 9]'),\n",
       " Text(229.38192419825074, 108.72, 'entropy = 0.0\\nsamples = 7\\nvalue = [0, 0, 0, 0, 0, 0, 0, 0, 0, 0, 0, 7]'),\n",
       " Text(231.9848396501458, 108.72, 'X[502] <= 0.002\\nentropy = 0.46\\nsamples = 10\\nvalue = [0, 0, 7, 0, 0, 0, 0, 0, 1, 0, 0, 2]'),\n",
       " Text(230.68338192419827, 99.26608695652173, 'entropy = 0.0\\nsamples = 7\\nvalue = [0, 0, 7, 0, 0, 0, 0, 0, 0, 0, 0, 0]'),\n",
       " Text(233.2862973760933, 99.26608695652173, 'X[14] <= 0.4\\nentropy = 0.444\\nsamples = 3\\nvalue = [0, 0, 0, 0, 0, 0, 0, 0, 1, 0, 0, 2]'),\n",
       " Text(231.9848396501458, 89.81217391304348, 'entropy = 0.0\\nsamples = 1\\nvalue = [0, 0, 0, 0, 0, 0, 0, 0, 1, 0, 0, 0]'),\n",
       " Text(234.58775510204083, 89.81217391304348, 'entropy = 0.0\\nsamples = 2\\nvalue = [0, 0, 0, 0, 0, 0, 0, 0, 0, 0, 0, 2]'),\n",
       " Text(235.88921282798836, 118.17391304347825, 'X[196] <= 0.382\\nentropy = 0.036\\nsamples = 54\\nvalue = [0, 0, 1, 0, 0, 0, 0, 0, 0, 0, 0, 53]'),\n",
       " Text(234.58775510204083, 108.72, 'entropy = 0.0\\nsamples = 53\\nvalue = [0, 0, 0, 0, 0, 0, 0, 0, 0, 0, 0, 53]'),\n",
       " Text(237.1906705539359, 108.72, 'entropy = 0.0\\nsamples = 1\\nvalue = [0, 0, 1, 0, 0, 0, 0, 0, 0, 0, 0, 0]'),\n",
       " Text(235.88921282798836, 127.62782608695652, 'entropy = 0.0\\nsamples = 4\\nvalue = [0, 0, 4, 0, 0, 0, 0, 0, 0, 0, 0, 0]'),\n",
       " Text(257.76997084548105, 174.89739130434782, 'X[448] <= -0.967\\nentropy = 0.326\\nsamples = 1328\\nvalue = [1075, 1, 1, 0, 154, 97, 0, 0, 0, 0, 0, 0]'),\n",
       " Text(244.34868804664725, 165.44347826086957, 'X[504] <= -0.128\\nentropy = 0.589\\nsamples = 128\\nvalue = [14, 0, 0, 0, 61, 53, 0, 0, 0, 0, 0, 0]'),\n",
       " Text(241.09504373177845, 155.98956521739132, 'X[297] <= -0.675\\nentropy = 0.49\\nsamples = 77\\nvalue = [14, 0, 0, 0, 52, 11, 0, 0, 0, 0, 0, 0]'),\n",
       " Text(238.4921282798834, 146.53565217391304, 'X[0] <= 0.01\\nentropy = 0.142\\nsamples = 13\\nvalue = [12, 0, 0, 0, 0, 1, 0, 0, 0, 0, 0, 0]'),\n",
       " Text(237.1906705539359, 137.08173913043478, 'entropy = 0.0\\nsamples = 1\\nvalue = [0, 0, 0, 0, 0, 1, 0, 0, 0, 0, 0, 0]'),\n",
       " Text(239.79358600583092, 137.08173913043478, 'entropy = 0.0\\nsamples = 12\\nvalue = [12, 0, 0, 0, 0, 0, 0, 0, 0, 0, 0, 0]'),\n",
       " Text(243.69795918367348, 146.53565217391304, 'X[57] <= -0.946\\nentropy = 0.314\\nsamples = 64\\nvalue = [2, 0, 0, 0, 52, 10, 0, 0, 0, 0, 0, 0]'),\n",
       " Text(242.39650145772598, 137.08173913043478, 'entropy = 0.0\\nsamples = 8\\nvalue = [0, 0, 0, 0, 0, 8, 0, 0, 0, 0, 0, 0]'),\n",
       " Text(244.999416909621, 137.08173913043478, 'X[330] <= -0.937\\nentropy = 0.135\\nsamples = 56\\nvalue = [2, 0, 0, 0, 52, 2, 0, 0, 0, 0, 0, 0]'),\n",
       " Text(242.39650145772598, 127.62782608695652, 'X[186] <= 0.223\\nentropy = 0.625\\nsamples = 4\\nvalue = [2, 0, 0, 0, 1, 1, 0, 0, 0, 0, 0, 0]'),\n",
       " Text(241.09504373177845, 118.17391304347825, 'entropy = 0.0\\nsamples = 2\\nvalue = [2, 0, 0, 0, 0, 0, 0, 0, 0, 0, 0, 0]'),\n",
       " Text(243.69795918367348, 118.17391304347825, 'X[105] <= -0.086\\nentropy = 0.5\\nsamples = 2\\nvalue = [0, 0, 0, 0, 1, 1, 0, 0, 0, 0, 0, 0]'),\n",
       " Text(242.39650145772598, 108.72, 'entropy = 0.0\\nsamples = 1\\nvalue = [0, 0, 0, 0, 1, 0, 0, 0, 0, 0, 0, 0]'),\n",
       " Text(244.999416909621, 108.72, 'entropy = 0.0\\nsamples = 1\\nvalue = [0, 0, 0, 0, 0, 1, 0, 0, 0, 0, 0, 0]'),\n",
       " Text(247.60233236151606, 127.62782608695652, 'X[2] <= 0.035\\nentropy = 0.038\\nsamples = 52\\nvalue = [0, 0, 0, 0, 51, 1, 0, 0, 0, 0, 0, 0]'),\n",
       " Text(246.30087463556853, 118.17391304347825, 'entropy = 0.0\\nsamples = 51\\nvalue = [0, 0, 0, 0, 51, 0, 0, 0, 0, 0, 0, 0]'),\n",
       " Text(248.90379008746356, 118.17391304347825, 'entropy = 0.0\\nsamples = 1\\nvalue = [0, 0, 0, 0, 0, 1, 0, 0, 0, 0, 0, 0]'),\n",
       " Text(247.60233236151606, 155.98956521739132, 'X[41] <= -0.305\\nentropy = 0.291\\nsamples = 51\\nvalue = [0, 0, 0, 0, 9, 42, 0, 0, 0, 0, 0, 0]'),\n",
       " Text(246.30087463556853, 146.53565217391304, 'entropy = 0.0\\nsamples = 7\\nvalue = [0, 0, 0, 0, 7, 0, 0, 0, 0, 0, 0, 0]'),\n",
       " Text(248.90379008746356, 146.53565217391304, 'X[75] <= -0.707\\nentropy = 0.087\\nsamples = 44\\nvalue = [0, 0, 0, 0, 2, 42, 0, 0, 0, 0, 0, 0]'),\n",
       " Text(247.60233236151606, 137.08173913043478, 'entropy = 0.0\\nsamples = 2\\nvalue = [0, 0, 0, 0, 2, 0, 0, 0, 0, 0, 0, 0]'),\n",
       " Text(250.2052478134111, 137.08173913043478, 'entropy = 0.0\\nsamples = 42\\nvalue = [0, 0, 0, 0, 0, 42, 0, 0, 0, 0, 0, 0]'),\n",
       " Text(271.1912536443149, 165.44347826086957, 'X[222] <= -0.23\\nentropy = 0.211\\nsamples = 1200\\nvalue = [1061, 1, 1, 0, 93, 44, 0, 0, 0, 0, 0, 0]'),\n",
       " Text(259.31545189504374, 155.98956521739132, 'X[53] <= -0.273\\nentropy = 0.654\\nsamples = 125\\nvalue = [46, 1, 0, 0, 50, 28, 0, 0, 0, 0, 0, 0]'),\n",
       " Text(258.01399416909624, 146.53565217391304, 'entropy = 0.0\\nsamples = 36\\nvalue = [0, 0, 0, 0, 36, 0, 0, 0, 0, 0, 0, 0]'),\n",
       " Text(260.6169096209913, 146.53565217391304, 'X[274] <= -0.34\\nentropy = 0.609\\nsamples = 89\\nvalue = [46, 1, 0, 0, 14, 28, 0, 0, 0, 0, 0, 0]'),\n",
       " Text(255.41107871720118, 137.08173913043478, 'X[74] <= 0.653\\nentropy = 0.278\\nsamples = 51\\nvalue = [43, 1, 0, 0, 5, 2, 0, 0, 0, 0, 0, 0]'),\n",
       " Text(252.80816326530615, 127.62782608695652, 'X[538] <= -0.232\\nentropy = 0.085\\nsamples = 45\\nvalue = [43, 0, 0, 0, 0, 2, 0, 0, 0, 0, 0, 0]'),\n",
       " Text(251.50670553935862, 118.17391304347825, 'X[42] <= -0.116\\nentropy = 0.444\\nsamples = 3\\nvalue = [1, 0, 0, 0, 0, 2, 0, 0, 0, 0, 0, 0]'),\n",
       " Text(250.2052478134111, 108.72, 'entropy = 0.0\\nsamples = 1\\nvalue = [1, 0, 0, 0, 0, 0, 0, 0, 0, 0, 0, 0]'),\n",
       " Text(252.80816326530615, 108.72, 'entropy = 0.0\\nsamples = 2\\nvalue = [0, 0, 0, 0, 0, 2, 0, 0, 0, 0, 0, 0]'),\n",
       " Text(254.10962099125365, 118.17391304347825, 'entropy = 0.0\\nsamples = 42\\nvalue = [42, 0, 0, 0, 0, 0, 0, 0, 0, 0, 0, 0]'),\n",
       " Text(258.01399416909624, 127.62782608695652, 'X[316] <= -0.879\\nentropy = 0.278\\nsamples = 6\\nvalue = [0, 1, 0, 0, 5, 0, 0, 0, 0, 0, 0, 0]'),\n",
       " Text(256.7125364431487, 118.17391304347825, 'entropy = 0.0\\nsamples = 5\\nvalue = [0, 0, 0, 0, 5, 0, 0, 0, 0, 0, 0, 0]'),\n",
       " Text(259.31545189504374, 118.17391304347825, 'entropy = 0.0\\nsamples = 1\\nvalue = [0, 1, 0, 0, 0, 0, 0, 0, 0, 0, 0, 0]'),\n",
       " Text(265.82274052478135, 137.08173913043478, 'X[276] <= -0.629\\nentropy = 0.47\\nsamples = 38\\nvalue = [3, 0, 0, 0, 9, 26, 0, 0, 0, 0, 0, 0]'),\n",
       " Text(263.2198250728863, 127.62782608695652, 'X[159] <= 0.185\\nentropy = 0.19\\nsamples = 29\\nvalue = [2, 0, 0, 0, 1, 26, 0, 0, 0, 0, 0, 0]'),\n",
       " Text(261.9183673469388, 118.17391304347825, 'entropy = 0.0\\nsamples = 26\\nvalue = [0, 0, 0, 0, 0, 26, 0, 0, 0, 0, 0, 0]'),\n",
       " Text(264.52128279883385, 118.17391304347825, 'X[357] <= -0.842\\nentropy = 0.444\\nsamples = 3\\nvalue = [2, 0, 0, 0, 1, 0, 0, 0, 0, 0, 0, 0]'),\n",
       " Text(263.2198250728863, 108.72, 'entropy = 0.0\\nsamples = 1\\nvalue = [0, 0, 0, 0, 1, 0, 0, 0, 0, 0, 0, 0]'),\n",
       " Text(265.82274052478135, 108.72, 'entropy = 0.0\\nsamples = 2\\nvalue = [2, 0, 0, 0, 0, 0, 0, 0, 0, 0, 0, 0]'),\n",
       " Text(268.4256559766764, 127.62782608695652, 'X[70] <= 0.162\\nentropy = 0.198\\nsamples = 9\\nvalue = [1, 0, 0, 0, 8, 0, 0, 0, 0, 0, 0, 0]'),\n",
       " Text(267.1241982507289, 118.17391304347825, 'entropy = 0.0\\nsamples = 1\\nvalue = [1, 0, 0, 0, 0, 0, 0, 0, 0, 0, 0, 0]'),\n",
       " Text(269.7271137026239, 118.17391304347825, 'entropy = 0.0\\nsamples = 8\\nvalue = [0, 0, 0, 0, 8, 0, 0, 0, 0, 0, 0, 0]'),\n",
       " Text(283.06705539358603, 155.98956521739132, 'X[559] <= 0.299\\nentropy = 0.107\\nsamples = 1075\\nvalue = [1015, 0, 1, 0, 43, 16, 0, 0, 0, 0, 0, 0]'),\n",
       " Text(279.48804664723036, 146.53565217391304, 'X[215] <= -0.325\\nentropy = 0.052\\nsamples = 983\\nvalue = [957, 0, 1, 0, 9, 16, 0, 0, 0, 0, 0, 0]'),\n",
       " Text(276.2344023323615, 137.08173913043478, 'X[76] <= 0.789\\nentropy = 0.036\\nsamples = 975\\nvalue = [957, 0, 0, 0, 9, 9, 0, 0, 0, 0, 0, 0]'),\n",
       " Text(273.63148688046647, 127.62782608695652, 'X[37] <= -0.514\\nentropy = 0.027\\nsamples = 969\\nvalue = [956, 0, 0, 0, 4, 9, 0, 0, 0, 0, 0, 0]'),\n",
       " Text(272.33002915451897, 118.17391304347825, 'entropy = 0.0\\nsamples = 4\\nvalue = [0, 0, 0, 0, 0, 4, 0, 0, 0, 0, 0, 0]'),\n",
       " Text(274.932944606414, 118.17391304347825, 'X[90] <= -0.742\\nentropy = 0.019\\nsamples = 965\\nvalue = [956, 0, 0, 0, 4, 5, 0, 0, 0, 0, 0, 0]'),\n",
       " Text(273.63148688046647, 108.72, 'entropy = 0.0\\nsamples = 2\\nvalue = [0, 0, 0, 0, 2, 0, 0, 0, 0, 0, 0, 0]'),\n",
       " Text(276.2344023323615, 108.72, 'X[552] <= -0.748\\nentropy = 0.014\\nsamples = 963\\nvalue = [956, 0, 0, 0, 2, 5, 0, 0, 0, 0, 0, 0]'),\n",
       " Text(274.932944606414, 99.26608695652173, 'entropy = 0.0\\nsamples = 1\\nvalue = [0, 0, 0, 0, 1, 0, 0, 0, 0, 0, 0, 0]'),\n",
       " Text(277.5358600583091, 99.26608695652173, 'X[157] <= 0.441\\nentropy = 0.012\\nsamples = 962\\nvalue = [956, 0, 0, 0, 1, 5, 0, 0, 0, 0, 0, 0]'),\n",
       " Text(276.2344023323615, 89.81217391304348, 'X[556] <= 0.991\\nentropy = 0.01\\nsamples = 961\\nvalue = [956, 0, 0, 0, 0, 5, 0, 0, 0, 0, 0, 0]'),\n",
       " Text(274.932944606414, 80.35826086956521, 'X[38] <= -0.573\\nentropy = 0.008\\nsamples = 960\\nvalue = [956, 0, 0, 0, 0, 4, 0, 0, 0, 0, 0, 0]'),\n",
       " Text(273.63148688046647, 70.90434782608696, 'entropy = 0.0\\nsamples = 1\\nvalue = [0, 0, 0, 0, 0, 1, 0, 0, 0, 0, 0, 0]'),\n",
       " Text(276.2344023323615, 70.90434782608696, 'X[290] <= -0.833\\nentropy = 0.006\\nsamples = 959\\nvalue = [956, 0, 0, 0, 0, 3, 0, 0, 0, 0, 0, 0]'),\n",
       " Text(274.932944606414, 61.45043478260868, 'entropy = 0.0\\nsamples = 1\\nvalue = [0, 0, 0, 0, 0, 1, 0, 0, 0, 0, 0, 0]'),\n",
       " Text(277.5358600583091, 61.45043478260868, 'X[26] <= -0.274\\nentropy = 0.004\\nsamples = 958\\nvalue = [956, 0, 0, 0, 0, 2, 0, 0, 0, 0, 0, 0]'),\n",
       " Text(276.2344023323615, 51.99652173913043, 'entropy = 0.0\\nsamples = 1\\nvalue = [0, 0, 0, 0, 0, 1, 0, 0, 0, 0, 0, 0]'),\n",
       " Text(278.8373177842566, 51.99652173913043, 'X[142] <= 0.801\\nentropy = 0.002\\nsamples = 957\\nvalue = [956, 0, 0, 0, 0, 1, 0, 0, 0, 0, 0, 0]'),\n",
       " Text(277.5358600583091, 42.54260869565218, 'entropy = 0.0\\nsamples = 955\\nvalue = [955, 0, 0, 0, 0, 0, 0, 0, 0, 0, 0, 0]'),\n",
       " Text(280.1387755102041, 42.54260869565218, 'X[488] <= -0.94\\nentropy = 0.5\\nsamples = 2\\nvalue = [1, 0, 0, 0, 0, 1, 0, 0, 0, 0, 0, 0]'),\n",
       " Text(278.8373177842566, 33.0886956521739, 'entropy = 0.0\\nsamples = 1\\nvalue = [0, 0, 0, 0, 0, 1, 0, 0, 0, 0, 0, 0]'),\n",
       " Text(281.44023323615164, 33.0886956521739, 'entropy = 0.0\\nsamples = 1\\nvalue = [1, 0, 0, 0, 0, 0, 0, 0, 0, 0, 0, 0]'),\n",
       " Text(277.5358600583091, 80.35826086956521, 'entropy = 0.0\\nsamples = 1\\nvalue = [0, 0, 0, 0, 0, 1, 0, 0, 0, 0, 0, 0]'),\n",
       " Text(278.8373177842566, 89.81217391304348, 'entropy = 0.0\\nsamples = 1\\nvalue = [0, 0, 0, 0, 1, 0, 0, 0, 0, 0, 0, 0]'),\n",
       " Text(278.8373177842566, 127.62782608695652, 'X[215] <= -0.663\\nentropy = 0.278\\nsamples = 6\\nvalue = [1, 0, 0, 0, 5, 0, 0, 0, 0, 0, 0, 0]'),\n",
       " Text(277.5358600583091, 118.17391304347825, 'entropy = 0.0\\nsamples = 1\\nvalue = [1, 0, 0, 0, 0, 0, 0, 0, 0, 0, 0, 0]'),\n",
       " Text(280.1387755102041, 118.17391304347825, 'entropy = 0.0\\nsamples = 5\\nvalue = [0, 0, 0, 0, 5, 0, 0, 0, 0, 0, 0, 0]'),\n",
       " Text(282.74169096209914, 137.08173913043478, 'X[376] <= -0.643\\nentropy = 0.219\\nsamples = 8\\nvalue = [0, 0, 1, 0, 0, 7, 0, 0, 0, 0, 0, 0]'),\n",
       " Text(281.44023323615164, 127.62782608695652, 'entropy = 0.0\\nsamples = 7\\nvalue = [0, 0, 0, 0, 0, 7, 0, 0, 0, 0, 0, 0]'),\n",
       " Text(284.04314868804664, 127.62782608695652, 'entropy = 0.0\\nsamples = 1\\nvalue = [0, 0, 1, 0, 0, 0, 0, 0, 0, 0, 0, 0]'),\n",
       " Text(286.6460641399417, 146.53565217391304, 'X[197] <= 0.402\\nentropy = 0.466\\nsamples = 92\\nvalue = [58, 0, 0, 0, 34, 0, 0, 0, 0, 0, 0, 0]'),\n",
       " Text(285.3446064139942, 137.08173913043478, 'entropy = 0.0\\nsamples = 31\\nvalue = [0, 0, 0, 0, 31, 0, 0, 0, 0, 0, 0, 0]'),\n",
       " Text(287.94752186588926, 137.08173913043478, 'X[349] <= -0.639\\nentropy = 0.094\\nsamples = 61\\nvalue = [58, 0, 0, 0, 3, 0, 0, 0, 0, 0, 0, 0]'),\n",
       " Text(286.6460641399417, 127.62782608695652, 'entropy = 0.0\\nsamples = 3\\nvalue = [0, 0, 0, 0, 3, 0, 0, 0, 0, 0, 0, 0]'),\n",
       " Text(289.24897959183676, 127.62782608695652, 'entropy = 0.0\\nsamples = 58\\nvalue = [58, 0, 0, 0, 0, 0, 0, 0, 0, 0, 0, 0]'),\n",
       " Text(304.13440233236156, 184.3513043478261, 'X[418] <= -0.963\\nentropy = 0.263\\nsamples = 955\\nvalue = [50, 5, 0, 6, 76, 815, 0, 0, 0, 3, 0, 0]'),\n",
       " Text(294.4548104956268, 174.89739130434782, 'X[381] <= -0.529\\nentropy = 0.521\\nsamples = 68\\nvalue = [0, 4, 0, 2, 44, 16, 0, 0, 0, 2, 0, 0]'),\n",
       " Text(293.1533527696793, 165.44347826086957, 'X[92] <= 0.308\\nentropy = 0.37\\nsamples = 56\\nvalue = [0, 4, 0, 2, 44, 4, 0, 0, 0, 2, 0, 0]'),\n",
       " Text(290.55043731778426, 155.98956521739132, 'X[207] <= -0.319\\nentropy = 0.083\\nsamples = 46\\nvalue = [0, 0, 0, 0, 44, 0, 0, 0, 0, 2, 0, 0]'),\n",
       " Text(289.24897959183676, 146.53565217391304, 'entropy = 0.0\\nsamples = 44\\nvalue = [0, 0, 0, 0, 44, 0, 0, 0, 0, 0, 0, 0]'),\n",
       " Text(291.8518950437318, 146.53565217391304, 'entropy = 0.0\\nsamples = 2\\nvalue = [0, 0, 0, 0, 0, 0, 0, 0, 0, 2, 0, 0]'),\n",
       " Text(295.7562682215744, 155.98956521739132, 'X[503] <= -0.256\\nentropy = 0.64\\nsamples = 10\\nvalue = [0, 4, 0, 2, 0, 4, 0, 0, 0, 0, 0, 0]'),\n",
       " Text(294.4548104956268, 146.53565217391304, 'entropy = 0.0\\nsamples = 4\\nvalue = [0, 0, 0, 0, 0, 4, 0, 0, 0, 0, 0, 0]'),\n",
       " Text(297.0577259475219, 146.53565217391304, 'X[42] <= 0.382\\nentropy = 0.444\\nsamples = 6\\nvalue = [0, 4, 0, 2, 0, 0, 0, 0, 0, 0, 0, 0]'),\n",
       " Text(295.7562682215744, 137.08173913043478, 'entropy = 0.0\\nsamples = 2\\nvalue = [0, 0, 0, 2, 0, 0, 0, 0, 0, 0, 0, 0]'),\n",
       " Text(298.35918367346943, 137.08173913043478, 'entropy = 0.0\\nsamples = 4\\nvalue = [0, 4, 0, 0, 0, 0, 0, 0, 0, 0, 0, 0]'),\n",
       " Text(295.7562682215744, 165.44347826086957, 'entropy = 0.0\\nsamples = 12\\nvalue = [0, 0, 0, 0, 0, 12, 0, 0, 0, 0, 0, 0]'),\n",
       " Text(313.81399416909625, 174.89739130434782, 'X[503] <= -0.45\\nentropy = 0.184\\nsamples = 887\\nvalue = [50, 1, 0, 4, 32, 799, 0, 0, 0, 1, 0, 0]'),\n",
       " Text(303.5650145772595, 165.44347826086957, 'X[473] <= -0.874\\nentropy = 0.58\\nsamples = 63\\nvalue = [35, 0, 0, 0, 9, 19, 0, 0, 0, 0, 0, 0]'),\n",
       " Text(300.96209912536443, 155.98956521739132, 'X[102] <= 0.693\\nentropy = 0.469\\nsamples = 24\\nvalue = [1, 0, 0, 0, 7, 16, 0, 0, 0, 0, 0, 0]'),\n",
       " Text(299.66064139941693, 146.53565217391304, 'entropy = 0.0\\nsamples = 15\\nvalue = [0, 0, 0, 0, 0, 15, 0, 0, 0, 0, 0, 0]'),\n",
       " Text(302.263556851312, 146.53565217391304, 'X[300] <= -0.426\\nentropy = 0.37\\nsamples = 9\\nvalue = [1, 0, 0, 0, 7, 1, 0, 0, 0, 0, 0, 0]'),\n",
       " Text(300.96209912536443, 137.08173913043478, 'X[324] <= -0.751\\nentropy = 0.5\\nsamples = 2\\nvalue = [1, 0, 0, 0, 0, 1, 0, 0, 0, 0, 0, 0]'),\n",
       " Text(299.66064139941693, 127.62782608695652, 'entropy = 0.0\\nsamples = 1\\nvalue = [1, 0, 0, 0, 0, 0, 0, 0, 0, 0, 0, 0]'),\n",
       " Text(302.263556851312, 127.62782608695652, 'entropy = 0.0\\nsamples = 1\\nvalue = [0, 0, 0, 0, 0, 1, 0, 0, 0, 0, 0, 0]'),\n",
       " Text(303.5650145772595, 137.08173913043478, 'entropy = 0.0\\nsamples = 7\\nvalue = [0, 0, 0, 0, 7, 0, 0, 0, 0, 0, 0, 0]'),\n",
       " Text(306.16793002915455, 155.98956521739132, 'X[316] <= -0.811\\nentropy = 0.231\\nsamples = 39\\nvalue = [34, 0, 0, 0, 2, 3, 0, 0, 0, 0, 0, 0]'),\n",
       " Text(304.86647230320705, 146.53565217391304, 'entropy = 0.0\\nsamples = 33\\nvalue = [33, 0, 0, 0, 0, 0, 0, 0, 0, 0, 0, 0]'),\n",
       " Text(307.46938775510205, 146.53565217391304, 'X[289] <= 0.509\\nentropy = 0.611\\nsamples = 6\\nvalue = [1, 0, 0, 0, 2, 3, 0, 0, 0, 0, 0, 0]'),\n",
       " Text(306.16793002915455, 137.08173913043478, 'X[251] <= -0.277\\nentropy = 0.444\\nsamples = 3\\nvalue = [1, 0, 0, 0, 2, 0, 0, 0, 0, 0, 0, 0]'),\n",
       " Text(304.86647230320705, 127.62782608695652, 'entropy = 0.0\\nsamples = 1\\nvalue = [1, 0, 0, 0, 0, 0, 0, 0, 0, 0, 0, 0]'),\n",
       " Text(307.46938775510205, 127.62782608695652, 'entropy = 0.0\\nsamples = 2\\nvalue = [0, 0, 0, 0, 2, 0, 0, 0, 0, 0, 0, 0]'),\n",
       " Text(308.7708454810496, 137.08173913043478, 'entropy = 0.0\\nsamples = 3\\nvalue = [0, 0, 0, 0, 0, 3, 0, 0, 0, 0, 0, 0]'),\n",
       " Text(324.06297376093295, 165.44347826086957, 'X[102] <= 0.719\\nentropy = 0.103\\nsamples = 824\\nvalue = [15, 1, 0, 4, 23, 780, 0, 0, 0, 1, 0, 0]'),\n",
       " Text(317.2303206997085, 155.98956521739132, 'X[59] <= -0.766\\nentropy = 0.047\\nsamples = 757\\nvalue = [5, 1, 0, 4, 7, 739, 0, 0, 0, 1, 0, 0]'),\n",
       " Text(313.97667638483966, 146.53565217391304, 'X[159] <= 0.218\\nentropy = 0.032\\nsamples = 751\\nvalue = [5, 0, 0, 0, 7, 739, 0, 0, 0, 0, 0, 0]'),\n",
       " Text(311.3737609329446, 137.08173913043478, 'X[180] <= -0.814\\nentropy = 0.011\\nsamples = 729\\nvalue = [0, 0, 0, 0, 4, 725, 0, 0, 0, 0, 0, 0]'),\n",
       " Text(310.0723032069971, 127.62782608695652, 'entropy = 0.0\\nsamples = 1\\nvalue = [0, 0, 0, 0, 1, 0, 0, 0, 0, 0, 0, 0]'),\n",
       " Text(312.67521865889216, 127.62782608695652, 'X[420] <= -0.988\\nentropy = 0.008\\nsamples = 728\\nvalue = [0, 0, 0, 0, 3, 725, 0, 0, 0, 0, 0, 0]'),\n",
       " Text(311.3737609329446, 118.17391304347825, 'entropy = 0.0\\nsamples = 1\\nvalue = [0, 0, 0, 0, 1, 0, 0, 0, 0, 0, 0, 0]'),\n",
       " Text(313.97667638483966, 118.17391304347825, 'X[446] <= 0.377\\nentropy = 0.005\\nsamples = 727\\nvalue = [0, 0, 0, 0, 2, 725, 0, 0, 0, 0, 0, 0]'),\n",
       " Text(311.3737609329446, 108.72, 'X[471] <= -0.977\\nentropy = 0.5\\nsamples = 2\\nvalue = [0, 0, 0, 0, 1, 1, 0, 0, 0, 0, 0, 0]'),\n",
       " Text(310.0723032069971, 99.26608695652173, 'entropy = 0.0\\nsamples = 1\\nvalue = [0, 0, 0, 0, 1, 0, 0, 0, 0, 0, 0, 0]'),\n",
       " Text(312.67521865889216, 99.26608695652173, 'entropy = 0.0\\nsamples = 1\\nvalue = [0, 0, 0, 0, 0, 1, 0, 0, 0, 0, 0, 0]'),\n",
       " Text(316.5795918367347, 108.72, 'X[41] <= -0.385\\nentropy = 0.003\\nsamples = 725\\nvalue = [0, 0, 0, 0, 1, 724, 0, 0, 0, 0, 0, 0]'),\n",
       " Text(315.2781341107872, 99.26608695652173, 'X[386] <= -0.737\\nentropy = 0.5\\nsamples = 2\\nvalue = [0, 0, 0, 0, 1, 1, 0, 0, 0, 0, 0, 0]'),\n",
       " Text(313.97667638483966, 89.81217391304348, 'entropy = 0.0\\nsamples = 1\\nvalue = [0, 0, 0, 0, 1, 0, 0, 0, 0, 0, 0, 0]'),\n",
       " Text(316.5795918367347, 89.81217391304348, 'entropy = 0.0\\nsamples = 1\\nvalue = [0, 0, 0, 0, 0, 1, 0, 0, 0, 0, 0, 0]'),\n",
       " Text(317.8810495626822, 99.26608695652173, 'entropy = 0.0\\nsamples = 723\\nvalue = [0, 0, 0, 0, 0, 723, 0, 0, 0, 0, 0, 0]'),\n",
       " Text(316.5795918367347, 137.08173913043478, 'X[23] <= 0.128\\nentropy = 0.525\\nsamples = 22\\nvalue = [5, 0, 0, 0, 3, 14, 0, 0, 0, 0, 0, 0]'),\n",
       " Text(315.2781341107872, 127.62782608695652, 'entropy = 0.0\\nsamples = 5\\nvalue = [5, 0, 0, 0, 0, 0, 0, 0, 0, 0, 0, 0]'),\n",
       " Text(317.8810495626822, 127.62782608695652, 'X[518] <= -0.377\\nentropy = 0.291\\nsamples = 17\\nvalue = [0, 0, 0, 0, 3, 14, 0, 0, 0, 0, 0, 0]'),\n",
       " Text(316.5795918367347, 118.17391304347825, 'entropy = 0.0\\nsamples = 3\\nvalue = [0, 0, 0, 0, 3, 0, 0, 0, 0, 0, 0, 0]'),\n",
       " Text(319.1825072886298, 118.17391304347825, 'entropy = 0.0\\nsamples = 14\\nvalue = [0, 0, 0, 0, 0, 14, 0, 0, 0, 0, 0, 0]'),\n",
       " Text(320.4839650145773, 146.53565217391304, 'X[128] <= 0.149\\nentropy = 0.5\\nsamples = 6\\nvalue = [0, 1, 0, 4, 0, 0, 0, 0, 0, 1, 0, 0]'),\n",
       " Text(319.1825072886298, 137.08173913043478, 'entropy = 0.0\\nsamples = 4\\nvalue = [0, 0, 0, 4, 0, 0, 0, 0, 0, 0, 0, 0]'),\n",
       " Text(321.7854227405248, 137.08173913043478, 'X[324] <= -0.048\\nentropy = 0.5\\nsamples = 2\\nvalue = [0, 1, 0, 0, 0, 0, 0, 0, 0, 1, 0, 0]'),\n",
       " Text(320.4839650145773, 127.62782608695652, 'entropy = 0.0\\nsamples = 1\\nvalue = [0, 1, 0, 0, 0, 0, 0, 0, 0, 0, 0, 0]'),\n",
       " Text(323.08688046647234, 127.62782608695652, 'entropy = 0.0\\nsamples = 1\\nvalue = [0, 0, 0, 0, 0, 0, 0, 0, 0, 1, 0, 0]'),\n",
       " Text(330.89562682215745, 155.98956521739132, 'X[559] <= 0.291\\nentropy = 0.546\\nsamples = 67\\nvalue = [10, 0, 0, 0, 16, 41, 0, 0, 0, 0, 0, 0]'),\n",
       " Text(329.59416909620995, 146.53565217391304, 'X[198] <= 0.482\\nentropy = 0.365\\nsamples = 53\\nvalue = [10, 0, 0, 0, 2, 41, 0, 0, 0, 0, 0, 0]'),\n",
       " Text(326.9912536443149, 137.08173913043478, 'X[215] <= -0.336\\nentropy = 0.135\\nsamples = 42\\nvalue = [1, 0, 0, 0, 2, 39, 0, 0, 0, 0, 0, 0]'),\n",
       " Text(325.6897959183674, 127.62782608695652, 'entropy = 0.0\\nsamples = 2\\nvalue = [0, 0, 0, 0, 2, 0, 0, 0, 0, 0, 0, 0]'),\n",
       " Text(328.2927113702624, 127.62782608695652, 'X[423] <= 0.891\\nentropy = 0.049\\nsamples = 40\\nvalue = [1, 0, 0, 0, 0, 39, 0, 0, 0, 0, 0, 0]'),\n",
       " Text(326.9912536443149, 118.17391304347825, 'entropy = 0.0\\nsamples = 39\\nvalue = [0, 0, 0, 0, 0, 39, 0, 0, 0, 0, 0, 0]'),\n",
       " Text(329.59416909620995, 118.17391304347825, 'entropy = 0.0\\nsamples = 1\\nvalue = [1, 0, 0, 0, 0, 0, 0, 0, 0, 0, 0, 0]'),\n",
       " Text(332.19708454810495, 137.08173913043478, 'X[122] <= -0.028\\nentropy = 0.298\\nsamples = 11\\nvalue = [9, 0, 0, 0, 0, 2, 0, 0, 0, 0, 0, 0]'),\n",
       " Text(330.89562682215745, 127.62782608695652, 'entropy = 0.0\\nsamples = 9\\nvalue = [9, 0, 0, 0, 0, 0, 0, 0, 0, 0, 0, 0]'),\n",
       " Text(333.4985422740525, 127.62782608695652, 'entropy = 0.0\\nsamples = 2\\nvalue = [0, 0, 0, 0, 0, 2, 0, 0, 0, 0, 0, 0]'),\n",
       " Text(332.19708454810495, 146.53565217391304, 'entropy = 0.0\\nsamples = 14\\nvalue = [0, 0, 0, 0, 14, 0, 0, 0, 0, 0, 0, 0]')]"
      ]
     },
     "execution_count": 13,
     "metadata": {},
     "output_type": "execute_result"
    },
    {
     "data": {
      "image/png": "[encoded data removed]",
      "text/plain": [
       "<Figure size 432x288 with 1 Axes>"
      ]
     },
     "metadata": {},
     "output_type": "display_data"
    }
   ],
   "source": [
    "tree.plot_tree(classifier)"
   ]
  },
  {
   "cell_type": "markdown",
   "metadata": {},
   "source": [
    "### 4. Classification avec RandomForest"
   ]
  },
  {
   "cell_type": "code",
   "execution_count": 14,
   "metadata": {},
   "outputs": [],
   "source": [
    "RFC = RandomForestClassifier()\n",
    "RFC_classification = RFC.fit(x_train,y_train)\n",
    "RFC_pred = RFC_classification.predict(x_test)"
   ]
  },
  {
   "cell_type": "code",
   "execution_count": 15,
   "metadata": {},
   "outputs": [
    {
     "data": {
      "image/png": "[encoded data removed]",
      "text/plain": [
       "<Figure size 432x288 with 2 Axes>"
      ]
     },
     "metadata": {},
     "output_type": "display_data"
    },
    {
     "name": "stdout",
     "output_type": "stream",
     "text": [
      "              precision    recall  f1-score   support\n",
      "\n",
      "           1       0.81      0.94      0.87       496\n",
      "          10       0.62      0.72      0.67        25\n",
      "          11       0.68      0.61      0.65        49\n",
      "          12       0.60      0.44      0.51        27\n",
      "           2       0.84      0.83      0.83       471\n",
      "           3       0.95      0.80      0.87       420\n",
      "           4       0.89      0.90      0.90       508\n",
      "           5       0.91      0.91      0.91       556\n",
      "           6       1.00      1.00      1.00       545\n",
      "           7       0.81      0.57      0.67        23\n",
      "           8       0.67      0.60      0.63        10\n",
      "           9       0.72      0.72      0.72        32\n",
      "\n",
      "    accuracy                           0.89      3162\n",
      "   macro avg       0.79      0.75      0.77      3162\n",
      "weighted avg       0.89      0.89      0.89      3162\n",
      "\n"
     ]
    }
   ],
   "source": [
    "sn.heatmap(confusion_matrix(y_test, RFC_pred), annot=True, annot_kws={\"size\": 12}, cmap = plt.cm.Greens, fmt='g') \n",
    "sn.set(font_scale = 1.2) \n",
    "plt.show()\n",
    "print(classification_report(y_test,RFC_pred))"
   ]
  },
  {
   "cell_type": "code",
   "execution_count": 16,
   "metadata": {},
   "outputs": [
    {
     "data": {
      "text/plain": [
       "<matplotlib.collections.PathCollection at 0x17e3eec4be0>"
      ]
     },
     "execution_count": 16,
     "metadata": {},
     "output_type": "execute_result"
    },
    {
     "data": {
      "image/png": "[encoded data removed]",
      "text/plain": [
       "<Figure size 432x288 with 1 Axes>"
      ]
     },
     "metadata": {},
     "output_type": "display_data"
    }
   ],
   "source": [
    "#prediction against true values\n",
    "plt.scatter(x=y_test, y=RFC_classification.predict(x_test))"
   ]
  },
  {
   "cell_type": "code",
   "execution_count": 17,
   "metadata": {},
   "outputs": [
    {
     "name": "stdout",
     "output_type": "stream",
     "text": [
      "0.8864642631246047\n"
     ]
    }
   ],
   "source": [
    "RFC_score = RFC_classification.score(x_test,y_test)\n",
    "print(RFC_score)"
   ]
  },
  {
   "cell_type": "markdown",
   "metadata": {},
   "source": [
    "### 5. Classification avec LinearSVM"
   ]
  },
  {
   "cell_type": "code",
   "execution_count": 18,
   "metadata": {},
   "outputs": [],
   "source": [
    "lsvm = svm.SVC(kernel='linear')\n",
    "lsvm_clf = lsvm.fit(x_train,y_train)\n",
    "lsvm_pred = lsvm_clf.predict(x_test)"
   ]
  },
  {
   "cell_type": "code",
   "execution_count": 19,
   "metadata": {},
   "outputs": [
    {
     "data": {
      "image/png": "[encoded data removed]",
      "text/plain": [
       "<Figure size 432x288 with 2 Axes>"
      ]
     },
     "metadata": {},
     "output_type": "display_data"
    },
    {
     "name": "stdout",
     "output_type": "stream",
     "text": [
      "              precision    recall  f1-score   support\n",
      "\n",
      "           1       0.96      0.99      0.98       496\n",
      "          10       0.72      0.72      0.72        25\n",
      "          11       0.69      0.67      0.68        49\n",
      "          12       0.72      0.67      0.69        27\n",
      "           2       0.98      0.97      0.97       471\n",
      "           3       0.99      0.98      0.98       420\n",
      "           4       0.96      0.89      0.92       508\n",
      "           5       0.91      0.97      0.94       556\n",
      "           6       1.00      1.00      1.00       545\n",
      "           7       1.00      0.78      0.88        23\n",
      "           8       0.91      1.00      0.95        10\n",
      "           9       0.58      0.66      0.62        32\n",
      "\n",
      "    accuracy                           0.95      3162\n",
      "   macro avg       0.87      0.86      0.86      3162\n",
      "weighted avg       0.95      0.95      0.95      3162\n",
      "\n"
     ]
    }
   ],
   "source": [
    "sn.heatmap(confusion_matrix(y_test, lsvm_pred), annot=True, annot_kws={\"size\": 12}, cmap = plt.cm.Blues, fmt='g') \n",
    "sn.set(font_scale = 1.2) \n",
    "plt.show()\n",
    "print(classification_report(y_test,lsvm_pred))"
   ]
  },
  {
   "cell_type": "code",
   "execution_count": 20,
   "metadata": {},
   "outputs": [
    {
     "data": {
      "text/plain": [
       "<matplotlib.collections.PathCollection at 0x17e3f35fc88>"
      ]
     },
     "execution_count": 20,
     "metadata": {},
     "output_type": "execute_result"
    },
    {
     "data": {
      "image/png": "[encoded data removed]",
      "text/plain": [
       "<Figure size 432x288 with 1 Axes>"
      ]
     },
     "metadata": {},
     "output_type": "display_data"
    }
   ],
   "source": [
    "#prediction against true values\n",
    "plt.scatter(x=y_test, y=lsvm_clf.predict(x_test))"
   ]
  },
  {
   "cell_type": "code",
   "execution_count": 21,
   "metadata": {},
   "outputs": [
    {
     "name": "stdout",
     "output_type": "stream",
     "text": [
      "0.9522454142947502\n"
     ]
    }
   ],
   "source": [
    "linearSVM_score = lsvm_clf.score(x_test, y_test)\n",
    "print(linearSVM_score)"
   ]
  },
  {
   "cell_type": "markdown",
   "metadata": {},
   "source": [
    "### 6. Classification avec KNN"
   ]
  },
  {
   "cell_type": "code",
   "execution_count": 22,
   "metadata": {},
   "outputs": [],
   "source": [
    "neigh = KNeighborsClassifier(n_neighbors=3)\n",
    "neigh.fit(x_train, y_train)\n",
    "neigh_predict = neigh.predict(x_test)"
   ]
  },
  {
   "cell_type": "code",
   "execution_count": 23,
   "metadata": {},
   "outputs": [
    {
     "data": {
      "image/png": "[encoded data removed]",
      "text/plain": [
       "<Figure size 432x288 with 2 Axes>"
      ]
     },
     "metadata": {},
     "output_type": "display_data"
    },
    {
     "name": "stdout",
     "output_type": "stream",
     "text": [
      "              precision    recall  f1-score   support\n",
      "\n",
      "           1       0.84      0.98      0.91       496\n",
      "          10       0.64      0.84      0.72        25\n",
      "          11       0.73      0.55      0.63        49\n",
      "          12       0.79      0.41      0.54        27\n",
      "           2       0.87      0.90      0.88       471\n",
      "           3       0.94      0.77      0.85       420\n",
      "           4       0.86      0.78      0.82       508\n",
      "           5       0.82      0.88      0.85       556\n",
      "           6       1.00      0.99      1.00       545\n",
      "           7       0.94      0.70      0.80        23\n",
      "           8       1.00      0.90      0.95        10\n",
      "           9       0.61      0.84      0.71        32\n",
      "\n",
      "    accuracy                           0.88      3162\n",
      "   macro avg       0.84      0.79      0.80      3162\n",
      "weighted avg       0.88      0.88      0.87      3162\n",
      "\n"
     ]
    }
   ],
   "source": [
    "sn.heatmap(confusion_matrix(y_test, neigh_predict), annot=True, annot_kws={\"size\": 12}, cmap = plt.cm.BuPu, fmt='g') \n",
    "sn.set(font_scale = 1.2) \n",
    "plt.show()\n",
    "print(classification_report(y_test,neigh_predict))"
   ]
  },
  {
   "cell_type": "code",
   "execution_count": 24,
   "metadata": {},
   "outputs": [
    {
     "data": {
      "text/plain": [
       "<matplotlib.collections.PathCollection at 0x17e3eb82eb8>"
      ]
     },
     "execution_count": 24,
     "metadata": {},
     "output_type": "execute_result"
    },
    {
     "data": {
      "image/png": "[encoded data removed]",
      "text/plain": [
       "<Figure size 432x288 with 1 Axes>"
      ]
     },
     "metadata": {},
     "output_type": "display_data"
    }
   ],
   "source": [
    "#prediction against true values\n",
    "plt.scatter(x=y_test, y=neigh.predict(x_test))"
   ]
  },
  {
   "cell_type": "code",
   "execution_count": 25,
   "metadata": {},
   "outputs": [
    {
     "data": {
      "text/plain": [
       "0.8760278304870335"
      ]
     },
     "execution_count": 25,
     "metadata": {},
     "output_type": "execute_result"
    }
   ],
   "source": [
    "knn_score = neigh.score(x_test,y_test)\n",
    "knn_score"
   ]
  },
  {
   "cell_type": "markdown",
   "metadata": {},
   "source": [
    "### 7. Comparatifs résultats"
   ]
  },
  {
   "cell_type": "code",
   "execution_count": 26,
   "metadata": {},
   "outputs": [
    {
     "data": {
      "image/png": "[encoded data removed]",
      "text/plain": [
       "<Figure size 432x288 with 1 Axes>"
      ]
     },
     "metadata": {},
     "output_type": "display_data"
    }
   ],
   "source": [
    "scores = [dtc_score, RFC_score, linearSVM_score, knn_score]\n",
    "names  = [\"DTC\",\"RFC\",\"LinearSVM\", \"KNN\"]\n",
    "fig    = plt.figure()\n",
    "axis   = fig.add_axes([0,0,1,1])\n",
    "\n",
    "\n",
    "axis.set_title(\"Comparatifs des précisions\")\n",
    "axis.bar(names, scores, color = (0.5,0.3,1,0.6), width=0.4)\n",
    "plt.show()"
   ]
  },
  {
   "cell_type": "markdown",
   "metadata": {},
   "source": [
    "----\n",
    "### 8. Data preprocessing\n",
    "\n",
    "*Lors de mes explications, le terme colonne équivaut au terme \"feature\"*"
   ]
  },
  {
   "cell_type": "markdown",
   "metadata": {},
   "source": [
    "**Ci-dessous, on va \"nettoyer\" le dataset pour ne conserver qu'une partie des colonnes, celles avec les variances les plus élevées.**"
   ]
  },
  {
   "cell_type": "markdown",
   "metadata": {},
   "source": [
    "Bien que le code ci dessous puisse paraître un peu barbare, il n'est pas si compliqué :\n",
    "\n",
    "\n",
    "L'objectif de la boucle \"for\" est de tester chaque modèle (DTC, RFC, SVM) selon un dataframe (train) de plus en plus petit, en effet nous allons calculer la variance de chaque colonne du dataframe et supprimer celles dont la variance est proche de zéro. Nous pourrons donc déterminer par la suite, le nombre de colonnes que l'on peut conserver pour que chaque modèle puisse être effectif, malgré un dataframe plus léger.\n",
    "\n",
    "*Ce processus pourrait être très utile d'un point de vue algorythmique pour réduire les coûts au niveau du temps de compilation ainsi que de stockage (plus le dataframe est petit, plus il est léger et donc moins de cout de stockage au niveau des bdd ou serveurs).*"
   ]
  },
  {
   "cell_type": "markdown",
   "metadata": {},
   "source": [
    "----\n",
    "\n",
    "**LOADING DATA ...**\n",
    "\n",
    "----"
   ]
  },
  {
   "cell_type": "code",
   "execution_count": 27,
   "metadata": {},
   "outputs": [],
   "source": [
    "array_scores_DTC = []\n",
    "array_scores_RFC = []\n",
    "array_scores_SVM = []\n",
    "array_scores_KNN = []\n",
    "nb_columns       = []\n",
    "\n",
    "seuil_variance = 0.00\n",
    "for i in range(0, 7, 1):\n",
    "    \n",
    "    variance_list = data_train.var() < seuil_variance\n",
    "    \n",
    "    low_var = []\n",
    "    for i in range(len(variance_list)):\n",
    "        if variance_list[i] == True:\n",
    "            low_var.append(i)\n",
    "            \n",
    "    data_train_bis = data_train\n",
    "    data_test_bis  = data_test\n",
    "\n",
    "    data_train_bis = data_train_bis.drop(columns=low_var)\n",
    "    data_test_bis  = data_test_bis.drop(columns=low_var)\n",
    "    \n",
    "    x_train_bis = data_train_bis.drop('Class', axis=1)\n",
    "    y_train_bis = data_train_bis['Class']\n",
    "    x_test_bis  = data_test_bis.drop('Class', axis=1)\n",
    "    y_test_bis  = data_test_bis['Class']\n",
    "    \n",
    "    #ci dessous, calcul du score DTC avec le \"nouveau\" dataframe\n",
    "    classifier_bis = DecisionTreeClassifier()\n",
    "    classifier_bis.fit(x_train_bis, y_train_bis)\n",
    "    y_pred_bis = classifier_bis.predict(x_test_bis)\n",
    "    dtc_score_bis = classifier_bis.score(x_test_bis,y_test_bis)\n",
    "    \n",
    "    #ci dessous, calcul du score RFC avec le \"nouveau\" dataframe\n",
    "    RFC_bis = RandomForestClassifier()\n",
    "    RFC_classification_bis = RFC_bis.fit(x_train_bis,y_train_bis)\n",
    "    RFC_pred_bis = RFC_classification_bis.predict(x_test_bis)\n",
    "    RFC_score_bis = RFC_classification_bis.score(x_test_bis,y_test_bis)\n",
    "    \n",
    "    #ci dessous, calcul du score SVM avec le \"nouveau\" dataframe\n",
    "    lsvm_bis = svm.SVC(kernel='linear')\n",
    "    lsvm_clf_bis = lsvm_bis.fit(x_train_bis,y_train_bis)\n",
    "    lsvm_pred_bis = lsvm_clf_bis.predict(x_test_bis)\n",
    "    linearSVM_score_bis = lsvm_clf_bis.score(x_test_bis, y_test_bis)\n",
    "    \n",
    "    #ci dessous, calcul du score KNN avec le \"nouveau\" dataframe\n",
    "    knn_bis = KNeighborsClassifier(n_neighbors=3)\n",
    "    knn_bis = knn_bis.fit(x_train_bis,y_train_bis)\n",
    "    knn__predict_bis = knn_bis.predict(x_test_bis)\n",
    "    knn_score_bis = knn_bis.score(x_test_bis, y_test_bis)\n",
    "    \n",
    "    nb_columns.append(len(data_test_bis.columns))\n",
    "    array_scores_DTC.append(dtc_score_bis)\n",
    "    array_scores_RFC.append(RFC_score_bis)\n",
    "    array_scores_SVM.append(linearSVM_score_bis)\n",
    "    array_scores_KNN.append(knn_score_bis)\n",
    "    \n",
    "    seuil_variance = seuil_variance + 0.05"
   ]
  },
  {
   "cell_type": "code",
   "execution_count": 28,
   "metadata": {
    "scrolled": false
   },
   "outputs": [
    {
     "data": {
      "image/png": "[encoded data removed]",
      "text/plain": [
       "<Figure size 432x288 with 1 Axes>"
      ]
     },
     "metadata": {},
     "output_type": "display_data"
    }
   ],
   "source": [
    "plt.plot(nb_columns, array_scores_DTC, label=\"DecisionTree\", color=\"red\")\n",
    "plt.plot(nb_columns, array_scores_RFC, label=\"RandomForest\", color=\"green\")\n",
    "plt.plot(nb_columns, array_scores_SVM, label=\"SVM\", color=\"blue\")\n",
    "plt.plot(nb_columns, array_scores_KNN, label=\"KNN\", color=\"purple\")\n",
    "plt.legend()\n",
    "plt.xlabel(\"Nb of columns\")\n",
    "plt.ylabel(\"Accuracies\")\n",
    "plt.title(\"Précision des modèles selon le nombre de colonnes conservées\")\n",
    "plt.show()"
   ]
  },
  {
   "cell_type": "markdown",
   "metadata": {},
   "source": [
    "#### SVM :\n",
    "On aperçoit via le graphique ci dessus que le modèle SVM est très précis dès 175 colonnes et qu'il ne gagne que très peu de précision entre 175 et 560 colonnes"
   ]
  },
  {
   "cell_type": "markdown",
   "metadata": {},
   "source": [
    "#### RandomForest :\n",
    "On aperçoit que le modèle RFC ne gagne que peu de précision et de manière très linéaire de 100 colonnes à 560. On pourrait donc décider de conserver uniquement les 100 colonnes avec les variances les plus élevées si on ne tient pas à ces 3% de précision qu'il gagne avec 560 colonnes"
   ]
  },
  {
   "cell_type": "markdown",
   "metadata": {},
   "source": [
    "#### DecisionTree :\n",
    "Le modèle DTC connait une précision vers 100 colonnes, qu'il n'améliore que peu lorqu'il possède plus de colonnes."
   ]
  },
  {
   "cell_type": "markdown",
   "metadata": {},
   "source": [
    "#### K- Nearest Neighbors :\n",
    "La singularité du résultat obtenu pour le modèle KNN est logique, en effet il est normal que plus le dataset contienne de valeurs, plus un algorythme de classification prenant en compte les n voisins les plus proches sera précis. Ce modèle est celui qui croît le plus lors (ou diminue le plus) selon le nombre de features conservées."
   ]
  },
  {
   "cell_type": "markdown",
   "metadata": {},
   "source": [
    "### 9.Grid search"
   ]
  },
  {
   "cell_type": "markdown",
   "metadata": {},
   "source": [
    "*La cellule ci-dessous prends beaucoup de temps à compiluer suite au \"grid.fit(...)\"*"
   ]
  },
  {
   "cell_type": "code",
   "execution_count": 29,
   "metadata": {},
   "outputs": [
    {
     "name": "stdout",
     "output_type": "stream",
     "text": [
      "Fitting 10 folds for each of 9 candidates, totalling 90 fits\n"
     ]
    },
    {
     "name": "stderr",
     "output_type": "stream",
     "text": [
      "[Parallel(n_jobs=-1)]: Using backend LokyBackend with 8 concurrent workers.\n",
      "[Parallel(n_jobs=-1)]: Done  25 tasks      | elapsed: 10.5min\n",
      "[Parallel(n_jobs=-1)]: Done  90 out of  90 | elapsed: 44.1min finished\n"
     ]
    },
    {
     "data": {
      "text/plain": [
       "<bound method BaseSearchCV.score of GridSearchCV(cv=10, error_score='raise-deprecating',\n",
       "             estimator=SVC(C=1.0, cache_size=200, class_weight=None, coef0=0.0,\n",
       "                           decision_function_shape='ovr', degree=3,\n",
       "                           gamma='auto_deprecated', kernel='rbf', max_iter=-1,\n",
       "                           probability=False, random_state=None, shrinking=True,\n",
       "                           tol=0.001, verbose=False),\n",
       "             iid='warn', n_jobs=-1,\n",
       "             param_grid={'C': [0.5, 1, 1.5], 'gamma': [0.5, 0.1, 0.15]},\n",
       "             pre_dispatch='2*n_jobs', refit=True, return_train_score=False,\n",
       "             scoring=None, verbose=2)>"
      ]
     },
     "execution_count": 29,
     "metadata": {},
     "output_type": "execute_result"
    }
   ],
   "source": [
    "hyperparametres_possibles = {\n",
    "    'C'     : [0.5, 1, 1.5],\n",
    "    'gamma' :[0.5, 0.1, 0.15]\n",
    "}\n",
    "grid = GridSearchCV(estimator=svm.SVC(), \n",
    "                                param_grid=hyperparametres_possibles, \n",
    "                                n_jobs=-1, cv=10, verbose=2)\n",
    "\n",
    "grid.fit(x_train, y_train)\n",
    "grid.score"
   ]
  },
  {
   "cell_type": "code",
   "execution_count": 30,
   "metadata": {},
   "outputs": [
    {
     "data": {
      "text/plain": [
       "['__abstractmethods__',\n",
       " '__class__',\n",
       " '__delattr__',\n",
       " '__dict__',\n",
       " '__dir__',\n",
       " '__doc__',\n",
       " '__eq__',\n",
       " '__format__',\n",
       " '__ge__',\n",
       " '__getattribute__',\n",
       " '__getstate__',\n",
       " '__gt__',\n",
       " '__hash__',\n",
       " '__init__',\n",
       " '__init_subclass__',\n",
       " '__le__',\n",
       " '__lt__',\n",
       " '__module__',\n",
       " '__ne__',\n",
       " '__new__',\n",
       " '__reduce__',\n",
       " '__reduce_ex__',\n",
       " '__repr__',\n",
       " '__setattr__',\n",
       " '__setstate__',\n",
       " '__sizeof__',\n",
       " '__str__',\n",
       " '__subclasshook__',\n",
       " '__weakref__',\n",
       " '_abc_impl',\n",
       " '_check_is_fitted',\n",
       " '_estimator_type',\n",
       " '_format_results',\n",
       " '_get_param_names',\n",
       " '_get_tags',\n",
       " '_required_parameters',\n",
       " '_run_search',\n",
       " 'best_estimator_',\n",
       " 'best_index_',\n",
       " 'best_params_',\n",
       " 'best_score_',\n",
       " 'classes_',\n",
       " 'cv',\n",
       " 'cv_results_',\n",
       " 'decision_function',\n",
       " 'error_score',\n",
       " 'estimator',\n",
       " 'fit',\n",
       " 'get_params',\n",
       " 'iid',\n",
       " 'inverse_transform',\n",
       " 'multimetric_',\n",
       " 'n_jobs',\n",
       " 'n_splits_',\n",
       " 'param_grid',\n",
       " 'pre_dispatch',\n",
       " 'predict',\n",
       " 'predict_log_proba',\n",
       " 'predict_proba',\n",
       " 'refit',\n",
       " 'refit_time_',\n",
       " 'return_train_score',\n",
       " 'score',\n",
       " 'scorer_',\n",
       " 'scoring',\n",
       " 'set_params',\n",
       " 'transform',\n",
       " 'verbose']"
      ]
     },
     "execution_count": 30,
     "metadata": {},
     "output_type": "execute_result"
    }
   ],
   "source": [
    "dir(grid)"
   ]
  },
  {
   "cell_type": "code",
   "execution_count": 31,
   "metadata": {},
   "outputs": [
    {
     "data": {
      "text/plain": [
       "0.9975537530578087"
      ]
     },
     "execution_count": 31,
     "metadata": {},
     "output_type": "execute_result"
    }
   ],
   "source": [
    "hyperparametres_possibles = {\n",
    "    'C'     : [ 10, 15, 20],\n",
    "    'gamma' :[0.01, 0.05, 1]\n",
    "}\n",
    "grid = GridSearchCV(estimator=svm.SVC(), \n",
    "                                param_grid=hyperparametres_possibles, \n",
    "                                n_jobs=-1)\n",
    "grid.fit(x_train, y_train)\n",
    "grid.score(x_train, y_train)"
   ]
  },
  {
   "cell_type": "markdown",
   "metadata": {},
   "source": [
    "**On obtient suite à la GridSearch un score de prédiction de 98% environ !**<br>\n",
    "**En jouant avec les hyperparamètres on peut donc obtenir de meilleurs résultats**"
   ]
  }
 ],
 "metadata": {
  "kernelspec": {
   "display_name": "Python 3",
   "language": "python",
   "name": "python3"
  },
  "language_info": {
   "codemirror_mode": {
    "name": "ipython",
    "version": 3
   },
   "file_extension": ".py",
   "mimetype": "text/x-python",
   "name": "python",
   "nbconvert_exporter": "python",
   "pygments_lexer": "ipython3",
   "version": "3.7.3"
  }
 },
 "nbformat": 4,
 "nbformat_minor": 2
}
