{
 "cells": [
  {
   "cell_type": "markdown",
   "metadata": {},
   "source": [
    "# Projet final \n",
    "--------\n",
    "----\n",
    "### Dataset : \"Smartphone-Based Recognition of Human Activities and Postural Transitions\"\n",
    "#### - Henri Duhamel ESILV A5 -\n",
    "----"
   ]
  },
  {
   "cell_type": "markdown",
   "metadata": {},
   "source": [
    "### 1. Imports"
   ]
  },
  {
   "cell_type": "code",
   "execution_count": 1,
   "metadata": {
    "scrolled": true
   },
   "outputs": [],
   "source": [
    "import numpy   as np\n",
    "import pandas  as pd\n",
    "import seaborn as sn\n",
    "\n",
    "import matplotlib.pyplot as plt\n",
    "%matplotlib inline\n",
    "\n",
    "from sklearn                 import svm\n",
    "from sklearn.tree            import DecisionTreeClassifier\n",
    "from sklearn.tree            import DecisionTreeClassifier\n",
    "from sklearn.model_selection import train_test_split\n",
    "from sklearn.metrics         import classification_report, confusion_matrix\n",
    "from sklearn.ensemble        import RandomForestClassifier"
   ]
  },
  {
   "cell_type": "code",
   "execution_count": 2,
   "metadata": {},
   "outputs": [],
   "source": [
    "import warnings\n",
    "warnings.filterwarnings(\"ignore\") #used to remove future warnings"
   ]
  },
  {
   "cell_type": "markdown",
   "metadata": {},
   "source": [
    "### 2. Formatage et importation des données"
   ]
  },
  {
   "cell_type": "code",
   "execution_count": 3,
   "metadata": {
    "scrolled": false
   },
   "outputs": [
    {
     "data": {
      "text/html": [
       "<div>\n",
       "<style scoped>\n",
       "    .dataframe tbody tr th:only-of-type {\n",
       "        vertical-align: middle;\n",
       "    }\n",
       "\n",
       "    .dataframe tbody tr th {\n",
       "        vertical-align: top;\n",
       "    }\n",
       "\n",
       "    .dataframe thead th {\n",
       "        text-align: right;\n",
       "    }\n",
       "</style>\n",
       "<table border=\"1\" class=\"dataframe\">\n",
       "  <thead>\n",
       "    <tr style=\"text-align: right;\">\n",
       "      <th></th>\n",
       "      <th>0</th>\n",
       "      <th>1</th>\n",
       "      <th>2</th>\n",
       "      <th>3</th>\n",
       "      <th>4</th>\n",
       "      <th>5</th>\n",
       "      <th>6</th>\n",
       "      <th>7</th>\n",
       "      <th>8</th>\n",
       "      <th>9</th>\n",
       "      <th>...</th>\n",
       "      <th>551</th>\n",
       "      <th>552</th>\n",
       "      <th>553</th>\n",
       "      <th>554</th>\n",
       "      <th>555</th>\n",
       "      <th>556</th>\n",
       "      <th>557</th>\n",
       "      <th>558</th>\n",
       "      <th>559</th>\n",
       "      <th>560</th>\n",
       "    </tr>\n",
       "  </thead>\n",
       "  <tbody>\n",
       "    <tr>\n",
       "      <th>0</th>\n",
       "      <td>0.043580</td>\n",
       "      <td>-0.005970</td>\n",
       "      <td>-0.035054</td>\n",
       "      <td>-0.995381</td>\n",
       "      <td>-0.988366</td>\n",
       "      <td>-0.937382</td>\n",
       "      <td>-0.995007</td>\n",
       "      <td>-0.988816</td>\n",
       "      <td>-0.953325</td>\n",
       "      <td>-0.794796</td>\n",
       "      <td>...</td>\n",
       "      <td>-0.012236</td>\n",
       "      <td>-0.314848</td>\n",
       "      <td>-0.713308</td>\n",
       "      <td>-0.112754</td>\n",
       "      <td>0.030400</td>\n",
       "      <td>-0.464761</td>\n",
       "      <td>-0.018446</td>\n",
       "      <td>-0.841559</td>\n",
       "      <td>0.179913</td>\n",
       "      <td>-0.051718</td>\n",
       "    </tr>\n",
       "    <tr>\n",
       "      <th>1</th>\n",
       "      <td>0.039480</td>\n",
       "      <td>-0.002131</td>\n",
       "      <td>-0.029067</td>\n",
       "      <td>-0.998348</td>\n",
       "      <td>-0.982945</td>\n",
       "      <td>-0.971273</td>\n",
       "      <td>-0.998702</td>\n",
       "      <td>-0.983315</td>\n",
       "      <td>-0.974000</td>\n",
       "      <td>-0.802537</td>\n",
       "      <td>...</td>\n",
       "      <td>0.202804</td>\n",
       "      <td>-0.603199</td>\n",
       "      <td>-0.860677</td>\n",
       "      <td>0.053477</td>\n",
       "      <td>-0.007435</td>\n",
       "      <td>-0.732626</td>\n",
       "      <td>0.703511</td>\n",
       "      <td>-0.845092</td>\n",
       "      <td>0.180261</td>\n",
       "      <td>-0.047436</td>\n",
       "    </tr>\n",
       "    <tr>\n",
       "      <th>2</th>\n",
       "      <td>0.039978</td>\n",
       "      <td>-0.005153</td>\n",
       "      <td>-0.022651</td>\n",
       "      <td>-0.995482</td>\n",
       "      <td>-0.977314</td>\n",
       "      <td>-0.984760</td>\n",
       "      <td>-0.996415</td>\n",
       "      <td>-0.975835</td>\n",
       "      <td>-0.985973</td>\n",
       "      <td>-0.798477</td>\n",
       "      <td>...</td>\n",
       "      <td>0.440079</td>\n",
       "      <td>-0.404427</td>\n",
       "      <td>-0.761847</td>\n",
       "      <td>-0.118559</td>\n",
       "      <td>0.177899</td>\n",
       "      <td>0.100699</td>\n",
       "      <td>0.808529</td>\n",
       "      <td>-0.849230</td>\n",
       "      <td>0.180610</td>\n",
       "      <td>-0.042271</td>\n",
       "    </tr>\n",
       "    <tr>\n",
       "      <th>3</th>\n",
       "      <td>0.039785</td>\n",
       "      <td>-0.011809</td>\n",
       "      <td>-0.028916</td>\n",
       "      <td>-0.996194</td>\n",
       "      <td>-0.988569</td>\n",
       "      <td>-0.993256</td>\n",
       "      <td>-0.996994</td>\n",
       "      <td>-0.988526</td>\n",
       "      <td>-0.993135</td>\n",
       "      <td>-0.798477</td>\n",
       "      <td>...</td>\n",
       "      <td>0.430891</td>\n",
       "      <td>-0.138373</td>\n",
       "      <td>-0.491604</td>\n",
       "      <td>-0.036788</td>\n",
       "      <td>-0.012892</td>\n",
       "      <td>0.640011</td>\n",
       "      <td>-0.485366</td>\n",
       "      <td>-0.848947</td>\n",
       "      <td>0.181907</td>\n",
       "      <td>-0.040826</td>\n",
       "    </tr>\n",
       "    <tr>\n",
       "      <th>4</th>\n",
       "      <td>0.038758</td>\n",
       "      <td>-0.002289</td>\n",
       "      <td>-0.023863</td>\n",
       "      <td>-0.998241</td>\n",
       "      <td>-0.986774</td>\n",
       "      <td>-0.993115</td>\n",
       "      <td>-0.998216</td>\n",
       "      <td>-0.986479</td>\n",
       "      <td>-0.993825</td>\n",
       "      <td>-0.801982</td>\n",
       "      <td>...</td>\n",
       "      <td>0.137735</td>\n",
       "      <td>-0.366214</td>\n",
       "      <td>-0.702490</td>\n",
       "      <td>0.123320</td>\n",
       "      <td>0.122542</td>\n",
       "      <td>0.693578</td>\n",
       "      <td>-0.615971</td>\n",
       "      <td>-0.848164</td>\n",
       "      <td>0.185124</td>\n",
       "      <td>-0.037080</td>\n",
       "    </tr>\n",
       "  </tbody>\n",
       "</table>\n",
       "<p>5 rows × 561 columns</p>\n",
       "</div>"
      ],
      "text/plain": [
       "        0         1         2         3         4         5         6    \\\n",
       "0  0.043580 -0.005970 -0.035054 -0.995381 -0.988366 -0.937382 -0.995007   \n",
       "1  0.039480 -0.002131 -0.029067 -0.998348 -0.982945 -0.971273 -0.998702   \n",
       "2  0.039978 -0.005153 -0.022651 -0.995482 -0.977314 -0.984760 -0.996415   \n",
       "3  0.039785 -0.011809 -0.028916 -0.996194 -0.988569 -0.993256 -0.996994   \n",
       "4  0.038758 -0.002289 -0.023863 -0.998241 -0.986774 -0.993115 -0.998216   \n",
       "\n",
       "        7         8         9    ...       551       552       553       554  \\\n",
       "0 -0.988816 -0.953325 -0.794796  ... -0.012236 -0.314848 -0.713308 -0.112754   \n",
       "1 -0.983315 -0.974000 -0.802537  ...  0.202804 -0.603199 -0.860677  0.053477   \n",
       "2 -0.975835 -0.985973 -0.798477  ...  0.440079 -0.404427 -0.761847 -0.118559   \n",
       "3 -0.988526 -0.993135 -0.798477  ...  0.430891 -0.138373 -0.491604 -0.036788   \n",
       "4 -0.986479 -0.993825 -0.801982  ...  0.137735 -0.366214 -0.702490  0.123320   \n",
       "\n",
       "        555       556       557       558       559       560  \n",
       "0  0.030400 -0.464761 -0.018446 -0.841559  0.179913 -0.051718  \n",
       "1 -0.007435 -0.732626  0.703511 -0.845092  0.180261 -0.047436  \n",
       "2  0.177899  0.100699  0.808529 -0.849230  0.180610 -0.042271  \n",
       "3 -0.012892  0.640011 -0.485366 -0.848947  0.181907 -0.040826  \n",
       "4  0.122542  0.693578 -0.615971 -0.848164  0.185124 -0.037080  \n",
       "\n",
       "[5 rows x 561 columns]"
      ]
     },
     "execution_count": 3,
     "metadata": {},
     "output_type": "execute_result"
    }
   ],
   "source": [
    "data_train = pd.read_csv('Train/X_train.txt', sep=\" \", header=None)\n",
    "data_train.head(5)"
   ]
  },
  {
   "cell_type": "code",
   "execution_count": 4,
   "metadata": {},
   "outputs": [],
   "source": [
    "f = open('Train/y_train.txt', 'r')\n",
    "x_train = f.readlines()  #x_train = y_train.txt file\n",
    "f.close()"
   ]
  },
  {
   "cell_type": "code",
   "execution_count": 5,
   "metadata": {},
   "outputs": [
    {
     "data": {
      "text/html": [
       "<div>\n",
       "<style scoped>\n",
       "    .dataframe tbody tr th:only-of-type {\n",
       "        vertical-align: middle;\n",
       "    }\n",
       "\n",
       "    .dataframe tbody tr th {\n",
       "        vertical-align: top;\n",
       "    }\n",
       "\n",
       "    .dataframe thead th {\n",
       "        text-align: right;\n",
       "    }\n",
       "</style>\n",
       "<table border=\"1\" class=\"dataframe\">\n",
       "  <thead>\n",
       "    <tr style=\"text-align: right;\">\n",
       "      <th></th>\n",
       "      <th>0</th>\n",
       "      <th>1</th>\n",
       "      <th>2</th>\n",
       "      <th>3</th>\n",
       "      <th>4</th>\n",
       "      <th>5</th>\n",
       "      <th>6</th>\n",
       "      <th>7</th>\n",
       "      <th>8</th>\n",
       "      <th>9</th>\n",
       "      <th>...</th>\n",
       "      <th>552</th>\n",
       "      <th>553</th>\n",
       "      <th>554</th>\n",
       "      <th>555</th>\n",
       "      <th>556</th>\n",
       "      <th>557</th>\n",
       "      <th>558</th>\n",
       "      <th>559</th>\n",
       "      <th>560</th>\n",
       "      <th>Class</th>\n",
       "    </tr>\n",
       "  </thead>\n",
       "  <tbody>\n",
       "    <tr>\n",
       "      <th>0</th>\n",
       "      <td>0.043580</td>\n",
       "      <td>-0.005970</td>\n",
       "      <td>-0.035054</td>\n",
       "      <td>-0.995381</td>\n",
       "      <td>-0.988366</td>\n",
       "      <td>-0.937382</td>\n",
       "      <td>-0.995007</td>\n",
       "      <td>-0.988816</td>\n",
       "      <td>-0.953325</td>\n",
       "      <td>-0.794796</td>\n",
       "      <td>...</td>\n",
       "      <td>-0.314848</td>\n",
       "      <td>-0.713308</td>\n",
       "      <td>-0.112754</td>\n",
       "      <td>0.030400</td>\n",
       "      <td>-0.464761</td>\n",
       "      <td>-0.018446</td>\n",
       "      <td>-0.841559</td>\n",
       "      <td>0.179913</td>\n",
       "      <td>-0.051718</td>\n",
       "      <td>5</td>\n",
       "    </tr>\n",
       "    <tr>\n",
       "      <th>1</th>\n",
       "      <td>0.039480</td>\n",
       "      <td>-0.002131</td>\n",
       "      <td>-0.029067</td>\n",
       "      <td>-0.998348</td>\n",
       "      <td>-0.982945</td>\n",
       "      <td>-0.971273</td>\n",
       "      <td>-0.998702</td>\n",
       "      <td>-0.983315</td>\n",
       "      <td>-0.974000</td>\n",
       "      <td>-0.802537</td>\n",
       "      <td>...</td>\n",
       "      <td>-0.603199</td>\n",
       "      <td>-0.860677</td>\n",
       "      <td>0.053477</td>\n",
       "      <td>-0.007435</td>\n",
       "      <td>-0.732626</td>\n",
       "      <td>0.703511</td>\n",
       "      <td>-0.845092</td>\n",
       "      <td>0.180261</td>\n",
       "      <td>-0.047436</td>\n",
       "      <td>5</td>\n",
       "    </tr>\n",
       "    <tr>\n",
       "      <th>2</th>\n",
       "      <td>0.039978</td>\n",
       "      <td>-0.005153</td>\n",
       "      <td>-0.022651</td>\n",
       "      <td>-0.995482</td>\n",
       "      <td>-0.977314</td>\n",
       "      <td>-0.984760</td>\n",
       "      <td>-0.996415</td>\n",
       "      <td>-0.975835</td>\n",
       "      <td>-0.985973</td>\n",
       "      <td>-0.798477</td>\n",
       "      <td>...</td>\n",
       "      <td>-0.404427</td>\n",
       "      <td>-0.761847</td>\n",
       "      <td>-0.118559</td>\n",
       "      <td>0.177899</td>\n",
       "      <td>0.100699</td>\n",
       "      <td>0.808529</td>\n",
       "      <td>-0.849230</td>\n",
       "      <td>0.180610</td>\n",
       "      <td>-0.042271</td>\n",
       "      <td>5</td>\n",
       "    </tr>\n",
       "  </tbody>\n",
       "</table>\n",
       "<p>3 rows × 562 columns</p>\n",
       "</div>"
      ],
      "text/plain": [
       "          0         1         2         3         4         5         6  \\\n",
       "0  0.043580 -0.005970 -0.035054 -0.995381 -0.988366 -0.937382 -0.995007   \n",
       "1  0.039480 -0.002131 -0.029067 -0.998348 -0.982945 -0.971273 -0.998702   \n",
       "2  0.039978 -0.005153 -0.022651 -0.995482 -0.977314 -0.984760 -0.996415   \n",
       "\n",
       "          7         8         9  ...       552       553       554       555  \\\n",
       "0 -0.988816 -0.953325 -0.794796  ... -0.314848 -0.713308 -0.112754  0.030400   \n",
       "1 -0.983315 -0.974000 -0.802537  ... -0.603199 -0.860677  0.053477 -0.007435   \n",
       "2 -0.975835 -0.985973 -0.798477  ... -0.404427 -0.761847 -0.118559  0.177899   \n",
       "\n",
       "        556       557       558       559       560  Class  \n",
       "0 -0.464761 -0.018446 -0.841559  0.179913 -0.051718      5  \n",
       "1 -0.732626  0.703511 -0.845092  0.180261 -0.047436      5  \n",
       "2  0.100699  0.808529 -0.849230  0.180610 -0.042271      5  \n",
       "\n",
       "[3 rows x 562 columns]"
      ]
     },
     "execution_count": 5,
     "metadata": {},
     "output_type": "execute_result"
    }
   ],
   "source": [
    "classification=list(map(lambda x:x.strip(),x_train)) # Remove '\\n' at the end of each element of the list\n",
    "data_train['Class'] = classification #new column (class) added to the dataframe: data\n",
    "data_train.head(3) #On peut voir ci dessous qu'on a bien la class (position) ajoutée au df"
   ]
  },
  {
   "cell_type": "code",
   "execution_count": 6,
   "metadata": {},
   "outputs": [],
   "source": [
    "#Meme manip pour le dossier Test\n",
    "data_test= pd.read_csv('Test/X_test.txt', sep=\" \", header=None)\n",
    "f = open('Test/y_test.txt', 'r')\n",
    "x_test = f.readlines()  #x = y_train.txt file\n",
    "f.close()\n",
    "classification_test=list(map(lambda x:x.strip(),x_test)) # Remove '\\n' at the end of each element of the list\n",
    "data_test['Class'] = classification_test #new column (class) added to the dataframe: data_test"
   ]
  },
  {
   "cell_type": "code",
   "execution_count": 7,
   "metadata": {},
   "outputs": [],
   "source": [
    "x_train = data_train.drop('Class', axis=1)\n",
    "y_train = data_train['Class']\n",
    "x_test  = data_test.drop('Class', axis=1)\n",
    "y_test  = data_test['Class']"
   ]
  },
  {
   "cell_type": "markdown",
   "metadata": {},
   "source": [
    "### 3. Classification des données avec DecisionTreeClassifier"
   ]
  },
  {
   "cell_type": "code",
   "execution_count": 8,
   "metadata": {
    "scrolled": true
   },
   "outputs": [
    {
     "data": {
      "text/plain": [
       "DecisionTreeClassifier(class_weight=None, criterion='gini', max_depth=None,\n",
       "                       max_features=None, max_leaf_nodes=None,\n",
       "                       min_impurity_decrease=0.0, min_impurity_split=None,\n",
       "                       min_samples_leaf=1, min_samples_split=2,\n",
       "                       min_weight_fraction_leaf=0.0, presort=False,\n",
       "                       random_state=None, splitter='best')"
      ]
     },
     "execution_count": 8,
     "metadata": {},
     "output_type": "execute_result"
    }
   ],
   "source": [
    "classifier = DecisionTreeClassifier()\n",
    "classifier.fit(x_train, y_train)"
   ]
  },
  {
   "cell_type": "code",
   "execution_count": 9,
   "metadata": {},
   "outputs": [],
   "source": [
    "y_pred = classifier.predict(x_test)"
   ]
  },
  {
   "cell_type": "code",
   "execution_count": 10,
   "metadata": {},
   "outputs": [
    {
     "data": {
      "image/png": "[encoded data removed]",
      "text/plain": [
       "<Figure size 432x288 with 2 Axes>"
      ]
     },
     "metadata": {
      "needs_background": "light"
     },
     "output_type": "display_data"
    },
    {
     "name": "stdout",
     "output_type": "stream",
     "text": [
      "              precision    recall  f1-score   support\n",
      "\n",
      "           1       0.81      0.74      0.77       496\n",
      "          10       0.50      0.52      0.51        25\n",
      "          11       0.54      0.63      0.58        49\n",
      "          12       0.50      0.48      0.49        27\n",
      "           2       0.64      0.74      0.69       471\n",
      "           3       0.83      0.75      0.79       420\n",
      "           4       0.82      0.79      0.81       508\n",
      "           5       0.83      0.84      0.83       556\n",
      "           6       0.99      0.99      0.99       545\n",
      "           7       0.55      0.70      0.62        23\n",
      "           8       0.89      0.80      0.84        10\n",
      "           9       0.67      0.62      0.65        32\n",
      "\n",
      "    accuracy                           0.81      3162\n",
      "   macro avg       0.71      0.72      0.71      3162\n",
      "weighted avg       0.81      0.81      0.81      3162\n",
      "\n"
     ]
    }
   ],
   "source": [
    "sn.heatmap(confusion_matrix(y_test, y_pred), annot=True, annot_kws={\"size\": 12}, cmap = plt.cm.Reds, fmt='g') \n",
    "sn.set(font_scale = 1.2) \n",
    "plt.show()\n",
    "print(classification_report(y_test, y_pred))"
   ]
  },
  {
   "cell_type": "code",
   "execution_count": 11,
   "metadata": {},
   "outputs": [
    {
     "name": "stdout",
     "output_type": "stream",
     "text": [
      "0.8051865907653384\n"
     ]
    }
   ],
   "source": [
    "dtc_score = classifier.score(x_test,y_test)\n",
    "print(dtc_score)"
   ]
  },
  {
   "cell_type": "markdown",
   "metadata": {},
   "source": [
    "### 4. Classification avec RandomForest"
   ]
  },
  {
   "cell_type": "code",
   "execution_count": 12,
   "metadata": {},
   "outputs": [],
   "source": [
    "RFC = RandomForestClassifier()\n",
    "RFC_classification = RFC.fit(x_train,y_train)\n",
    "RFC_pred = RFC_classification.predict(x_test)"
   ]
  },
  {
   "cell_type": "code",
   "execution_count": 13,
   "metadata": {},
   "outputs": [
    {
     "data": {
      "image/png": "[encoded data removed]",
      "text/plain": [
       "<Figure size 432x288 with 2 Axes>"
      ]
     },
     "metadata": {},
     "output_type": "display_data"
    },
    {
     "name": "stdout",
     "output_type": "stream",
     "text": [
      "              precision    recall  f1-score   support\n",
      "\n",
      "           1       0.82      0.93      0.87       496\n",
      "          10       0.58      0.60      0.59        25\n",
      "          11       0.67      0.67      0.67        49\n",
      "          12       0.61      0.52      0.56        27\n",
      "           2       0.86      0.84      0.85       471\n",
      "           3       0.92      0.81      0.86       420\n",
      "           4       0.88      0.92      0.90       508\n",
      "           5       0.91      0.88      0.90       556\n",
      "           6       1.00      0.99      1.00       545\n",
      "           7       0.76      0.57      0.65        23\n",
      "           8       0.88      0.70      0.78        10\n",
      "           9       0.66      0.66      0.66        32\n",
      "\n",
      "    accuracy                           0.89      3162\n",
      "   macro avg       0.79      0.76      0.77      3162\n",
      "weighted avg       0.89      0.89      0.88      3162\n",
      "\n"
     ]
    }
   ],
   "source": [
    "sn.heatmap(confusion_matrix(y_test, RFC_pred), annot=True, annot_kws={\"size\": 12}, cmap = plt.cm.Greens, fmt='g') \n",
    "sn.set(font_scale = 1.2) \n",
    "plt.show()\n",
    "print(classification_report(y_test,RFC_pred))"
   ]
  },
  {
   "cell_type": "code",
   "execution_count": 14,
   "metadata": {},
   "outputs": [
    {
     "name": "stdout",
     "output_type": "stream",
     "text": [
      "0.8851992409867173\n"
     ]
    }
   ],
   "source": [
    "RFC_score = RFC_classification.score(x_test,y_test)\n",
    "print(RFC_score)"
   ]
  },
  {
   "cell_type": "markdown",
   "metadata": {},
   "source": [
    "### 5. Classification avec LinearSVM"
   ]
  },
  {
   "cell_type": "code",
   "execution_count": 15,
   "metadata": {},
   "outputs": [],
   "source": [
    "lsvm = svm.SVC(kernel='linear')\n",
    "lsvm_clf = lsvm.fit(x_train,y_train)\n",
    "lsvm_pred = lsvm_clf.predict(x_test)"
   ]
  },
  {
   "cell_type": "code",
   "execution_count": 16,
   "metadata": {},
   "outputs": [
    {
     "data": {
      "image/png": "[encoded data removed]",
      "text/plain": [
       "<Figure size 432x288 with 2 Axes>"
      ]
     },
     "metadata": {},
     "output_type": "display_data"
    },
    {
     "name": "stdout",
     "output_type": "stream",
     "text": [
      "              precision    recall  f1-score   support\n",
      "\n",
      "           1       0.96      0.99      0.98       496\n",
      "          10       0.72      0.72      0.72        25\n",
      "          11       0.69      0.67      0.68        49\n",
      "          12       0.72      0.67      0.69        27\n",
      "           2       0.98      0.97      0.97       471\n",
      "           3       0.99      0.98      0.98       420\n",
      "           4       0.96      0.89      0.92       508\n",
      "           5       0.91      0.97      0.94       556\n",
      "           6       1.00      1.00      1.00       545\n",
      "           7       1.00      0.78      0.88        23\n",
      "           8       0.91      1.00      0.95        10\n",
      "           9       0.58      0.66      0.62        32\n",
      "\n",
      "    accuracy                           0.95      3162\n",
      "   macro avg       0.87      0.86      0.86      3162\n",
      "weighted avg       0.95      0.95      0.95      3162\n",
      "\n"
     ]
    }
   ],
   "source": [
    "sn.heatmap(confusion_matrix(y_test, lsvm_pred), annot=True, annot_kws={\"size\": 12}, cmap = plt.cm.Blues, fmt='g') \n",
    "sn.set(font_scale = 1.2) \n",
    "plt.show()\n",
    "print(classification_report(y_test,lsvm_pred))"
   ]
  },
  {
   "cell_type": "code",
   "execution_count": 17,
   "metadata": {},
   "outputs": [
    {
     "name": "stdout",
     "output_type": "stream",
     "text": [
      "0.9522454142947502\n"
     ]
    }
   ],
   "source": [
    "linearSVM_score = lsvm_clf.score(x_test, y_test)\n",
    "print(linearSVM_score)"
   ]
  },
  {
   "cell_type": "markdown",
   "metadata": {},
   "source": [
    "### 6. Comparatifs résultats"
   ]
  },
  {
   "cell_type": "code",
   "execution_count": 18,
   "metadata": {},
   "outputs": [
    {
     "data": {
      "image/png": "[encoded data removed]",
      "text/plain": [
       "<Figure size 432x288 with 1 Axes>"
      ]
     },
     "metadata": {},
     "output_type": "display_data"
    }
   ],
   "source": [
    "scores = [dtc_score, RFC_score, linearSVM_score]\n",
    "names  = [\"DecisionTreeClassifier\",\"RandomForestClassifier\",\"LinearSVM\"]\n",
    "fig    = plt.figure()\n",
    "axis   = fig.add_axes([0,0,1,1])\n",
    "\n",
    "\n",
    "axis.set_title(\"Comparatifs des précisions\")\n",
    "axis.bar(names, scores, color = (0.5,0.3,1,0.6), width=0.4)\n",
    "plt.show()"
   ]
  },
  {
   "cell_type": "markdown",
   "metadata": {},
   "source": [
    "----\n",
    "### 7. Data preprocessing"
   ]
  },
  {
   "cell_type": "markdown",
   "metadata": {},
   "source": [
    "**Ci-dessous, on va \"nettoyer\" le dataset pour ne conserver qu'une partie des colonnes, celles avec les variances les plus élevées.**"
   ]
  },
  {
   "cell_type": "markdown",
   "metadata": {},
   "source": [
    "Bien que le code ci dessous puisse paraître un peu barbare, il n'est pas si compliqué :\n",
    "\n",
    "\n",
    "L'objectif de la boucle \"for\" est de tester chaque modèle (DTC, RFC, SVM) selon un dataframe (train) de plus en plus petit, en effet nous allons calculer la variance de chaque colonne du dataframe et supprimer celles dont la variance est proche de zéro. Nous pourrons donc déterminer par la suite, le nombre de colonnes que l'on peut conserver pour que chaque modèle puisse être effectif, malgré un dataframe plus léger.\n",
    "\n",
    "*Ce processus pourrait être très utile d'un point de vue algorythmique pour réduire les coûts au niveau du temps de compilation ainsi que de stockage (plus le dataframe est petit, plus il est léger et donc moins de cout de stockage au niveau des bdd ou serveurs).*"
   ]
  },
  {
   "cell_type": "markdown",
   "metadata": {},
   "source": [
    "----\n",
    "\n",
    "**LOADING DATA ...**\n",
    "\n",
    "----"
   ]
  },
  {
   "cell_type": "code",
   "execution_count": 19,
   "metadata": {},
   "outputs": [],
   "source": [
    "array_scores_DTC = []\n",
    "array_scores_RFC = []\n",
    "array_scores_SVM = []\n",
    "nb_columns       = []\n",
    "\n",
    "seuil_variance = 0.00\n",
    "for i in range(0, 7, 1):\n",
    "    \n",
    "    variance_list = data_train.var() < seuil_variance\n",
    "    \n",
    "    low_var = []\n",
    "    for i in range(len(variance_list)):\n",
    "        if variance_list[i] == True:\n",
    "            low_var.append(i)\n",
    "            \n",
    "    data_train_bis = data_train\n",
    "    data_test_bis  = data_test\n",
    "\n",
    "    data_train_bis = data_train_bis.drop(columns=low_var)\n",
    "    data_test_bis  = data_test_bis.drop(columns=low_var)\n",
    "    \n",
    "    x_train_bis = data_train_bis.drop('Class', axis=1)\n",
    "    y_train_bis = data_train_bis['Class']\n",
    "    x_test_bis  = data_test_bis.drop('Class', axis=1)\n",
    "    y_test_bis  = data_test_bis['Class']\n",
    "    \n",
    "    #ci dessous, calcul du DTC avec le \"nouveau\" dataframe\n",
    "    classifier_bis = DecisionTreeClassifier()\n",
    "    classifier_bis.fit(x_train_bis, y_train_bis)\n",
    "    y_pred_bis = classifier_bis.predict(x_test_bis)\n",
    "    dtc_score_bis = classifier_bis.score(x_test_bis,y_test_bis)\n",
    "    \n",
    "    #ci dessous, calcul du RFC avec le \"nouveau\" dataframe\n",
    "    RFC_bis = RandomForestClassifier()\n",
    "    RFC_classification_bis = RFC_bis.fit(x_train_bis,y_train_bis)\n",
    "    RFC_pred_bis = RFC_classification_bis.predict(x_test_bis)\n",
    "    RFC_score_bis = RFC_classification_bis.score(x_test_bis,y_test_bis)\n",
    "    \n",
    "    #ci dessous, calcul du SVM avec le \"nouveau\" dataframe\n",
    "    lsvm_bis = svm.SVC(kernel='linear')\n",
    "    lsvm_clf_bis = lsvm_bis.fit(x_train_bis,y_train_bis)\n",
    "    lsvm_pred_bis = lsvm_clf_bis.predict(x_test_bis)\n",
    "    linearSVM_score_bis = lsvm_clf_bis.score(x_test_bis, y_test_bis)\n",
    "    \n",
    "    nb_columns.append(len(data_test_bis.columns))\n",
    "    array_scores_DTC.append(dtc_score_bis)\n",
    "    array_scores_RFC.append(RFC_score_bis)\n",
    "    array_scores_SVM.append(linearSVM_score_bis)\n",
    "    \n",
    "    seuil_variance = seuil_variance + 0.05"
   ]
  },
  {
   "cell_type": "code",
   "execution_count": 20,
   "metadata": {
    "scrolled": false
   },
   "outputs": [
    {
     "data": {
      "image/png": "[encoded data removed]",
      "text/plain": [
       "<Figure size 432x288 with 1 Axes>"
      ]
     },
     "metadata": {},
     "output_type": "display_data"
    }
   ],
   "source": [
    "plt.plot(nb_columns, array_scores_DTC, label=\"DecisionTree\", color=\"red\")\n",
    "plt.plot(nb_columns, array_scores_RFC, label=\"RandomForest\", color=\"green\")\n",
    "plt.plot(nb_columns, array_scores_SVM, label=\"SVM\", color=\"blue\")\n",
    "plt.legend()\n",
    "plt.xlabel(\"Nb of columns\")\n",
    "plt.ylabel(\"Accuracies\")\n",
    "plt.title(\"Précision des modèles selon le nombre de colonnes conservées\")\n",
    "plt.show()"
   ]
  },
  {
   "cell_type": "markdown",
   "metadata": {},
   "source": [
    "#### SVM :\n",
    "On aperçoit via le graphique ci dessus que le modèle SVM est très précis dès 175 colonnes et qu'il ne gagne que très peu de précision entre 175 et 560 colonnes"
   ]
  },
  {
   "cell_type": "markdown",
   "metadata": {},
   "source": [
    "#### RandomForest :\n",
    "On aperçoit que le modèle RFC ne gagne que peu de précision et de manière très linéaire de 100 colonnes à 560. On pourrait donc décider de conserver uniquement les 100 colonnes avec les variances les plus élevées si on ne tient pas à ces 3% de précision qu'il gagne avec 560 colonnes"
   ]
  },
  {
   "cell_type": "markdown",
   "metadata": {},
   "source": [
    "#### DecisionTree :\n",
    "Le modèle DTC connait une précision vers 100 colonnes, qu'il n'améliore réellement qu'à 350 colonnes et plus."
   ]
  }
 ],
 "metadata": {
  "kernelspec": {
   "display_name": "Python 3",
   "language": "python",
   "name": "python3"
  },
  "language_info": {
   "codemirror_mode": {
    "name": "ipython",
    "version": 3
   },
   "file_extension": ".py",
   "mimetype": "text/x-python",
   "name": "python",
   "nbconvert_exporter": "python",
   "pygments_lexer": "ipython3",
   "version": "3.7.3"
  }
 },
 "nbformat": 4,
 "nbformat_minor": 2
}
